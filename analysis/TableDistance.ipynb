{
 "cells": [
  {
   "cell_type": "code",
   "execution_count": 2,
   "metadata": {},
   "outputs": [],
   "source": [
    "import pandas as pd\n",
    "import os\n",
    "\n",
    "assets_dir = os.path.join('assets', 'data')\n",
    "\n",
    "def _load_csv(path):\n",
    "    return pd.read_csv(path, low_memory=False)"
   ]
  },
  {
   "cell_type": "code",
   "execution_count": 16,
   "metadata": {},
   "outputs": [],
   "source": [
    "files = ['dws_wages.csv', 'usbe_students.csv', 'ushe_students.csv', 'ustc_students.csv']\n",
    "\n",
    "dataframes = {}\n",
    "\n",
    "for file in files:\n",
    "    dataframes[file] = _load_csv(os.path.join(assets_dir, file))"
   ]
  },
  {
   "cell_type": "markdown",
   "metadata": {},
   "source": [
    "## Count IDs\n",
    "\n",
    "Get count of all IDs in files list"
   ]
  },
  {
   "cell_type": "code",
   "execution_count": 18,
   "metadata": {},
   "outputs": [
    {
     "data": {
      "text/plain": [
       "(40000, 36135)"
      ]
     },
     "execution_count": 18,
     "metadata": {},
     "output_type": "execute_result"
    }
   ],
   "source": [
    "ids = []\n",
    "for file in dataframes:\n",
    "    ids.extend(dataframes[file].id.tolist())\n",
    "    \n",
    "len(ids), len(set(ids))"
   ]
  },
  {
   "cell_type": "markdown",
   "metadata": {},
   "source": [
    "## Calculate 'Distance' Between Tables\n",
    "\n",
    "Assigning existance of columns to a binary vector for each table, a 'distance' between tables can be calculated."
   ]
  },
  {
   "cell_type": "code",
   "execution_count": 65,
   "metadata": {},
   "outputs": [],
   "source": [
    "from assets.mapping import colmap, local_identifiers\n",
    " \n",
    "\n",
    "def _get_columns(dataframes: dict) -> dict:\n",
    "    columns = {}\n",
    "    for file in dataframes:\n",
    "        columns[file] = _map_columns(dataframes[file].columns.tolist(), file.split('_')[0])\n",
    "    return columns\n",
    "\n",
    "\n",
    "def _map_columns(clist: list, partner: str) -> list:\n",
    "    def _make_local(c:str, partner:str)->str:\n",
    "        if c in local_identifiers:\n",
    "            return partner + '_' + c\n",
    "        return c\n",
    "    fc = []\n",
    "    for col in clist:\n",
    "        if col in colmap.keys():\n",
    "            fc.append(_make_local(colmap[col], partner))\n",
    "    return fc\n",
    "\n",
    "\n",
    "def _define_max_vector(columns: dict) -> list:\n",
    "    cset = set()\n",
    "    for file in columns:\n",
    "        for colname in columns[file]:\n",
    "            cset.add(colname)\n",
    "    return cset\n",
    "\n",
    "\n",
    "def _convert_collist_to_vector(clist: list, maxv: set) -> dict:\n",
    "    v = {}\n",
    "    for c in maxv:\n",
    "        v[c] = int(c in clist)\n",
    "    return v\n",
    "\n",
    "def make_col_frame(dataframes: dict) -> dict:\n",
    "    vectors = {}\n",
    "    columns = _get_columns(dataframes)\n",
    "    max_v = _define_max_vector(columns)\n",
    "    for file in dataframes:\n",
    "        vectors[file] = _convert_collist_to_vector(columns[file], max_v)\n",
    "    \n",
    "    findex = {}\n",
    "    [findex.update({file:i}) for i, file in enumerate(columns.keys())]\n",
    "    \n",
    "    return pd.DataFrame.from_dict(vectors, orient='index'), findex\n",
    "    "
   ]
  },
  {
   "cell_type": "code",
   "execution_count": 66,
   "metadata": {},
   "outputs": [],
   "source": [
    "dframe, findex = make_col_frame(dataframes)"
   ]
  },
  {
   "cell_type": "code",
   "execution_count": 67,
   "metadata": {},
   "outputs": [
    {
     "data": {
      "text/html": [
       "<div>\n",
       "<style scoped>\n",
       "    .dataframe tbody tr th:only-of-type {\n",
       "        vertical-align: middle;\n",
       "    }\n",
       "\n",
       "    .dataframe tbody tr th {\n",
       "        vertical-align: top;\n",
       "    }\n",
       "\n",
       "    .dataframe thead th {\n",
       "        text-align: right;\n",
       "    }\n",
       "</style>\n",
       "<table border=\"1\" class=\"dataframe\">\n",
       "  <thead>\n",
       "    <tr style=\"text-align: right;\">\n",
       "      <th></th>\n",
       "      <th>first_name_pool</th>\n",
       "      <th>usbe_student_id_pool</th>\n",
       "      <th>ushe_student_id_pool</th>\n",
       "      <th>last_name_pool</th>\n",
       "      <th>birth_date_pool</th>\n",
       "      <th>ssid_pool</th>\n",
       "      <th>ustc_student_id_pool</th>\n",
       "      <th>ssn_pool</th>\n",
       "      <th>gender_pool</th>\n",
       "      <th>middle_name_pool</th>\n",
       "    </tr>\n",
       "  </thead>\n",
       "  <tbody>\n",
       "    <tr>\n",
       "      <th>dws_wages.csv</th>\n",
       "      <td>1</td>\n",
       "      <td>0</td>\n",
       "      <td>0</td>\n",
       "      <td>1</td>\n",
       "      <td>0</td>\n",
       "      <td>0</td>\n",
       "      <td>0</td>\n",
       "      <td>1</td>\n",
       "      <td>0</td>\n",
       "      <td>1</td>\n",
       "    </tr>\n",
       "    <tr>\n",
       "      <th>usbe_students.csv</th>\n",
       "      <td>1</td>\n",
       "      <td>1</td>\n",
       "      <td>0</td>\n",
       "      <td>1</td>\n",
       "      <td>1</td>\n",
       "      <td>1</td>\n",
       "      <td>0</td>\n",
       "      <td>0</td>\n",
       "      <td>1</td>\n",
       "      <td>1</td>\n",
       "    </tr>\n",
       "    <tr>\n",
       "      <th>ushe_students.csv</th>\n",
       "      <td>1</td>\n",
       "      <td>0</td>\n",
       "      <td>1</td>\n",
       "      <td>1</td>\n",
       "      <td>1</td>\n",
       "      <td>1</td>\n",
       "      <td>0</td>\n",
       "      <td>1</td>\n",
       "      <td>1</td>\n",
       "      <td>1</td>\n",
       "    </tr>\n",
       "    <tr>\n",
       "      <th>ustc_students.csv</th>\n",
       "      <td>1</td>\n",
       "      <td>0</td>\n",
       "      <td>0</td>\n",
       "      <td>1</td>\n",
       "      <td>1</td>\n",
       "      <td>0</td>\n",
       "      <td>1</td>\n",
       "      <td>1</td>\n",
       "      <td>1</td>\n",
       "      <td>1</td>\n",
       "    </tr>\n",
       "  </tbody>\n",
       "</table>\n",
       "</div>"
      ],
      "text/plain": [
       "                   first_name_pool  usbe_student_id_pool  \\\n",
       "dws_wages.csv                    1                     0   \n",
       "usbe_students.csv                1                     1   \n",
       "ushe_students.csv                1                     0   \n",
       "ustc_students.csv                1                     0   \n",
       "\n",
       "                   ushe_student_id_pool  last_name_pool  birth_date_pool  \\\n",
       "dws_wages.csv                         0               1                0   \n",
       "usbe_students.csv                     0               1                1   \n",
       "ushe_students.csv                     1               1                1   \n",
       "ustc_students.csv                     0               1                1   \n",
       "\n",
       "                   ssid_pool  ustc_student_id_pool  ssn_pool  gender_pool  \\\n",
       "dws_wages.csv              0                     0         1            0   \n",
       "usbe_students.csv          1                     0         0            1   \n",
       "ushe_students.csv          1                     0         1            1   \n",
       "ustc_students.csv          0                     1         1            1   \n",
       "\n",
       "                   middle_name_pool  \n",
       "dws_wages.csv                     1  \n",
       "usbe_students.csv                 1  \n",
       "ushe_students.csv                 1  \n",
       "ustc_students.csv                 1  "
      ]
     },
     "execution_count": 67,
     "metadata": {},
     "output_type": "execute_result"
    }
   ],
   "source": [
    "dframe"
   ]
  },
  {
   "cell_type": "code",
   "execution_count": 71,
   "metadata": {},
   "outputs": [
    {
     "data": {
      "text/plain": [
       "array([1, 0, 0, 1, 0, 0, 0, 1, 0, 1])"
      ]
     },
     "execution_count": 71,
     "metadata": {},
     "output_type": "execute_result"
    }
   ],
   "source": [
    "dframe.loc['dws_wages.csv'].to_numpy()"
   ]
  },
  {
   "cell_type": "code",
   "execution_count": 82,
   "metadata": {},
   "outputs": [],
   "source": [
    "import numpy as np\n",
    "\n",
    "def calc_distance(dframe: pd.DataFrame, index_a: str, index_b: str) -> float:\n",
    "    v1 = dframe.loc[index_a].to_numpy()\n",
    "    v2 = dframe.loc[index_b].to_numpy()\n",
    "    return np.linalg.norm(v2 - v1)\n",
    "\n",
    "\n",
    "def get_distances_for_order(dframe: pd.DataFrame, runorder:list):\n",
    "    dist = []\n",
    "    for i in range(len(runorder) - 1):\n",
    "        dist.append(\n",
    "            calc_distance(dframe, runorder[i], runorder[i+1])\n",
    "        )\n",
    "    return dist"
   ]
  },
  {
   "cell_type": "code",
   "execution_count": 84,
   "metadata": {},
   "outputs": [
    {
     "data": {
      "text/plain": [
       "[2.23606797749979, 1.7320508075688772, 1.7320508075688772]"
      ]
     },
     "execution_count": 84,
     "metadata": {},
     "output_type": "execute_result"
    }
   ],
   "source": [
    "get_distances_for_order(dframe, files)"
   ]
  },
  {
   "cell_type": "markdown",
   "metadata": {},
   "source": [
    "### Calculate Distances in Report"
   ]
  },
  {
   "cell_type": "code",
   "execution_count": 94,
   "metadata": {},
   "outputs": [],
   "source": [
    "import json\n",
    "with open('test_report.json', 'r') as file:\n",
    "    rep = json.load(file)\n",
    "    \n",
    "for r in rep:\n",
    "    r['distances'] = get_distances_for_order(dframe, [x+'.csv' for x in r['name'].split('-')])\n",
    "    r['max_d'] = max(r['distances'])\n",
    "    r['avg_d'] = sum(r['distances']) / len(r['distances'])"
   ]
  },
  {
   "cell_type": "markdown",
   "metadata": {},
   "source": [
    "Convert to dataframe for plotting & analysis"
   ]
  },
  {
   "cell_type": "code",
   "execution_count": 98,
   "metadata": {},
   "outputs": [
    {
     "data": {
      "text/html": [
       "<div>\n",
       "<style scoped>\n",
       "    .dataframe tbody tr th:only-of-type {\n",
       "        vertical-align: middle;\n",
       "    }\n",
       "\n",
       "    .dataframe tbody tr th {\n",
       "        vertical-align: top;\n",
       "    }\n",
       "\n",
       "    .dataframe thead th {\n",
       "        text-align: right;\n",
       "    }\n",
       "</style>\n",
       "<table border=\"1\" class=\"dataframe\">\n",
       "  <thead>\n",
       "    <tr style=\"text-align: right;\">\n",
       "      <th></th>\n",
       "      <th>count_documents</th>\n",
       "      <th>count_vectors</th>\n",
       "      <th>max_d</th>\n",
       "      <th>avg_d</th>\n",
       "    </tr>\n",
       "  </thead>\n",
       "  <tbody>\n",
       "    <tr>\n",
       "      <th>0</th>\n",
       "      <td>29284</td>\n",
       "      <td>29346</td>\n",
       "      <td>2.236068</td>\n",
       "      <td>1.900057</td>\n",
       "    </tr>\n",
       "    <tr>\n",
       "      <th>1</th>\n",
       "      <td>38659</td>\n",
       "      <td>38735</td>\n",
       "      <td>2.236068</td>\n",
       "      <td>1.989373</td>\n",
       "    </tr>\n",
       "    <tr>\n",
       "      <th>2</th>\n",
       "      <td>38006</td>\n",
       "      <td>38006</td>\n",
       "      <td>2.000000</td>\n",
       "      <td>1.910684</td>\n",
       "    </tr>\n",
       "    <tr>\n",
       "      <th>3</th>\n",
       "      <td>38006</td>\n",
       "      <td>38006</td>\n",
       "      <td>2.000000</td>\n",
       "      <td>1.910684</td>\n",
       "    </tr>\n",
       "    <tr>\n",
       "      <th>4</th>\n",
       "      <td>38617</td>\n",
       "      <td>38617</td>\n",
       "      <td>2.000000</td>\n",
       "      <td>1.821367</td>\n",
       "    </tr>\n",
       "  </tbody>\n",
       "</table>\n",
       "</div>"
      ],
      "text/plain": [
       "   count_documents  count_vectors     max_d     avg_d\n",
       "0            29284          29346  2.236068  1.900057\n",
       "1            38659          38735  2.236068  1.989373\n",
       "2            38006          38006  2.000000  1.910684\n",
       "3            38006          38006  2.000000  1.910684\n",
       "4            38617          38617  2.000000  1.821367"
      ]
     },
     "execution_count": 98,
     "metadata": {},
     "output_type": "execute_result"
    }
   ],
   "source": [
    "def _get_keys(d:dict, keys:list):\n",
    "    nd = {}\n",
    "    for k in keys:\n",
    "        nd[k] = d[k]\n",
    "    return nd\n",
    "\n",
    "vals = [_get_keys(r, ['count_documents', 'count_vectors', 'max_d', 'avg_d']) for r in rep]\n",
    "vals = pd.DataFrame.from_dict(vals)\n",
    "vals.head()"
   ]
  },
  {
   "cell_type": "markdown",
   "metadata": {},
   "source": [
    "### Documents vs max, avg distance"
   ]
  },
  {
   "cell_type": "code",
   "execution_count": 105,
   "metadata": {},
   "outputs": [
    {
     "data": {
      "text/plain": [
       "<AxesSubplot:xlabel='avg_d'>"
      ]
     },
     "execution_count": 105,
     "metadata": {},
     "output_type": "execute_result"
    },
    {
     "data": {
      "image/png": "[encoded data removed]",
      "text/plain": [
       "<Figure size 432x288 with 1 Axes>"
      ]
     },
     "metadata": {
      "needs_background": "light"
     },
     "output_type": "display_data"
    },
    {
     "data": {
      "image/png": "[encoded data removed]",
      "text/plain": [
       "<Figure size 432x288 with 1 Axes>"
      ]
     },
     "metadata": {
      "needs_background": "light"
     },
     "output_type": "display_data"
    }
   ],
   "source": [
    "vals.plot('max_d', 'count_documents', 'bar')\n",
    "vals.plot('avg_d', 'count_documents', 'bar')"
   ]
  },
  {
   "cell_type": "markdown",
   "metadata": {},
   "source": [
    "### Vectors vs max, avg distance"
   ]
  },
  {
   "cell_type": "code",
   "execution_count": 106,
   "metadata": {},
   "outputs": [
    {
     "data": {
      "text/plain": [
       "<AxesSubplot:xlabel='avg_d'>"
      ]
     },
     "execution_count": 106,
     "metadata": {},
     "output_type": "execute_result"
    },
    {
     "data": {
      "image/png": "[encoded data removed]",
      "text/plain": [
       "<Figure size 432x288 with 1 Axes>"
      ]
     },
     "metadata": {
      "needs_background": "light"
     },
     "output_type": "display_data"
    },
    {
     "data": {
      "image/png": "[encoded data removed]",
      "text/plain": [
       "<Figure size 432x288 with 1 Axes>"
      ]
     },
     "metadata": {
      "needs_background": "light"
     },
     "output_type": "display_data"
    }
   ],
   "source": [
    "vals.plot('max_d', 'count_vectors', 'bar')\n",
    "vals.plot('avg_d', 'count_vectors', 'bar')"
   ]
  },
  {
   "cell_type": "markdown",
   "metadata": {},
   "source": [
    "**Summary** Column vector difference, traversal, is not a good indicator of error."
   ]
  },
  {
   "cell_type": "code",
   "execution_count": null,
   "metadata": {},
   "outputs": [],
   "source": []
  }
 ],
 "metadata": {
  "kernelspec": {
   "display_name": "Python 3",
   "language": "python",
   "name": "python3"
  },
  "language_info": {
   "codemirror_mode": {
    "name": "ipython",
    "version": 3
   },
   "file_extension": ".py",
   "mimetype": "text/x-python",
   "name": "python",
   "nbconvert_exporter": "python",
   "pygments_lexer": "ipython3",
   "version": "3.8.6"
  }
 },
 "nbformat": 4,
 "nbformat_minor": 4
}
