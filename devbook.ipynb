{
 "cells": [
  {
   "cell_type": "code",
   "execution_count": 10,
   "metadata": {},
   "outputs": [],
   "source": [
    "import pandas as pd\n",
    "import os\n",
    ", \n",
    "from utils.models import *"
   ]
  },
  {
   "cell_type": "markdown",
   "metadata": {},
   "source": [
    "## Ingest\n",
    "Bring .csv into the system"
   ]
  },
  {
   "cell_type": "code",
   "execution_count": 41,
   "metadata": {},
   "outputs": [
    {
     "data": {
      "text/plain": [
       "['dws_wages.csv',\n",
       " 'usbe_students.csv',\n",
       " 'ushe_students.csv',\n",
       " 'ustc_students.csv']"
      ]
     },
     "execution_count": 41,
     "metadata": {},
     "output_type": "execute_result"
    }
   ],
   "source": [
    "from ingest import load_file\n",
    "os.listdir('assets/data')"
   ]
  },
  {
   "cell_type": "code",
   "execution_count": 42,
   "metadata": {},
   "outputs": [],
   "source": [
    "load_file('assets/data/dws_wages.csv', 'dws_wages')\n",
    "load_file('assets/data/usbe_students.csv', 'usbe_students')\n",
    "load_file('assets/data/ustc_students.csv', 'ustc_students')\n",
    "load_file('assets/data/ushe_students.csv', 'ushe_students')"
   ]
  },
  {
   "cell_type": "markdown",
   "metadata": {},
   "source": [
    "## Linking Steps\n",
    "\n",
    "Process of Record Linkage\n",
    "\n",
    "0. Load\n",
    "1. Preprocess\n",
    "2. Index\n",
    "3. Compare\n",
    "4. Classify\n",
    "5. Evaluate\n",
    "6. Update (Post MPI - Adding new information, new MPI, to MPI Master Record)"
   ]
  },
  {
   "cell_type": "markdown",
   "metadata": {},
   "source": [
    "### Master Person Architectures\n",
    "Visualize data architecture store of MPI raw records.  NOTE: data may not be present in all database options.  Use whichever cell aligns with configured loading behavior."
   ]
  },
  {
   "cell_type": "markdown",
   "metadata": {},
   "source": [
    "**SQL** View"
   ]
  },
  {
   "cell_type": "code",
   "execution_count": 15,
   "metadata": {},
   "outputs": [
    {
     "ename": "NameError",
     "evalue": "name 'pd' is not defined",
     "output_type": "error",
     "traceback": [
      "\u001b[0;31m---------------------------------------------------------------------------\u001b[0m",
      "\u001b[0;31mNameError\u001b[0m                                 Traceback (most recent call last)",
      "\u001b[0;32m<ipython-input-15-e25b2c014760>\u001b[0m in \u001b[0;36m<module>\u001b[0;34m\u001b[0m\n\u001b[1;32m      9\u001b[0m     ).fetchone()\n\u001b[1;32m     10\u001b[0m \u001b[0mcolumns\u001b[0m \u001b[0;34m=\u001b[0m \u001b[0;34m(\u001b[0m\u001b[0;34m'mpi'\u001b[0m\u001b[0;34m,\u001b[0m \u001b[0;34m'field'\u001b[0m\u001b[0;34m,\u001b[0m \u001b[0;34m'value'\u001b[0m\u001b[0;34m,\u001b[0m \u001b[0;34m'score'\u001b[0m\u001b[0;34m,\u001b[0m \u001b[0;34m'guid'\u001b[0m\u001b[0;34m)\u001b[0m\u001b[0;34m\u001b[0m\u001b[0;34m\u001b[0m\u001b[0m\n\u001b[0;32m---> 11\u001b[0;31m \u001b[0mpd\u001b[0m\u001b[0;34m.\u001b[0m\u001b[0mDataFrame\u001b[0m\u001b[0;34m(\u001b[0m\u001b[0mresult\u001b[0m\u001b[0;34m,\u001b[0m \u001b[0mcolumns\u001b[0m\u001b[0;34m=\u001b[0m\u001b[0mcolumns\u001b[0m\u001b[0;34m)\u001b[0m\u001b[0;34m\u001b[0m\u001b[0;34m\u001b[0m\u001b[0m\n\u001b[0m",
      "\u001b[0;31mNameError\u001b[0m: name 'pd' is not defined"
     ]
    }
   ],
   "source": [
    "from utils.db import get_session\n",
    "\n",
    "with get_session() as session:\n",
    "    result = session.execute(\n",
    "        'SELECT * FROM master_person_long LIMIT 5'\n",
    "    ).fetchall()\n",
    "    count_mpi = session.execute(\n",
    "        'SELECT COUNT(DISTINCT(mpi)) FROM master_person_long'\n",
    "    ).fetchone()\n",
    "columns = ('mpi', 'field', 'value', 'score', 'guid')\n",
    "pd.DataFrame(result, columns=columns)"
   ]
  },
  {
   "cell_type": "code",
   "execution_count": null,
   "metadata": {},
   "outputs": [],
   "source": [
    "print('Total MPI in system: ', count_mpi[0])"
   ]
  },
  {
   "cell_type": "markdown",
   "metadata": {},
   "source": [
    "**NoSQL** View"
   ]
  },
  {
   "cell_type": "code",
   "execution_count": 167,
   "metadata": {},
   "outputs": [
    {
     "name": "stdout",
     "output_type": "stream",
     "text": [
      "{\n",
      "  \"_id\": \"5fc19f1b6446afb4012f1442\",\n",
      "  \"mpi\": \"5386226-15516056-3085644-6613059\",\n",
      "  \"sources\": [\n",
      "    {\n",
      "      \"guid\": 2228219139166664180,\n",
      "      \"score\": 0.0,\n",
      "      \"fields\": [\n",
      "        {\n",
      "          \"fieldname\": \"ssn_pool\",\n",
      "          \"value\": 885713242\n",
      "        },\n",
      "        {\n",
      "          \"fieldname\": \"last_name_pool\",\n",
      "          \"value\": \"neddo\"\n",
      "        },\n",
      "        {\n",
      "          \"fieldname\": \"first_name_pool\",\n",
      "          \"value\": \"giniveve dee\"\n",
      "        },\n",
      "        {\n",
      "          \"fieldname\": \"middle_name_pool\",\n",
      "          \"value\": \"sky marie\"\n",
      "        }\n",
      "      ]\n",
      "    }\n",
      "  ]\n",
      "}\n"
     ]
    }
   ],
   "source": [
    "from utils.db import get_mongo\n",
    "import json\n",
    "\n",
    "db = get_mongo()\n",
    "count_docs = db.raw.count_documents({})\n",
    "x = db.raw.find_one({})\n",
    "x['_id'] = str(x['_id'])\n",
    "\n",
    "print(json.dumps(x, indent=2))"
   ]
  },
  {
   "cell_type": "code",
   "execution_count": 72,
   "metadata": {
    "scrolled": true
   },
   "outputs": [
    {
     "data": {
      "text/plain": [
       "1"
      ]
     },
     "execution_count": 72,
     "metadata": {},
     "output_type": "execute_result"
    }
   ],
   "source": [
    "# Delete all records (skip if not needed)\n",
    "d = db.raw.delete_many({})\n",
    "d.deleted_count"
   ]
  },
  {
   "cell_type": "code",
   "execution_count": 168,
   "metadata": {},
   "outputs": [
    {
     "name": "stdout",
     "output_type": "stream",
     "text": [
      "Total MPI in system:  28656\n"
     ]
    }
   ],
   "source": [
    "print('Total MPI in system: ', count_docs)"
   ]
  },
  {
   "cell_type": "markdown",
   "metadata": {},
   "source": [
    "## Prepare Data\n",
    "\n",
    "Prepare identity view (MPI vectors) and data view (distinct mapped columns from source)"
   ]
  },
  {
   "cell_type": "code",
   "execution_count": 171,
   "metadata": {},
   "outputs": [],
   "source": [
    "source_tablename = 'usbe_students'\n",
    "# source_tablename = 'ustc_students'\n",
    "# source_tablename = 'ushe_students'\n",
    "# source_tablename = 'dws_wages'"
   ]
  },
  {
   "cell_type": "code",
   "execution_count": 172,
   "metadata": {},
   "outputs": [],
   "source": [
    "from utils.db import query_db, get_db\n",
    "from mpi.prepare import create_data_view, create_identity_view\n",
    "\n",
    "raw, subset = create_data_view(source_tablename)\n",
    "dview = subset.drop_duplicates()\n",
    "iview = create_identity_view(mapped_columns=dview.columns.to_list())"
   ]
  },
  {
   "cell_type": "markdown",
   "metadata": {},
   "source": [
    "### TESTING ONLY (Performance Option / Seeding)\n",
    "Check here for potential for match.  If a match is impossible on available fields, can circumvent the linkage process and generate the MPI's here."
   ]
  },
  {
   "cell_type": "code",
   "execution_count": 173,
   "metadata": {},
   "outputs": [
    {
     "name": "stdout",
     "output_type": "stream",
     "text": [
      "Match available.  Proceed with linking process.\n"
     ]
    }
   ],
   "source": [
    "# Check for match availability.  If not, halt process and create MPIs\n",
    "from mpi.link import is_match_available\n",
    "from mpi.update import generate_mpi, write_mpi_data, gen_mpi_insert\n",
    "from mpi.update import update_mpi_vector_table\n",
    "from mpi.preprocess import clean_raw\n",
    "\n",
    "\n",
    "if is_match_available(dview, iview):\n",
    "    print('Match available.  Proceed with linking process.')\n",
    "else:\n",
    "    print('Match unavailable.  Generated MPIs for data view.')\n",
    "    temp = generate_mpi(\n",
    "        clean_raw(dview)\n",
    "    )\n",
    "    write_mpi_data(gen_mpi_insert(temp))\n",
    "    update_mpi_vector_table()\n",
    "    \n",
    "    # Recreate a view from the MPI table with valid identity data\n",
    "    iview = create_identity_view(mapped_columns=dview.columns.tolist())\n",
    "    "
   ]
  },
  {
   "cell_type": "code",
   "execution_count": 174,
   "metadata": {},
   "outputs": [
    {
     "data": {
      "text/html": [
       "<div>\n",
       "<style scoped>\n",
       "    .dataframe tbody tr th:only-of-type {\n",
       "        vertical-align: middle;\n",
       "    }\n",
       "\n",
       "    .dataframe tbody tr th {\n",
       "        vertical-align: top;\n",
       "    }\n",
       "\n",
       "    .dataframe thead th {\n",
       "        text-align: right;\n",
       "    }\n",
       "</style>\n",
       "<table border=\"1\" class=\"dataframe\">\n",
       "  <thead>\n",
       "    <tr style=\"text-align: right;\">\n",
       "      <th></th>\n",
       "      <th>index</th>\n",
       "      <th>BIRTH_DATE</th>\n",
       "      <th>FIRST_ENTERED_US</th>\n",
       "      <th>FIRST_NAME</th>\n",
       "      <th>GENDER</th>\n",
       "      <th>LAST_NAME</th>\n",
       "      <th>MIDDLE_NAME</th>\n",
       "      <th>SSID</th>\n",
       "      <th>STUDENT_ID</th>\n",
       "      <th>id</th>\n",
       "      <th>guid</th>\n",
       "    </tr>\n",
       "  </thead>\n",
       "  <tbody>\n",
       "    <tr>\n",
       "      <th>0</th>\n",
       "      <td>0</td>\n",
       "      <td>1/3/1856</td>\n",
       "      <td>17-FEB-09 12.00.00.000000000 AM</td>\n",
       "      <td>Jasmyn Rei</td>\n",
       "      <td>n</td>\n",
       "      <td>Zitzman</td>\n",
       "      <td>Adrianne</td>\n",
       "      <td>0x33e5fc3c0x67cbf878</td>\n",
       "      <td>529342.0</td>\n",
       "      <td>74093</td>\n",
       "      <td>947364508865552880</td>\n",
       "    </tr>\n",
       "  </tbody>\n",
       "</table>\n",
       "</div>"
      ],
      "text/plain": [
       "   index BIRTH_DATE                 FIRST_ENTERED_US  FIRST_NAME GENDER  \\\n",
       "0      0   1/3/1856  17-FEB-09 12.00.00.000000000 AM  Jasmyn Rei      n   \n",
       "\n",
       "  LAST_NAME MIDDLE_NAME                  SSID  STUDENT_ID     id  \\\n",
       "0   Zitzman    Adrianne  0x33e5fc3c0x67cbf878    529342.0  74093   \n",
       "\n",
       "                 guid  \n",
       "0  947364508865552880  "
      ]
     },
     "execution_count": 174,
     "metadata": {},
     "output_type": "execute_result"
    }
   ],
   "source": [
    "raw.head(1)"
   ]
  },
  {
   "cell_type": "code",
   "execution_count": 175,
   "metadata": {},
   "outputs": [
    {
     "data": {
      "text/html": [
       "<div>\n",
       "<style scoped>\n",
       "    .dataframe tbody tr th:only-of-type {\n",
       "        vertical-align: middle;\n",
       "    }\n",
       "\n",
       "    .dataframe tbody tr th {\n",
       "        vertical-align: top;\n",
       "    }\n",
       "\n",
       "    .dataframe thead th {\n",
       "        text-align: right;\n",
       "    }\n",
       "</style>\n",
       "<table border=\"1\" class=\"dataframe\">\n",
       "  <thead>\n",
       "    <tr style=\"text-align: right;\">\n",
       "      <th></th>\n",
       "      <th>birth_date_pool</th>\n",
       "      <th>first_name_pool</th>\n",
       "      <th>gender_pool</th>\n",
       "      <th>last_name_pool</th>\n",
       "      <th>middle_name_pool</th>\n",
       "      <th>ssid_pool</th>\n",
       "      <th>usbe_student_id_pool</th>\n",
       "      <th>guid</th>\n",
       "    </tr>\n",
       "  </thead>\n",
       "  <tbody>\n",
       "    <tr>\n",
       "      <th>0</th>\n",
       "      <td>1/3/1856</td>\n",
       "      <td>Jasmyn Rei</td>\n",
       "      <td>n</td>\n",
       "      <td>Zitzman</td>\n",
       "      <td>Adrianne</td>\n",
       "      <td>0x33e5fc3c0x67cbf878</td>\n",
       "      <td>529342.0</td>\n",
       "      <td>947364508865552880</td>\n",
       "    </tr>\n",
       "  </tbody>\n",
       "</table>\n",
       "</div>"
      ],
      "text/plain": [
       "  birth_date_pool first_name_pool gender_pool last_name_pool middle_name_pool  \\\n",
       "0        1/3/1856      Jasmyn Rei           n        Zitzman         Adrianne   \n",
       "\n",
       "              ssid_pool  usbe_student_id_pool                guid  \n",
       "0  0x33e5fc3c0x67cbf878              529342.0  947364508865552880  "
      ]
     },
     "execution_count": 175,
     "metadata": {},
     "output_type": "execute_result"
    }
   ],
   "source": [
    "dview.head(1)"
   ]
  },
  {
   "cell_type": "code",
   "execution_count": 176,
   "metadata": {},
   "outputs": [
    {
     "data": {
      "text/html": [
       "<div>\n",
       "<style scoped>\n",
       "    .dataframe tbody tr th:only-of-type {\n",
       "        vertical-align: middle;\n",
       "    }\n",
       "\n",
       "    .dataframe tbody tr th {\n",
       "        vertical-align: top;\n",
       "    }\n",
       "\n",
       "    .dataframe thead th {\n",
       "        text-align: right;\n",
       "    }\n",
       "</style>\n",
       "<table border=\"1\" class=\"dataframe\">\n",
       "  <thead>\n",
       "    <tr style=\"text-align: right;\">\n",
       "      <th></th>\n",
       "      <th>first_name_pool</th>\n",
       "      <th>ssid_pool</th>\n",
       "      <th>birth_date_pool</th>\n",
       "      <th>gender_pool</th>\n",
       "      <th>last_name_pool</th>\n",
       "      <th>middle_name_pool</th>\n",
       "      <th>freq_score</th>\n",
       "      <th>mpi</th>\n",
       "    </tr>\n",
       "  </thead>\n",
       "  <tbody>\n",
       "    <tr>\n",
       "      <th>0</th>\n",
       "      <td>giniveve dee</td>\n",
       "      <td>None</td>\n",
       "      <td>None</td>\n",
       "      <td>None</td>\n",
       "      <td>neddo</td>\n",
       "      <td>sky marie</td>\n",
       "      <td>1.0</td>\n",
       "      <td>5386226-15516056-3085644-6613059</td>\n",
       "    </tr>\n",
       "  </tbody>\n",
       "</table>\n",
       "</div>"
      ],
      "text/plain": [
       "  first_name_pool ssid_pool birth_date_pool gender_pool last_name_pool  \\\n",
       "0    giniveve dee      None            None        None          neddo   \n",
       "\n",
       "  middle_name_pool  freq_score                               mpi  \n",
       "0        sky marie         1.0  5386226-15516056-3085644-6613059  "
      ]
     },
     "execution_count": 176,
     "metadata": {},
     "output_type": "execute_result"
    }
   ],
   "source": [
    "iview.head(1)"
   ]
  },
  {
   "cell_type": "code",
   "execution_count": 177,
   "metadata": {},
   "outputs": [
    {
     "data": {
      "text/plain": [
       "28656"
      ]
     },
     "execution_count": 177,
     "metadata": {},
     "output_type": "execute_result"
    }
   ],
   "source": [
    "len(iview)"
   ]
  },
  {
   "cell_type": "markdown",
   "metadata": {},
   "source": [
    "## Building record linkage and mpi classification"
   ]
  },
  {
   "cell_type": "code",
   "execution_count": 178,
   "metadata": {},
   "outputs": [],
   "source": [
    "from mpi.preprocess import clean_raw, match_dtype"
   ]
  },
  {
   "cell_type": "markdown",
   "metadata": {},
   "source": [
    "### Preprocessing\n",
    "\n",
    "Standardize data across data and identity views."
   ]
  },
  {
   "cell_type": "code",
   "execution_count": 179,
   "metadata": {},
   "outputs": [],
   "source": [
    "# Match Dtypes - Align data types prior to cleaning.\n",
    "#    This helps the cleaner by segmenting string/object and numeric fields\n",
    "\n",
    "# Cast columns to matching datatypes for comparisons later on\n",
    "source_data, id_data = match_dtype(dview, iview)  \n",
    "\n",
    "# Clean data and re-index comparison.\n",
    "subset = clean_raw(subset)\n",
    "source_data = clean_raw(source_data)\n",
    "id_data = clean_raw(id_data)"
   ]
  },
  {
   "cell_type": "code",
   "execution_count": 180,
   "metadata": {},
   "outputs": [
    {
     "data": {
      "text/html": [
       "<div>\n",
       "<style scoped>\n",
       "    .dataframe tbody tr th:only-of-type {\n",
       "        vertical-align: middle;\n",
       "    }\n",
       "\n",
       "    .dataframe tbody tr th {\n",
       "        vertical-align: top;\n",
       "    }\n",
       "\n",
       "    .dataframe thead th {\n",
       "        text-align: right;\n",
       "    }\n",
       "</style>\n",
       "<table border=\"1\" class=\"dataframe\">\n",
       "  <thead>\n",
       "    <tr style=\"text-align: right;\">\n",
       "      <th></th>\n",
       "      <th>birth_date_pool</th>\n",
       "      <th>first_name_pool</th>\n",
       "      <th>gender_pool</th>\n",
       "      <th>last_name_pool</th>\n",
       "      <th>middle_name_pool</th>\n",
       "      <th>ssid_pool</th>\n",
       "      <th>usbe_student_id_pool</th>\n",
       "      <th>guid</th>\n",
       "    </tr>\n",
       "  </thead>\n",
       "  <tbody>\n",
       "    <tr>\n",
       "      <th>0</th>\n",
       "      <td>1/3/1856</td>\n",
       "      <td>jasmyn rei</td>\n",
       "      <td>n</td>\n",
       "      <td>zitzman</td>\n",
       "      <td>adrianne</td>\n",
       "      <td>0x33e5fc3c0x67cbf878</td>\n",
       "      <td>529342.0</td>\n",
       "      <td>947364508865552880</td>\n",
       "    </tr>\n",
       "  </tbody>\n",
       "</table>\n",
       "</div>"
      ],
      "text/plain": [
       "  birth_date_pool first_name_pool gender_pool last_name_pool middle_name_pool  \\\n",
       "0        1/3/1856      jasmyn rei           n        zitzman         adrianne   \n",
       "\n",
       "              ssid_pool  usbe_student_id_pool                guid  \n",
       "0  0x33e5fc3c0x67cbf878              529342.0  947364508865552880  "
      ]
     },
     "execution_count": 180,
     "metadata": {},
     "output_type": "execute_result"
    }
   ],
   "source": [
    "source_data.head(1)"
   ]
  },
  {
   "cell_type": "code",
   "execution_count": 181,
   "metadata": {},
   "outputs": [
    {
     "data": {
      "text/html": [
       "<div>\n",
       "<style scoped>\n",
       "    .dataframe tbody tr th:only-of-type {\n",
       "        vertical-align: middle;\n",
       "    }\n",
       "\n",
       "    .dataframe tbody tr th {\n",
       "        vertical-align: top;\n",
       "    }\n",
       "\n",
       "    .dataframe thead th {\n",
       "        text-align: right;\n",
       "    }\n",
       "</style>\n",
       "<table border=\"1\" class=\"dataframe\">\n",
       "  <thead>\n",
       "    <tr style=\"text-align: right;\">\n",
       "      <th></th>\n",
       "      <th>first_name_pool</th>\n",
       "      <th>ssid_pool</th>\n",
       "      <th>birth_date_pool</th>\n",
       "      <th>gender_pool</th>\n",
       "      <th>last_name_pool</th>\n",
       "      <th>middle_name_pool</th>\n",
       "      <th>freq_score</th>\n",
       "      <th>mpi</th>\n",
       "    </tr>\n",
       "  </thead>\n",
       "  <tbody>\n",
       "    <tr>\n",
       "      <th>0</th>\n",
       "      <td>giniveve dee</td>\n",
       "      <td>None</td>\n",
       "      <td>None</td>\n",
       "      <td>None</td>\n",
       "      <td>neddo</td>\n",
       "      <td>sky marie</td>\n",
       "      <td>1.0</td>\n",
       "      <td>5386226-15516056-3085644-6613059</td>\n",
       "    </tr>\n",
       "  </tbody>\n",
       "</table>\n",
       "</div>"
      ],
      "text/plain": [
       "  first_name_pool ssid_pool birth_date_pool gender_pool last_name_pool  \\\n",
       "0    giniveve dee      None            None        None          neddo   \n",
       "\n",
       "  middle_name_pool  freq_score                               mpi  \n",
       "0        sky marie         1.0  5386226-15516056-3085644-6613059  "
      ]
     },
     "execution_count": 181,
     "metadata": {},
     "output_type": "execute_result"
    }
   ],
   "source": [
    "id_data.head(1)"
   ]
  },
  {
   "cell_type": "markdown",
   "metadata": {},
   "source": [
    "## Indexing\n",
    "\n",
    "Make record pairs - pair rows needing match to potential identity candidates.\n",
    "\n",
    "Indexing serves two purposes:\n",
    "\n",
    "1. Create the list of pairs to check (candidate link).  Example: row 1 from table 1 to row 199 from table 2.\n",
    "\n",
    "2. Reduce the potential number of pairs to check (candidates)."
   ]
  },
  {
   "cell_type": "code",
   "execution_count": 182,
   "metadata": {},
   "outputs": [],
   "source": [
    "from mpi.index import build_indexer\n",
    "from utils import match_dataframe_columns"
   ]
  },
  {
   "cell_type": "code",
   "execution_count": 183,
   "metadata": {},
   "outputs": [
    {
     "data": {
      "text/plain": [
       "[<SortedNeighbourhood left_on='first_name_pool', right_on='first_name_pool'>,\n",
       " <SortedNeighbourhood left_on='last_name_pool', right_on='last_name_pool'>,\n",
       " <SortedNeighbourhood left_on='middle_name_pool', right_on='middle_name_pool'>,\n",
       " <Block left_on='ssid_pool', right_on='ssid_pool'>]"
      ]
     },
     "execution_count": 183,
     "metadata": {},
     "output_type": "execute_result"
    }
   ],
   "source": [
    "# Create indexer on dataview\n",
    "#    Indexer is a set of rules to generate \n",
    "#    candidate matches from data -> identities\n",
    "\n",
    "source_matched, id_matched = match_dataframe_columns(source_data, id_data)\n",
    "\n",
    "indexer = build_indexer(source_matched)\n",
    "\n",
    "# Check index algorithms (generated from data view columns)\n",
    "indexer.algorithms"
   ]
  },
  {
   "cell_type": "code",
   "execution_count": 184,
   "metadata": {},
   "outputs": [
    {
     "name": "stdout",
     "output_type": "stream",
     "text": [
      "Full Index Length:  286560000\n",
      "Algorithmic Index Length:  126441\n",
      "Savings:  99.9558762562814\n",
      "Data-row 0 ID-row 1005\n",
      "Data-row 0 ID-row 5869\n",
      "Data-row 0 ID-row 10812\n",
      "Data-row 0 ID-row 10823\n",
      "Data-row 0 ID-row 10873\n"
     ]
    }
   ],
   "source": [
    "# Run indexer on dataview, identity view\n",
    "candidates = indexer.index(source_matched, id_matched)\n",
    "\n",
    "# Full indexing is a cross join of data and all possible identities.\n",
    "\n",
    "# Demonstrating full indexing size:\n",
    "print('Full Index Length: ', len(source_data) * len(id_data))\n",
    "\n",
    "# Examine multi indices.  On the left is the data view index.  Right identity.\n",
    "print('Algorithmic Index Length: ', len(candidates))\n",
    "\n",
    "# Estimate Savings\n",
    "print('Savings: ', (1- len(candidates)/(len(source_data) * len(id_data))) * 100)\n",
    "\n",
    "# Preview indices:\n",
    "for pair in candidates[0:5]:\n",
    "    print(f'Data-row {pair[0]}', f'ID-row {pair[1]}')"
   ]
  },
  {
   "cell_type": "markdown",
   "metadata": {},
   "source": [
    "## Comparing\n",
    "\n",
    "Indexing does not normally store the outcome of its findings.  Indexing algorithms are meant to be fast, can be error prone.  Algorithms can be tuned for string (many), numeric, and time/date fields.\n",
    "\n",
    "The output of comparison is a clean feature matrix for the classifier to train/predict on."
   ]
  },
  {
   "cell_type": "code",
   "execution_count": 185,
   "metadata": {},
   "outputs": [],
   "source": [
    "from mpi.compare import build_comparator"
   ]
  },
  {
   "cell_type": "code",
   "execution_count": 186,
   "metadata": {},
   "outputs": [
    {
     "data": {
      "text/plain": [
       "[<Exact 'ssid_pool'>,\n",
       " <String 'first_name_pool'>,\n",
       " <String 'gender_pool'>,\n",
       " <String 'last_name_pool'>,\n",
       " <String 'middle_name_pool'>]"
      ]
     },
     "execution_count": 186,
     "metadata": {},
     "output_type": "execute_result"
    }
   ],
   "source": [
    "# Create comparator on dataview\n",
    "#    Comparator is a set of algorithms for each feature to be compared.\n",
    "#    These are genearlly much more expensive compared to indexing functions\n",
    "cmp = build_comparator(source_matched)\n",
    "\n",
    "# Check comparison algorithms and fields\n",
    "cmp.features"
   ]
  },
  {
   "cell_type": "code",
   "execution_count": 187,
   "metadata": {},
   "outputs": [
    {
     "data": {
      "text/html": [
       "<div>\n",
       "<style scoped>\n",
       "    .dataframe tbody tr th:only-of-type {\n",
       "        vertical-align: middle;\n",
       "    }\n",
       "\n",
       "    .dataframe tbody tr th {\n",
       "        vertical-align: top;\n",
       "    }\n",
       "\n",
       "    .dataframe thead th {\n",
       "        text-align: right;\n",
       "    }\n",
       "</style>\n",
       "<table border=\"1\" class=\"dataframe\">\n",
       "  <thead>\n",
       "    <tr style=\"text-align: right;\">\n",
       "      <th></th>\n",
       "      <th></th>\n",
       "      <th>ssid_pool</th>\n",
       "      <th>first_name_pool</th>\n",
       "      <th>gender_pool</th>\n",
       "      <th>last_name_pool</th>\n",
       "      <th>middle_name_pool</th>\n",
       "    </tr>\n",
       "  </thead>\n",
       "  <tbody>\n",
       "    <tr>\n",
       "      <th rowspan=\"5\" valign=\"top\">0</th>\n",
       "      <th>1005</th>\n",
       "      <td>0</td>\n",
       "      <td>1.0</td>\n",
       "      <td>0.0</td>\n",
       "      <td>0.0</td>\n",
       "      <td>0.0</td>\n",
       "    </tr>\n",
       "    <tr>\n",
       "      <th>5869</th>\n",
       "      <td>0</td>\n",
       "      <td>0.0</td>\n",
       "      <td>0.0</td>\n",
       "      <td>0.0</td>\n",
       "      <td>1.0</td>\n",
       "    </tr>\n",
       "    <tr>\n",
       "      <th>10812</th>\n",
       "      <td>0</td>\n",
       "      <td>0.0</td>\n",
       "      <td>1.0</td>\n",
       "      <td>0.0</td>\n",
       "      <td>1.0</td>\n",
       "    </tr>\n",
       "    <tr>\n",
       "      <th>10823</th>\n",
       "      <td>0</td>\n",
       "      <td>1.0</td>\n",
       "      <td>0.0</td>\n",
       "      <td>0.0</td>\n",
       "      <td>0.0</td>\n",
       "    </tr>\n",
       "    <tr>\n",
       "      <th>10873</th>\n",
       "      <td>0</td>\n",
       "      <td>0.0</td>\n",
       "      <td>1.0</td>\n",
       "      <td>0.0</td>\n",
       "      <td>0.0</td>\n",
       "    </tr>\n",
       "  </tbody>\n",
       "</table>\n",
       "</div>"
      ],
      "text/plain": [
       "         ssid_pool  first_name_pool  gender_pool  last_name_pool  \\\n",
       "0 1005           0              1.0          0.0             0.0   \n",
       "  5869           0              0.0          0.0             0.0   \n",
       "  10812          0              0.0          1.0             0.0   \n",
       "  10823          0              1.0          0.0             0.0   \n",
       "  10873          0              0.0          1.0             0.0   \n",
       "\n",
       "         middle_name_pool  \n",
       "0 1005                0.0  \n",
       "  5869                1.0  \n",
       "  10812               1.0  \n",
       "  10823               0.0  \n",
       "  10873               0.0  "
      ]
     },
     "execution_count": 187,
     "metadata": {},
     "output_type": "execute_result"
    }
   ],
   "source": [
    "# Compute comparisons\n",
    "#    Gives clean match dataset for classification\n",
    "comparisons = cmp.compute(candidates, source_data, id_data)\n",
    "comparisons.head()"
   ]
  },
  {
   "cell_type": "markdown",
   "metadata": {},
   "source": [
    "## Classification\n",
    "\n",
    "Score candidates for match.  \n",
    "\n",
    "#### Two approaches: Supervised vs Unsupervised\n",
    " * **Supervised** approach requires a training set.\n",
    " * **Unsupervised** does not require a training set and operates on only on the comparison table itself."
   ]
  },
  {
   "cell_type": "code",
   "execution_count": 188,
   "metadata": {},
   "outputs": [
    {
     "data": {
      "text/plain": [
       "0     1005     0.000009\n",
       "      5869     0.000015\n",
       "      10812    0.000102\n",
       "      10823    0.000009\n",
       "      10873    0.000008\n",
       "                 ...   \n",
       "9999  17574    0.000001\n",
       "      19787    0.000015\n",
       "      22384    0.000102\n",
       "      25032    0.000015\n",
       "      28130    0.007892\n",
       "Length: 126441, dtype: float64"
      ]
     },
     "execution_count": 188,
     "metadata": {},
     "output_type": "execute_result"
    }
   ],
   "source": [
    "from mpi.classify import estimate_true, build_classifier\n",
    "\n",
    "# Get estimated true linkages for supervised model\n",
    "links_true = estimate_true(comparisons)\n",
    "\n",
    "# Create classifier\n",
    "clf = build_classifier('logistic', comparisons, match_index=links_true)\n",
    "\n",
    "# Check probabilities (score) of each comparison -- NOT IN USE IN THIS VERSION\n",
    "predictions = clf.prob(comparison_vectors=comparisons)\n",
    "predictions"
   ]
  },
  {
   "cell_type": "markdown",
   "metadata": {},
   "source": [
    "## Evaluate\n",
    "Express classification quality and explore outliers"
   ]
  },
  {
   "cell_type": "code",
   "execution_count": 189,
   "metadata": {},
   "outputs": [],
   "source": [
    "from recordlinkage import reduction_ratio\n",
    "from recordlinkage import confusion_matrix\n",
    "\n",
    "links_pred = clf.predict(comparison_vectors=comparisons)\n",
    "\n",
    "rratio = reduction_ratio(links_pred, source_data)\n",
    "cmatrix = confusion_matrix(links_true, links_pred, candidates)"
   ]
  },
  {
   "cell_type": "code",
   "execution_count": 190,
   "metadata": {},
   "outputs": [
    {
     "name": "stdout",
     "output_type": "stream",
     "text": [
      "[[   649      0]\n",
      " [     1 125791]]\n",
      "0.99998699869987\n"
     ]
    }
   ],
   "source": [
    "# Review confusion matrix\n",
    "#    TP-FN\n",
    "#    |  |\n",
    "#    FP-TN\n",
    "print(cmatrix)\n",
    "\n",
    "# Review reduction ratio\n",
    "print(rratio)"
   ]
  },
  {
   "cell_type": "markdown",
   "metadata": {},
   "source": [
    "The confusion matrix may not be particularly useful here as generation of true links is prone to error. The reduction ratio is more sensitive than binary predictions in this case."
   ]
  },
  {
   "cell_type": "code",
   "execution_count": 191,
   "metadata": {},
   "outputs": [
    {
     "data": {
      "text/plain": [
       "(650, 650)"
      ]
     },
     "execution_count": 191,
     "metadata": {},
     "output_type": "execute_result"
    }
   ],
   "source": [
    "# Review findings\n",
    "#   Interesting that the logistic predicted an MPI indices for each given an incomplete target list.\n",
    "\n",
    "# Is the relationship 1,1?\n",
    "split_list = lambda x: ([ix[0] for ix in x], [ix[1] for ix in x])\n",
    "i1, i2 = split_list(links_pred)\n",
    "len(list(set(i1))), len(list(set(i2)))"
   ]
  },
  {
   "cell_type": "markdown",
   "metadata": {},
   "source": [
    "## Update\n",
    "\n",
    "Append matched MPIs and match score to data view and merge to original data."
   ]
  },
  {
   "cell_type": "code",
   "execution_count": 192,
   "metadata": {},
   "outputs": [
    {
     "data": {
      "text/html": [
       "<div>\n",
       "<style scoped>\n",
       "    .dataframe tbody tr th:only-of-type {\n",
       "        vertical-align: middle;\n",
       "    }\n",
       "\n",
       "    .dataframe tbody tr th {\n",
       "        vertical-align: top;\n",
       "    }\n",
       "\n",
       "    .dataframe thead th {\n",
       "        text-align: right;\n",
       "    }\n",
       "</style>\n",
       "<table border=\"1\" class=\"dataframe\">\n",
       "  <thead>\n",
       "    <tr style=\"text-align: right;\">\n",
       "      <th></th>\n",
       "      <th>BIRTH_DATE</th>\n",
       "      <th>FIRST_ENTERED_US</th>\n",
       "      <th>FIRST_NAME</th>\n",
       "      <th>GENDER</th>\n",
       "      <th>LAST_NAME</th>\n",
       "      <th>MIDDLE_NAME</th>\n",
       "      <th>SSID</th>\n",
       "      <th>STUDENT_ID</th>\n",
       "      <th>id</th>\n",
       "      <th>guid</th>\n",
       "      <th>mpi</th>\n",
       "    </tr>\n",
       "  </thead>\n",
       "  <tbody>\n",
       "    <tr>\n",
       "      <th>0</th>\n",
       "      <td>1/3/1856</td>\n",
       "      <td>17-FEB-09 12.00.00.000000000 AM</td>\n",
       "      <td>Jasmyn Rei</td>\n",
       "      <td>n</td>\n",
       "      <td>Zitzman</td>\n",
       "      <td>Adrianne</td>\n",
       "      <td>0x33e5fc3c0x67cbf878</td>\n",
       "      <td>529342.0</td>\n",
       "      <td>74093</td>\n",
       "      <td>947364508865552880</td>\n",
       "      <td>15339985-10027901-8516218-10418301</td>\n",
       "    </tr>\n",
       "  </tbody>\n",
       "</table>\n",
       "</div>"
      ],
      "text/plain": [
       "  BIRTH_DATE                 FIRST_ENTERED_US  FIRST_NAME GENDER LAST_NAME  \\\n",
       "0   1/3/1856  17-FEB-09 12.00.00.000000000 AM  Jasmyn Rei      n   Zitzman   \n",
       "\n",
       "  MIDDLE_NAME                  SSID  STUDENT_ID     id                guid  \\\n",
       "0    Adrianne  0x33e5fc3c0x67cbf878    529342.0  74093  947364508865552880   \n",
       "\n",
       "                                  mpi  \n",
       "0  15339985-10027901-8516218-10418301  "
      ]
     },
     "execution_count": 192,
     "metadata": {},
     "output_type": "execute_result"
    }
   ],
   "source": [
    "from mpi.update import expand_match_to_raw\n",
    "\n",
    "# Join data view (DISTINCT identities in source table), now containing matched and generated MPIs, to raw table.\n",
    "#    This can be done a few ways.  Here, the data view (whose columns have been renamed and processed)\n",
    "#    is joined to the original subset (whose columns were just renamed).  The subset is then indexed back \n",
    "#    unto the raw table so original column names and source formatting are preserved.\n",
    "\n",
    "\n",
    "updated, matched, unmatched = expand_match_to_raw(raw, subset, source_data, id_data, links_pred)\n",
    "updated.head(1)"
   ]
  },
  {
   "cell_type": "code",
   "execution_count": 193,
   "metadata": {},
   "outputs": [],
   "source": [
    "# Update the MPI Vectors table for future use\n",
    "from mpi.update import update_mpi_vector_table\n",
    "update_mpi_vector_table()"
   ]
  },
  {
   "cell_type": "markdown",
   "metadata": {},
   "source": [
    "### De-Identification\n",
    "\n",
    "Create de-identified table while match available in memory or as referenced temp table."
   ]
  },
  {
   "cell_type": "code",
   "execution_count": 194,
   "metadata": {},
   "outputs": [
    {
     "data": {
      "text/plain": [
       "'usbe_students_di'"
      ]
     },
     "execution_count": 194,
     "metadata": {},
     "output_type": "execute_result"
    }
   ],
   "source": [
    "from assets.mapping import colmap\n",
    "from utils.db import dataframe_to_db\n",
    "from di import simple_di\n",
    "\n",
    "dataframe_to_db(\n",
    "    simple_di(updated), \n",
    "    tablename=source_tablename + '_di'\n",
    ")"
   ]
  },
  {
   "cell_type": "code",
   "execution_count": null,
   "metadata": {},
   "outputs": [],
   "source": []
  },
  {
   "cell_type": "code",
   "execution_count": null,
   "metadata": {},
   "outputs": [],
   "source": []
  }
 ],
 "metadata": {
  "kernelspec": {
   "display_name": "Python 3",
   "language": "python",
   "name": "python3"
  },
  "language_info": {
   "codemirror_mode": {
    "name": "ipython",
    "version": 3
   },
   "file_extension": ".py",
   "mimetype": "text/x-python",
   "name": "python",
   "nbconvert_exporter": "python",
   "pygments_lexer": "ipython3",
   "version": "3.8.6"
  }
 },
 "nbformat": 4,
 "nbformat_minor": 4
}
