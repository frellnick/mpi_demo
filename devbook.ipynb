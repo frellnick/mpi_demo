{
 "cells": [
  {
   "cell_type": "code",
   "execution_count": 1,
   "metadata": {},
   "outputs": [],
   "source": [
    "from mpi import create_distinct_view, create_identity_view, link\n",
    "import pandas as pd\n",
    "import os\n",
    "from utils.db import get_session\n",
    "from utils.models import *"
   ]
  },
  {
   "cell_type": "markdown",
   "metadata": {},
   "source": [
    "## Ingest\n",
    "Bring .csv into the system"
   ]
  },
  {
   "cell_type": "code",
   "execution_count": 2,
   "metadata": {},
   "outputs": [
    {
     "data": {
      "text/plain": [
       "['dws_wages.csv',\n",
       " 'usbe_students.csv',\n",
       " 'ushe_students.csv',\n",
       " 'ustc_students.csv']"
      ]
     },
     "execution_count": 2,
     "metadata": {},
     "output_type": "execute_result"
    }
   ],
   "source": [
    "from ingest import load_file\n",
    "os.listdir('assets/data')"
   ]
  },
  {
   "cell_type": "code",
   "execution_count": 3,
   "metadata": {},
   "outputs": [],
   "source": [
    "load_file('assets/data/dws_wages.csv', 'dws_wages')\n",
    "load_file('assets/data/usbe_students.csv', 'usbe_students')\n",
    "load_file('assets/data/ustc_students.csv', 'ustc_students')\n",
    "load_file('assets/data/ushe_students.csv', 'ushe_students')"
   ]
  },
  {
   "cell_type": "markdown",
   "metadata": {},
   "source": [
    "## Linking Steps"
   ]
  },
  {
   "cell_type": "code",
   "execution_count": 4,
   "metadata": {},
   "outputs": [
    {
     "data": {
      "text/html": [
       "<div>\n",
       "<style scoped>\n",
       "    .dataframe tbody tr th:only-of-type {\n",
       "        vertical-align: middle;\n",
       "    }\n",
       "\n",
       "    .dataframe tbody tr th {\n",
       "        vertical-align: top;\n",
       "    }\n",
       "\n",
       "    .dataframe thead th {\n",
       "        text-align: right;\n",
       "    }\n",
       "</style>\n",
       "<table border=\"1\" class=\"dataframe\">\n",
       "  <thead>\n",
       "    <tr style=\"text-align: right;\">\n",
       "      <th></th>\n",
       "      <th>mpi</th>\n",
       "      <th>field</th>\n",
       "      <th>value</th>\n",
       "      <th>score</th>\n",
       "      <th>guid</th>\n",
       "    </tr>\n",
       "  </thead>\n",
       "  <tbody>\n",
       "    <tr>\n",
       "      <th>0</th>\n",
       "      <td>4614774-16011216-593186-10763907</td>\n",
       "      <td>ushe_student_id_pool</td>\n",
       "      <td>469629.0</td>\n",
       "      <td>1.0</td>\n",
       "      <td>775123813349145184</td>\n",
       "    </tr>\n",
       "    <tr>\n",
       "      <th>1</th>\n",
       "      <td>4614774-16011216-593186-10763907</td>\n",
       "      <td>last_name_pool</td>\n",
       "      <td>Steed</td>\n",
       "      <td>1.0</td>\n",
       "      <td>775123813349145184</td>\n",
       "    </tr>\n",
       "    <tr>\n",
       "      <th>2</th>\n",
       "      <td>4614774-16011216-593186-10763907</td>\n",
       "      <td>first_name_pool</td>\n",
       "      <td>Sakayla</td>\n",
       "      <td>1.0</td>\n",
       "      <td>775123813349145184</td>\n",
       "    </tr>\n",
       "    <tr>\n",
       "      <th>3</th>\n",
       "      <td>4614774-16011216-593186-10763907</td>\n",
       "      <td>middle_name_pool</td>\n",
       "      <td>Conder</td>\n",
       "      <td>1.0</td>\n",
       "      <td>775123813349145184</td>\n",
       "    </tr>\n",
       "    <tr>\n",
       "      <th>4</th>\n",
       "      <td>4614774-16011216-593186-10763907</td>\n",
       "      <td>birth_date_pool</td>\n",
       "      <td>6/20/2859</td>\n",
       "      <td>1.0</td>\n",
       "      <td>775123813349145184</td>\n",
       "    </tr>\n",
       "  </tbody>\n",
       "</table>\n",
       "</div>"
      ],
      "text/plain": [
       "                                mpi                 field      value  score  \\\n",
       "0  4614774-16011216-593186-10763907  ushe_student_id_pool   469629.0    1.0   \n",
       "1  4614774-16011216-593186-10763907        last_name_pool      Steed    1.0   \n",
       "2  4614774-16011216-593186-10763907       first_name_pool    Sakayla    1.0   \n",
       "3  4614774-16011216-593186-10763907      middle_name_pool     Conder    1.0   \n",
       "4  4614774-16011216-593186-10763907       birth_date_pool  6/20/2859    1.0   \n",
       "\n",
       "                 guid  \n",
       "0  775123813349145184  \n",
       "1  775123813349145184  \n",
       "2  775123813349145184  \n",
       "3  775123813349145184  \n",
       "4  775123813349145184  "
      ]
     },
     "execution_count": 4,
     "metadata": {},
     "output_type": "execute_result"
    }
   ],
   "source": [
    "# Visualize raw MPI data\n",
    "#  V0.1  Data is seeded with ushe_students table\n",
    "#  TODO: implement matched route and proper identification of unmatched\n",
    "\n",
    "with get_session() as session:\n",
    "    result = session.execute(\n",
    "        'SELECT * FROM master_person_long LIMIT 5'\n",
    "    ).fetchall()\n",
    "    count_mpi = session.execute(\n",
    "        'SELECT COUNT(DISTINCT(mpi)) FROM master_person_long'\n",
    "    ).fetchone()\n",
    "columns = ('mpi', 'field', 'value', 'score', 'guid')\n",
    "pd.DataFrame(result, columns=columns)"
   ]
  },
  {
   "cell_type": "code",
   "execution_count": 5,
   "metadata": {},
   "outputs": [
    {
     "data": {
      "text/plain": [
       "(10000,)"
      ]
     },
     "execution_count": 5,
     "metadata": {},
     "output_type": "execute_result"
    }
   ],
   "source": [
    "count_mpi"
   ]
  },
  {
   "cell_type": "code",
   "execution_count": 6,
   "metadata": {},
   "outputs": [],
   "source": [
    "# Create a view of the data with mapped columns\n",
    "raw, subset = create_distinct_view('ushe_students')\n",
    "dview = subset.drop_duplicates()\n",
    "# print(dview.head())\n",
    "\n",
    "# Create a view from the MPI table with valid identity data\n",
    "iview = create_identity_view(dview.columns.tolist())\n",
    "# print(iview.head())\n",
    "\n",
    "t1, t2 = dview, iview #link(dview, iview)  # MULTIPLE LINKING NOT SUPPORTED"
   ]
  },
  {
   "cell_type": "code",
   "execution_count": 7,
   "metadata": {},
   "outputs": [
    {
     "data": {
      "text/html": [
       "<div>\n",
       "<style scoped>\n",
       "    .dataframe tbody tr th:only-of-type {\n",
       "        vertical-align: middle;\n",
       "    }\n",
       "\n",
       "    .dataframe tbody tr th {\n",
       "        vertical-align: top;\n",
       "    }\n",
       "\n",
       "    .dataframe thead th {\n",
       "        text-align: right;\n",
       "    }\n",
       "</style>\n",
       "<table border=\"1\" class=\"dataframe\">\n",
       "  <thead>\n",
       "    <tr style=\"text-align: right;\">\n",
       "      <th></th>\n",
       "      <th>ushe_student_id_pool</th>\n",
       "      <th>last_name_pool</th>\n",
       "      <th>first_name_pool</th>\n",
       "      <th>middle_name_pool</th>\n",
       "      <th>birth_date_pool</th>\n",
       "      <th>gender_pool</th>\n",
       "      <th>ssid_pool</th>\n",
       "      <th>ssn_pool</th>\n",
       "      <th>guid</th>\n",
       "    </tr>\n",
       "  </thead>\n",
       "  <tbody>\n",
       "    <tr>\n",
       "      <th>0</th>\n",
       "      <td>469629.0</td>\n",
       "      <td>Steed</td>\n",
       "      <td>Sakayla</td>\n",
       "      <td>Conder</td>\n",
       "      <td>6/20/2859</td>\n",
       "      <td>m</td>\n",
       "      <td>0x23570dbc0x46ae1b78</td>\n",
       "      <td>375910347</td>\n",
       "      <td>1027519456284287867</td>\n",
       "    </tr>\n",
       "  </tbody>\n",
       "</table>\n",
       "</div>"
      ],
      "text/plain": [
       "   ushe_student_id_pool last_name_pool first_name_pool middle_name_pool  \\\n",
       "0              469629.0          Steed         Sakayla           Conder   \n",
       "\n",
       "  birth_date_pool gender_pool             ssid_pool   ssn_pool  \\\n",
       "0       6/20/2859           m  0x23570dbc0x46ae1b78  375910347   \n",
       "\n",
       "                  guid  \n",
       "0  1027519456284287867  "
      ]
     },
     "execution_count": 7,
     "metadata": {},
     "output_type": "execute_result"
    }
   ],
   "source": [
    "t1.head(1)"
   ]
  },
  {
   "cell_type": "code",
   "execution_count": 8,
   "metadata": {},
   "outputs": [
    {
     "data": {
      "text/html": [
       "<div>\n",
       "<style scoped>\n",
       "    .dataframe tbody tr th:only-of-type {\n",
       "        vertical-align: middle;\n",
       "    }\n",
       "\n",
       "    .dataframe tbody tr th {\n",
       "        vertical-align: top;\n",
       "    }\n",
       "\n",
       "    .dataframe thead tr th {\n",
       "        text-align: left;\n",
       "    }\n",
       "\n",
       "    .dataframe thead tr:last-of-type th {\n",
       "        text-align: right;\n",
       "    }\n",
       "</style>\n",
       "<table border=\"1\" class=\"dataframe\">\n",
       "  <thead>\n",
       "    <tr>\n",
       "      <th></th>\n",
       "      <th colspan=\"9\" halign=\"left\">value</th>\n",
       "      <th colspan=\"9\" halign=\"left\">score</th>\n",
       "    </tr>\n",
       "    <tr>\n",
       "      <th>field</th>\n",
       "      <th>birth_date_pool</th>\n",
       "      <th>first_name_pool</th>\n",
       "      <th>gender_pool</th>\n",
       "      <th>guid</th>\n",
       "      <th>last_name_pool</th>\n",
       "      <th>middle_name_pool</th>\n",
       "      <th>ssid_pool</th>\n",
       "      <th>ssn_pool</th>\n",
       "      <th>ushe_student_id_pool</th>\n",
       "      <th>birth_date_pool</th>\n",
       "      <th>first_name_pool</th>\n",
       "      <th>gender_pool</th>\n",
       "      <th>guid</th>\n",
       "      <th>last_name_pool</th>\n",
       "      <th>middle_name_pool</th>\n",
       "      <th>ssid_pool</th>\n",
       "      <th>ssn_pool</th>\n",
       "      <th>ushe_student_id_pool</th>\n",
       "    </tr>\n",
       "    <tr>\n",
       "      <th>mpi</th>\n",
       "      <th></th>\n",
       "      <th></th>\n",
       "      <th></th>\n",
       "      <th></th>\n",
       "      <th></th>\n",
       "      <th></th>\n",
       "      <th></th>\n",
       "      <th></th>\n",
       "      <th></th>\n",
       "      <th></th>\n",
       "      <th></th>\n",
       "      <th></th>\n",
       "      <th></th>\n",
       "      <th></th>\n",
       "      <th></th>\n",
       "      <th></th>\n",
       "      <th></th>\n",
       "      <th></th>\n",
       "    </tr>\n",
       "  </thead>\n",
       "  <tbody>\n",
       "    <tr>\n",
       "      <th>10003201-9614165-4958245-12107289</th>\n",
       "      <td>3/12/2754</td>\n",
       "      <td>Drake</td>\n",
       "      <td>m</td>\n",
       "      <td>775123813349145184</td>\n",
       "      <td>McClean</td>\n",
       "      <td>Samba</td>\n",
       "      <td>0x21c4ecab0x4389d956</td>\n",
       "      <td>346913149</td>\n",
       "      <td>422191.0</td>\n",
       "      <td>1</td>\n",
       "      <td>1</td>\n",
       "      <td>1</td>\n",
       "      <td>1</td>\n",
       "      <td>1</td>\n",
       "      <td>1</td>\n",
       "      <td>1</td>\n",
       "      <td>1</td>\n",
       "      <td>1</td>\n",
       "    </tr>\n",
       "  </tbody>\n",
       "</table>\n",
       "</div>"
      ],
      "text/plain": [
       "                                            value                              \\\n",
       "field                             birth_date_pool first_name_pool gender_pool   \n",
       "mpi                                                                             \n",
       "10003201-9614165-4958245-12107289       3/12/2754           Drake           m   \n",
       "\n",
       "                                                                      \\\n",
       "field                                            guid last_name_pool   \n",
       "mpi                                                                    \n",
       "10003201-9614165-4958245-12107289  775123813349145184        McClean   \n",
       "\n",
       "                                                                          \\\n",
       "field                             middle_name_pool             ssid_pool   \n",
       "mpi                                                                        \n",
       "10003201-9614165-4958245-12107289            Samba  0x21c4ecab0x4389d956   \n",
       "\n",
       "                                                                   \\\n",
       "field                               ssn_pool ushe_student_id_pool   \n",
       "mpi                                                                 \n",
       "10003201-9614165-4958245-12107289  346913149             422191.0   \n",
       "\n",
       "                                            score                              \\\n",
       "field                             birth_date_pool first_name_pool gender_pool   \n",
       "mpi                                                                             \n",
       "10003201-9614165-4958245-12107289               1               1           1   \n",
       "\n",
       "                                                                        \\\n",
       "field                             guid last_name_pool middle_name_pool   \n",
       "mpi                                                                      \n",
       "10003201-9614165-4958245-12107289    1              1                1   \n",
       "\n",
       "                                                                           \n",
       "field                             ssid_pool ssn_pool ushe_student_id_pool  \n",
       "mpi                                                                        \n",
       "10003201-9614165-4958245-12107289         1        1                    1  "
      ]
     },
     "execution_count": 8,
     "metadata": {},
     "output_type": "execute_result"
    }
   ],
   "source": [
    "t2.head(1)"
   ]
  },
  {
   "cell_type": "markdown",
   "metadata": {},
   "source": [
    "## Building record linkage and mpi classification"
   ]
  },
  {
   "cell_type": "code",
   "execution_count": 9,
   "metadata": {},
   "outputs": [],
   "source": [
    "from mpi.link import clean_raw, match_dtype"
   ]
  },
  {
   "cell_type": "markdown",
   "metadata": {},
   "source": [
    "### Preprocessing\n",
    "\n",
    "Standardize data across data and identity views."
   ]
  },
  {
   "cell_type": "code",
   "execution_count": 10,
   "metadata": {},
   "outputs": [],
   "source": [
    "# Match Dtypes - Align data types prior to cleaning.\n",
    "#    This helps the cleaner by segmenting string/object and numeric fields\n",
    "\n",
    "ct1, ct2 = match_dtype(t1, t2.value)  # t2 identity table is a multi-index table.\n",
    "\n",
    "# Clean data and align formats, fields, for indexing and comparison.\n",
    "subset = clean_raw(subset)\n",
    "ct1 = clean_raw(ct1)\n",
    "ct2 = clean_raw(ct2)\n",
    "ct2 = ct2.reset_index(level='mpi')\n",
    "scores = t2.score"
   ]
  },
  {
   "cell_type": "code",
   "execution_count": 11,
   "metadata": {},
   "outputs": [
    {
     "data": {
      "text/html": [
       "<div>\n",
       "<style scoped>\n",
       "    .dataframe tbody tr th:only-of-type {\n",
       "        vertical-align: middle;\n",
       "    }\n",
       "\n",
       "    .dataframe tbody tr th {\n",
       "        vertical-align: top;\n",
       "    }\n",
       "\n",
       "    .dataframe thead th {\n",
       "        text-align: right;\n",
       "    }\n",
       "</style>\n",
       "<table border=\"1\" class=\"dataframe\">\n",
       "  <thead>\n",
       "    <tr style=\"text-align: right;\">\n",
       "      <th></th>\n",
       "      <th>ushe_student_id_pool</th>\n",
       "      <th>last_name_pool</th>\n",
       "      <th>first_name_pool</th>\n",
       "      <th>middle_name_pool</th>\n",
       "      <th>birth_date_pool</th>\n",
       "      <th>gender_pool</th>\n",
       "      <th>ssid_pool</th>\n",
       "      <th>ssn_pool</th>\n",
       "      <th>guid</th>\n",
       "    </tr>\n",
       "  </thead>\n",
       "  <tbody>\n",
       "    <tr>\n",
       "      <th>0</th>\n",
       "      <td>469629.0</td>\n",
       "      <td>steed</td>\n",
       "      <td>sakayla</td>\n",
       "      <td>conder</td>\n",
       "      <td>6/20/2859</td>\n",
       "      <td>m</td>\n",
       "      <td>0x23570dbc0x46ae1b78</td>\n",
       "      <td>375910347</td>\n",
       "      <td>1027519456284287867</td>\n",
       "    </tr>\n",
       "  </tbody>\n",
       "</table>\n",
       "</div>"
      ],
      "text/plain": [
       "   ushe_student_id_pool last_name_pool first_name_pool middle_name_pool  \\\n",
       "0              469629.0          steed         sakayla           conder   \n",
       "\n",
       "  birth_date_pool gender_pool             ssid_pool   ssn_pool  \\\n",
       "0       6/20/2859           m  0x23570dbc0x46ae1b78  375910347   \n",
       "\n",
       "                  guid  \n",
       "0  1027519456284287867  "
      ]
     },
     "execution_count": 11,
     "metadata": {},
     "output_type": "execute_result"
    }
   ],
   "source": [
    "ct1.head(1)"
   ]
  },
  {
   "cell_type": "code",
   "execution_count": 12,
   "metadata": {},
   "outputs": [
    {
     "data": {
      "text/html": [
       "<div>\n",
       "<style scoped>\n",
       "    .dataframe tbody tr th:only-of-type {\n",
       "        vertical-align: middle;\n",
       "    }\n",
       "\n",
       "    .dataframe tbody tr th {\n",
       "        vertical-align: top;\n",
       "    }\n",
       "\n",
       "    .dataframe thead th {\n",
       "        text-align: right;\n",
       "    }\n",
       "</style>\n",
       "<table border=\"1\" class=\"dataframe\">\n",
       "  <thead>\n",
       "    <tr style=\"text-align: right;\">\n",
       "      <th>field</th>\n",
       "      <th>mpi</th>\n",
       "      <th>birth_date_pool</th>\n",
       "      <th>first_name_pool</th>\n",
       "      <th>gender_pool</th>\n",
       "      <th>guid</th>\n",
       "      <th>last_name_pool</th>\n",
       "      <th>middle_name_pool</th>\n",
       "      <th>ssid_pool</th>\n",
       "      <th>ssn_pool</th>\n",
       "      <th>ushe_student_id_pool</th>\n",
       "    </tr>\n",
       "  </thead>\n",
       "  <tbody>\n",
       "    <tr>\n",
       "      <th>0</th>\n",
       "      <td>10003201-9614165-4958245-12107289</td>\n",
       "      <td>3/12/2754</td>\n",
       "      <td>drake</td>\n",
       "      <td>m</td>\n",
       "      <td>775123813349145184</td>\n",
       "      <td>mcclean</td>\n",
       "      <td>samba</td>\n",
       "      <td>0x21c4ecab0x4389d956</td>\n",
       "      <td>346913149</td>\n",
       "      <td>422191.0</td>\n",
       "    </tr>\n",
       "  </tbody>\n",
       "</table>\n",
       "</div>"
      ],
      "text/plain": [
       "field                                mpi birth_date_pool first_name_pool  \\\n",
       "0      10003201-9614165-4958245-12107289       3/12/2754           drake   \n",
       "\n",
       "field gender_pool                guid last_name_pool middle_name_pool  \\\n",
       "0               m  775123813349145184        mcclean            samba   \n",
       "\n",
       "field             ssid_pool   ssn_pool  ushe_student_id_pool  \n",
       "0      0x21c4ecab0x4389d956  346913149              422191.0  "
      ]
     },
     "execution_count": 12,
     "metadata": {},
     "output_type": "execute_result"
    }
   ],
   "source": [
    "ct2.head(1)"
   ]
  },
  {
   "cell_type": "code",
   "execution_count": 13,
   "metadata": {},
   "outputs": [
    {
     "data": {
      "text/html": [
       "<div>\n",
       "<style scoped>\n",
       "    .dataframe tbody tr th:only-of-type {\n",
       "        vertical-align: middle;\n",
       "    }\n",
       "\n",
       "    .dataframe tbody tr th {\n",
       "        vertical-align: top;\n",
       "    }\n",
       "\n",
       "    .dataframe thead th {\n",
       "        text-align: right;\n",
       "    }\n",
       "</style>\n",
       "<table border=\"1\" class=\"dataframe\">\n",
       "  <thead>\n",
       "    <tr style=\"text-align: right;\">\n",
       "      <th>field</th>\n",
       "      <th>birth_date_pool</th>\n",
       "      <th>first_name_pool</th>\n",
       "      <th>gender_pool</th>\n",
       "      <th>guid</th>\n",
       "      <th>last_name_pool</th>\n",
       "      <th>middle_name_pool</th>\n",
       "      <th>ssid_pool</th>\n",
       "      <th>ssn_pool</th>\n",
       "      <th>ushe_student_id_pool</th>\n",
       "    </tr>\n",
       "    <tr>\n",
       "      <th>mpi</th>\n",
       "      <th></th>\n",
       "      <th></th>\n",
       "      <th></th>\n",
       "      <th></th>\n",
       "      <th></th>\n",
       "      <th></th>\n",
       "      <th></th>\n",
       "      <th></th>\n",
       "      <th></th>\n",
       "    </tr>\n",
       "  </thead>\n",
       "  <tbody>\n",
       "    <tr>\n",
       "      <th>10003201-9614165-4958245-12107289</th>\n",
       "      <td>1</td>\n",
       "      <td>1</td>\n",
       "      <td>1</td>\n",
       "      <td>1</td>\n",
       "      <td>1</td>\n",
       "      <td>1</td>\n",
       "      <td>1</td>\n",
       "      <td>1</td>\n",
       "      <td>1</td>\n",
       "    </tr>\n",
       "  </tbody>\n",
       "</table>\n",
       "</div>"
      ],
      "text/plain": [
       "field                             birth_date_pool first_name_pool gender_pool  \\\n",
       "mpi                                                                             \n",
       "10003201-9614165-4958245-12107289               1               1           1   \n",
       "\n",
       "field                             guid last_name_pool middle_name_pool  \\\n",
       "mpi                                                                      \n",
       "10003201-9614165-4958245-12107289    1              1                1   \n",
       "\n",
       "field                             ssid_pool ssn_pool ushe_student_id_pool  \n",
       "mpi                                                                        \n",
       "10003201-9614165-4958245-12107289         1        1                    1  "
      ]
     },
     "execution_count": 13,
     "metadata": {},
     "output_type": "execute_result"
    }
   ],
   "source": [
    "scores.head(1)"
   ]
  },
  {
   "cell_type": "markdown",
   "metadata": {},
   "source": [
    "## Indexing\n",
    "\n",
    "Make record pairs - pair rows needing match to potential identity candidates."
   ]
  },
  {
   "cell_type": "code",
   "execution_count": 14,
   "metadata": {},
   "outputs": [],
   "source": [
    "from mpi.link import build_indexer, view_indices"
   ]
  },
  {
   "cell_type": "code",
   "execution_count": 15,
   "metadata": {},
   "outputs": [
    {
     "data": {
      "text/plain": [
       "[<SortedNeighbourhood left_on='last_name_pool', right_on='last_name_pool'>,\n",
       " <SortedNeighbourhood left_on='first_name_pool', right_on='first_name_pool'>,\n",
       " <SortedNeighbourhood left_on='middle_name_pool', right_on='middle_name_pool'>,\n",
       " <Block left_on='ushe_student_id_pool', right_on='ushe_student_id_pool'>,\n",
       " <Block left_on='ssid_pool', right_on='ssid_pool'>,\n",
       " <Block left_on='ssn_pool', right_on='ssn_pool'>]"
      ]
     },
     "execution_count": 15,
     "metadata": {},
     "output_type": "execute_result"
    }
   ],
   "source": [
    "# Create indexer on dataview\n",
    "#    Indexer is a set of rules to generate \n",
    "#    candidate matches from data -> identities\n",
    "indexer = build_indexer(ct1)\n",
    "\n",
    "# Check index algorithms (generated from data view columns)\n",
    "indexer.algorithms"
   ]
  },
  {
   "cell_type": "code",
   "execution_count": 16,
   "metadata": {},
   "outputs": [
    {
     "data": {
      "text/plain": [
       "MultiIndex([(0,   18),\n",
       "            (0, 1994),\n",
       "            (0, 2386),\n",
       "            (0, 3332),\n",
       "            (0, 4276)],\n",
       "           )"
      ]
     },
     "execution_count": 16,
     "metadata": {},
     "output_type": "execute_result"
    }
   ],
   "source": [
    "# Run indexer on dataview, identity view\n",
    "candidates = indexer.index(ct1, ct2)\n",
    "\n",
    "# Examine multi indices.  On the left is the data view index.  Right identity.\n",
    "candidates[0:5]"
   ]
  },
  {
   "cell_type": "markdown",
   "metadata": {},
   "source": [
    "## Comparing\n",
    "\n",
    "Create field comparators to run on candidates identified during indexing"
   ]
  },
  {
   "cell_type": "code",
   "execution_count": 17,
   "metadata": {},
   "outputs": [],
   "source": [
    "from mpi.link import build_comparator"
   ]
  },
  {
   "cell_type": "code",
   "execution_count": 18,
   "metadata": {},
   "outputs": [
    {
     "data": {
      "text/plain": [
       "[<Numeric 'ushe_student_id_pool'>,\n",
       " <Exact 'ssid_pool'>,\n",
       " <Numeric 'ssn_pool'>,\n",
       " <String 'last_name_pool'>,\n",
       " <String 'first_name_pool'>,\n",
       " <String 'middle_name_pool'>]"
      ]
     },
     "execution_count": 18,
     "metadata": {},
     "output_type": "execute_result"
    }
   ],
   "source": [
    "# Create comparator on dataview\n",
    "#    Comparator is a set of algorithms for each feature to be compared.\n",
    "#    These are genearlly much more expensive compared to indexing functions\n",
    "cmp = build_comparator(ct1)\n",
    "\n",
    "# Check comparison algorithms and fields\n",
    "cmp.features"
   ]
  },
  {
   "cell_type": "code",
   "execution_count": 19,
   "metadata": {},
   "outputs": [
    {
     "data": {
      "text/html": [
       "<div>\n",
       "<style scoped>\n",
       "    .dataframe tbody tr th:only-of-type {\n",
       "        vertical-align: middle;\n",
       "    }\n",
       "\n",
       "    .dataframe tbody tr th {\n",
       "        vertical-align: top;\n",
       "    }\n",
       "\n",
       "    .dataframe thead th {\n",
       "        text-align: right;\n",
       "    }\n",
       "</style>\n",
       "<table border=\"1\" class=\"dataframe\">\n",
       "  <thead>\n",
       "    <tr style=\"text-align: right;\">\n",
       "      <th></th>\n",
       "      <th></th>\n",
       "      <th>ushe_student_id_pool</th>\n",
       "      <th>ssid_pool</th>\n",
       "      <th>ssn_pool</th>\n",
       "      <th>last_name_pool</th>\n",
       "      <th>first_name_pool</th>\n",
       "      <th>middle_name_pool</th>\n",
       "    </tr>\n",
       "  </thead>\n",
       "  <tbody>\n",
       "    <tr>\n",
       "      <th rowspan=\"5\" valign=\"top\">0</th>\n",
       "      <th>18</th>\n",
       "      <td>0.0</td>\n",
       "      <td>0</td>\n",
       "      <td>0.0</td>\n",
       "      <td>0.0</td>\n",
       "      <td>0.0</td>\n",
       "      <td>1.0</td>\n",
       "    </tr>\n",
       "    <tr>\n",
       "      <th>1994</th>\n",
       "      <td>0.0</td>\n",
       "      <td>0</td>\n",
       "      <td>0.0</td>\n",
       "      <td>0.0</td>\n",
       "      <td>0.0</td>\n",
       "      <td>1.0</td>\n",
       "    </tr>\n",
       "    <tr>\n",
       "      <th>2386</th>\n",
       "      <td>0.0</td>\n",
       "      <td>0</td>\n",
       "      <td>0.0</td>\n",
       "      <td>1.0</td>\n",
       "      <td>0.0</td>\n",
       "      <td>0.0</td>\n",
       "    </tr>\n",
       "    <tr>\n",
       "      <th>3332</th>\n",
       "      <td>0.0</td>\n",
       "      <td>0</td>\n",
       "      <td>0.0</td>\n",
       "      <td>0.0</td>\n",
       "      <td>0.0</td>\n",
       "      <td>0.0</td>\n",
       "    </tr>\n",
       "    <tr>\n",
       "      <th>4276</th>\n",
       "      <td>0.0</td>\n",
       "      <td>0</td>\n",
       "      <td>0.0</td>\n",
       "      <td>0.0</td>\n",
       "      <td>0.0</td>\n",
       "      <td>0.0</td>\n",
       "    </tr>\n",
       "  </tbody>\n",
       "</table>\n",
       "</div>"
      ],
      "text/plain": [
       "        ushe_student_id_pool  ssid_pool  ssn_pool  last_name_pool  \\\n",
       "0 18                     0.0          0       0.0             0.0   \n",
       "  1994                   0.0          0       0.0             0.0   \n",
       "  2386                   0.0          0       0.0             1.0   \n",
       "  3332                   0.0          0       0.0             0.0   \n",
       "  4276                   0.0          0       0.0             0.0   \n",
       "\n",
       "        first_name_pool  middle_name_pool  \n",
       "0 18                0.0               1.0  \n",
       "  1994              0.0               1.0  \n",
       "  2386              0.0               0.0  \n",
       "  3332              0.0               0.0  \n",
       "  4276              0.0               0.0  "
      ]
     },
     "execution_count": 19,
     "metadata": {},
     "output_type": "execute_result"
    }
   ],
   "source": [
    "# Compute comparisons\n",
    "#    Gives clean match dataset for classification\n",
    "comparisons = cmp.compute(candidates, ct1, ct2)\n",
    "comparisons.head()"
   ]
  },
  {
   "cell_type": "markdown",
   "metadata": {},
   "source": [
    "## Classification\n",
    "Score candidates for match.  \n",
    "\n",
    "#### Two approaches: Supervised vs Unsupervised\n",
    " * **Supervised** approach requires a training set.\n",
    " * **Unsupervised** does not require a training set and operates on only on the comparison table itself."
   ]
  },
  {
   "cell_type": "code",
   "execution_count": 20,
   "metadata": {},
   "outputs": [
    {
     "name": "stdout",
     "output_type": "stream",
     "text": [
      "9998\n",
      "0  18      0.000058\n",
      "   1994    0.000058\n",
      "   2386    0.000043\n",
      "   3332    0.000003\n",
      "   4276    0.000003\n",
      "dtype: float64\n"
     ]
    }
   ],
   "source": [
    "from mpi.link import estimate_true, create_classifier\n",
    "\n",
    "# Get estimated true linkages for supervised model\n",
    "links_true = estimate_true(comparisons)\n",
    "\n",
    "# Create classifier\n",
    "clf = create_classifier('logistic', comparisons, match_index=links_true)\n",
    "\n",
    "# Check probabilities (score) of each comparison\n",
    "print(len(links_true))\n",
    "print(clf.prob(comparison_vectors=comparisons)[0:5])"
   ]
  },
  {
   "cell_type": "markdown",
   "metadata": {},
   "source": [
    "## Evaluate\n",
    "Express classification quality and explore outliers"
   ]
  },
  {
   "cell_type": "code",
   "execution_count": 21,
   "metadata": {},
   "outputs": [],
   "source": [
    "from recordlinkage import reduction_ratio\n",
    "from recordlinkage import confusion_matrix\n",
    "\n",
    "links_pred = clf.predict(comparison_vectors=comparisons)\n",
    "\n",
    "rratio = reduction_ratio(links_pred, ct1)\n",
    "cmatrix = confusion_matrix(links_true, links_pred, candidates)"
   ]
  },
  {
   "cell_type": "code",
   "execution_count": 22,
   "metadata": {},
   "outputs": [
    {
     "name": "stdout",
     "output_type": "stream",
     "text": [
      "[[ 9998     0]\n",
      " [    2 84812]]\n",
      "0.9997999799979999\n"
     ]
    }
   ],
   "source": [
    "# Review confusion matrix\n",
    "#    TP-FN\n",
    "#    |  |\n",
    "#    FP-TN\n",
    "print(cmatrix)\n",
    "\n",
    "# Review reduction ratio\n",
    "print(rratio)"
   ]
  },
  {
   "cell_type": "markdown",
   "metadata": {},
   "source": [
    "The confusion matrix may not be particularly useful here as generation of true links is prone to error. The reduction ratio is more sensitive than binary predictions in this case."
   ]
  },
  {
   "cell_type": "code",
   "execution_count": 23,
   "metadata": {},
   "outputs": [
    {
     "data": {
      "text/plain": [
       "(10000, 10000)"
      ]
     },
     "execution_count": 23,
     "metadata": {},
     "output_type": "execute_result"
    }
   ],
   "source": [
    "# Review findings\n",
    "#   Interesting that the logistic predicted an MPI indices for each given an incomplete target list.\n",
    "\n",
    "# Is the relationship 1,1?\n",
    "split_list = lambda x: ([ix[0] for ix in x], [ix[1] for ix in x])\n",
    "i1, i2 = split_list(links_pred)\n",
    "len(list(set(i1))), len(list(set(i2)))"
   ]
  },
  {
   "cell_type": "markdown",
   "metadata": {},
   "source": [
    "## Update\n",
    "\n",
    "Append matched MPIs and match score to data view and merge to original data."
   ]
  },
  {
   "cell_type": "code",
   "execution_count": 26,
   "metadata": {},
   "outputs": [
    {
     "data": {
      "text/html": [
       "<div>\n",
       "<style scoped>\n",
       "    .dataframe tbody tr th:only-of-type {\n",
       "        vertical-align: middle;\n",
       "    }\n",
       "\n",
       "    .dataframe tbody tr th {\n",
       "        vertical-align: top;\n",
       "    }\n",
       "\n",
       "    .dataframe thead th {\n",
       "        text-align: right;\n",
       "    }\n",
       "</style>\n",
       "<table border=\"1\" class=\"dataframe\">\n",
       "  <thead>\n",
       "    <tr style=\"text-align: right;\">\n",
       "      <th></th>\n",
       "      <th>index</th>\n",
       "      <th>S_INST</th>\n",
       "      <th>S_YEAR</th>\n",
       "      <th>S_TERM</th>\n",
       "      <th>S_EXTRACT</th>\n",
       "      <th>S_ID</th>\n",
       "      <th>S_ID_FLAG</th>\n",
       "      <th>S_PREVIOUS_ID</th>\n",
       "      <th>S_LAST</th>\n",
       "      <th>S_FIRST</th>\n",
       "      <th>...</th>\n",
       "      <th>S_TERM_ATT_CR</th>\n",
       "      <th>S_TERM_EARNED_CR</th>\n",
       "      <th>S_COLLEGE</th>\n",
       "      <th>S_MAJOR</th>\n",
       "      <th>S_COLLEGE2</th>\n",
       "      <th>S_MAJOR2</th>\n",
       "      <th>S_INAME</th>\n",
       "      <th>id</th>\n",
       "      <th>guid</th>\n",
       "      <th>mpi</th>\n",
       "    </tr>\n",
       "  </thead>\n",
       "  <tbody>\n",
       "    <tr>\n",
       "      <th>0</th>\n",
       "      <td>0</td>\n",
       "      <td>1858</td>\n",
       "      <td>2018</td>\n",
       "      <td>3</td>\n",
       "      <td>E</td>\n",
       "      <td>469629.0</td>\n",
       "      <td>I</td>\n",
       "      <td>187277</td>\n",
       "      <td>Steed</td>\n",
       "      <td>Sakayla</td>\n",
       "      <td>...</td>\n",
       "      <td>4</td>\n",
       "      <td>126</td>\n",
       "      <td>Huntsman School of Business</td>\n",
       "      <td>Deaf Ed &amp; Elementary Ed</td>\n",
       "      <td>School of the Arts</td>\n",
       "      <td>Network Systems</td>\n",
       "      <td>SNOW</td>\n",
       "      <td>7853</td>\n",
       "      <td>1027519456284287867</td>\n",
       "      <td>4614774-16011216-593186-10763907</td>\n",
       "    </tr>\n",
       "  </tbody>\n",
       "</table>\n",
       "<p>1 rows × 80 columns</p>\n",
       "</div>"
      ],
      "text/plain": [
       "   index  S_INST  S_YEAR  S_TERM S_EXTRACT      S_ID S_ID_FLAG S_PREVIOUS_ID  \\\n",
       "0      0    1858    2018       3         E  469629.0         I        187277   \n",
       "\n",
       "  S_LAST  S_FIRST  ... S_TERM_ATT_CR S_TERM_EARNED_CR  \\\n",
       "0  Steed  Sakayla  ...             4              126   \n",
       "\n",
       "                     S_COLLEGE                  S_MAJOR          S_COLLEGE2  \\\n",
       "0  Huntsman School of Business  Deaf Ed & Elementary Ed  School of the Arts   \n",
       "\n",
       "          S_MAJOR2 S_INAME    id                 guid  \\\n",
       "0  Network Systems    SNOW  7853  1027519456284287867   \n",
       "\n",
       "                                mpi  \n",
       "0  4614774-16011216-593186-10763907  \n",
       "\n",
       "[1 rows x 80 columns]"
      ]
     },
     "execution_count": 26,
     "metadata": {},
     "output_type": "execute_result"
    }
   ],
   "source": [
    "from mpi.link import expand_match_to_raw\n",
    "\n",
    "# Join data view with MPI with raw table\n",
    "#     Create merge condition\n",
    "raw = expand_match_to_raw(raw, subset, ct1, ct2, links_pred)\n",
    "raw.head(1)"
   ]
  },
  {
   "cell_type": "code",
   "execution_count": null,
   "metadata": {},
   "outputs": [],
   "source": []
  },
  {
   "cell_type": "markdown",
   "metadata": {},
   "source": [
    "### De-Identification\n",
    "\n",
    "Create de-identified table while match available in memory or as referenced temp table."
   ]
  },
  {
   "cell_type": "code",
   "execution_count": 48,
   "metadata": {},
   "outputs": [
    {
     "data": {
      "text/plain": [
       "'USHE_STUDENTS_DI'"
      ]
     },
     "execution_count": 48,
     "metadata": {},
     "output_type": "execute_result"
    }
   ],
   "source": [
    "from assets.mapping import colmap\n",
    "from utils.db import dataframe_to_db\n",
    "from di import simple_di\n",
    "\n",
    "dataframe_to_db(simple_di(raw), 'ushe_students_di')"
   ]
  },
  {
   "cell_type": "code",
   "execution_count": null,
   "metadata": {},
   "outputs": [],
   "source": []
  }
 ],
 "metadata": {
  "kernelspec": {
   "display_name": "Python 3",
   "language": "python",
   "name": "python3"
  },
  "language_info": {
   "codemirror_mode": {
    "name": "ipython",
    "version": 3
   },
   "file_extension": ".py",
   "mimetype": "text/x-python",
   "name": "python",
   "nbconvert_exporter": "python",
   "pygments_lexer": "ipython3",
   "version": "3.8.5"
  }
 },
 "nbformat": 4,
 "nbformat_minor": 4
}
