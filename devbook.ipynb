{
 "cells": [
  {
   "cell_type": "markdown",
   "metadata": {},
   "source": [
    "## Ingest\n",
    "Bring .csv into the system"
   ]
  },
  {
   "cell_type": "code",
   "execution_count": 2,
   "metadata": {},
   "outputs": [
    {
     "data": {
      "text/plain": [
       "['dws_wages.csv',\n",
       " 'usbe_students.csv',\n",
       " 'ushe_students.csv',\n",
       " 'ustc_students.csv']"
      ]
     },
     "execution_count": 2,
     "metadata": {},
     "output_type": "execute_result"
    }
   ],
   "source": [
    "from ingest import load_file\n",
    "import os\n",
    "os.listdir('assets/data')"
   ]
  },
  {
   "cell_type": "code",
   "execution_count": 3,
   "metadata": {},
   "outputs": [],
   "source": [
    "load_file('assets/data/dws_wages.csv', 'dws_wages')\n",
    "load_file('assets/data/usbe_students.csv', 'usbe_students')\n",
    "load_file('assets/data/ustc_students.csv', 'ustc_students')\n",
    "load_file('assets/data/ushe_students.csv', 'ushe_students')"
   ]
  },
  {
   "cell_type": "markdown",
   "metadata": {},
   "source": [
    "## Linking Steps\n",
    "\n",
    "Process of Record Linkage\n",
    "\n",
    "0. Load\n",
    "1. Preprocess\n",
    "2. Index\n",
    "3. Compare\n",
    "4. Classify\n",
    "5. Evaluate\n",
    "6. Update (Post MPI - Adding new information, new MPI, to MPI Master Record)"
   ]
  },
  {
   "cell_type": "markdown",
   "metadata": {},
   "source": [
    "### Master Person Architectures\n",
    "Visualize data architecture store of MPI raw records.  NOTE: data may not be present in all database options.  Use whichever cell aligns with configured loading behavior."
   ]
  },
  {
   "cell_type": "markdown",
   "metadata": {},
   "source": [
    "**SQL** View"
   ]
  },
  {
   "cell_type": "code",
   "execution_count": 1,
   "metadata": {},
   "outputs": [
    {
     "data": {
      "text/html": [
       "<div>\n",
       "<style scoped>\n",
       "    .dataframe tbody tr th:only-of-type {\n",
       "        vertical-align: middle;\n",
       "    }\n",
       "\n",
       "    .dataframe tbody tr th {\n",
       "        vertical-align: top;\n",
       "    }\n",
       "\n",
       "    .dataframe thead th {\n",
       "        text-align: right;\n",
       "    }\n",
       "</style>\n",
       "<table border=\"1\" class=\"dataframe\">\n",
       "  <thead>\n",
       "    <tr style=\"text-align: right;\">\n",
       "      <th></th>\n",
       "      <th>0</th>\n",
       "      <th>1</th>\n",
       "      <th>2</th>\n",
       "      <th>3</th>\n",
       "    </tr>\n",
       "  </thead>\n",
       "  <tbody>\n",
       "    <tr>\n",
       "      <th>0</th>\n",
       "      <td>1</td>\n",
       "      <td>None</td>\n",
       "      <td>elvis</td>\n",
       "      <td>11</td>\n",
       "    </tr>\n",
       "    <tr>\n",
       "      <th>1</th>\n",
       "      <td>1</td>\n",
       "      <td>presley</td>\n",
       "      <td>elvis</td>\n",
       "      <td>12</td>\n",
       "    </tr>\n",
       "    <tr>\n",
       "      <th>2</th>\n",
       "      <td>1</td>\n",
       "      <td>costello</td>\n",
       "      <td>elvis</td>\n",
       "      <td>13</td>\n",
       "    </tr>\n",
       "    <tr>\n",
       "      <th>3</th>\n",
       "      <td>2</td>\n",
       "      <td>austin</td>\n",
       "      <td>jane</td>\n",
       "      <td>11</td>\n",
       "    </tr>\n",
       "    <tr>\n",
       "      <th>4</th>\n",
       "      <td>2</td>\n",
       "      <td>austin</td>\n",
       "      <td>janet</td>\n",
       "      <td>12</td>\n",
       "    </tr>\n",
       "  </tbody>\n",
       "</table>\n",
       "</div>"
      ],
      "text/plain": [
       "   0         1      2   3\n",
       "0  1      None  elvis  11\n",
       "1  1   presley  elvis  12\n",
       "2  1  costello  elvis  13\n",
       "3  2    austin   jane  11\n",
       "4  2    austin  janet  12"
      ]
     },
     "execution_count": 1,
     "metadata": {},
     "output_type": "execute_result"
    }
   ],
   "source": [
    "from db import get_session\n",
    "import pandas as pd \n",
    "\n",
    "\n",
    "with get_session() as session:\n",
    "    result = session.execute(\n",
    "        'SELECT * FROM mpi_vectors LIMIT 5'\n",
    "    ).fetchall()\n",
    "    count_mpi = session.execute(\n",
    "        'SELECT COUNT(*) FROM mpi_vectors'\n",
    "    ).fetchone()\n",
    "pd.DataFrame(result)"
   ]
  },
  {
   "cell_type": "code",
   "execution_count": 9,
   "metadata": {},
   "outputs": [
    {
     "name": "stdout",
     "output_type": "stream",
     "text": [
      "Total MPI in system:  5\n"
     ]
    }
   ],
   "source": [
    "print('Total MPI in system: ', str(count_mpi[0]))"
   ]
  },
  {
   "cell_type": "markdown",
   "metadata": {},
   "source": [
    "**NoSQL** View"
   ]
  },
  {
   "cell_type": "code",
   "execution_count": 2,
   "metadata": {},
   "outputs": [
    {
     "name": "stdout",
     "output_type": "stream",
     "text": [
      "{\n",
      "  \"_id\": \"5fd3e4ef0c9a01b87d54b5e1\",\n",
      "  \"mpi\": \"1928455-12020003-9147189-7428487\",\n",
      "  \"sources\": [\n",
      "    {\n",
      "      \"guid\": 803415347046895865,\n",
      "      \"score\": 0.0,\n",
      "      \"fields\": [\n",
      "        {\n",
      "          \"fieldname\": \"birth_date_pool\",\n",
      "          \"value\": \"6/9/1256\"\n",
      "        },\n",
      "        {\n",
      "          \"fieldname\": \"first_name_pool\",\n",
      "          \"value\": \"genora\"\n",
      "        },\n",
      "        {\n",
      "          \"fieldname\": \"gender_pool\",\n",
      "          \"value\": \"f\"\n",
      "        },\n",
      "        {\n",
      "          \"fieldname\": \"last_name_pool\",\n",
      "          \"value\": \"zegarra\"\n",
      "        },\n",
      "        {\n",
      "          \"fieldname\": \"middle_name_pool\",\n",
      "          \"value\": \"rhino\"\n",
      "        },\n",
      "        {\n",
      "          \"fieldname\": \"ssid_pool\",\n",
      "          \"value\": \"0x218b2ea30x43165d46\"\n",
      "        },\n",
      "        {\n",
      "          \"fieldname\": \"usbe_student_id_pool\",\n",
      "          \"value\": 666165\n",
      "        }\n",
      "      ]\n",
      "    }\n",
      "  ]\n",
      "}\n"
     ]
    }
   ],
   "source": [
    "from db import get_mongo\n",
    "import json\n",
    "\n",
    "db = get_mongo()\n",
    "count_docs = db.raw.count_documents({})\n",
    "x = db.raw.find_one({})\n",
    "x['_id'] = str(x['_id'])\n",
    "\n",
    "print(json.dumps(x, indent=2))"
   ]
  },
  {
   "cell_type": "code",
   "execution_count": 54,
   "metadata": {
    "scrolled": true
   },
   "outputs": [
    {
     "data": {
      "text/plain": [
       "0"
      ]
     },
     "execution_count": 54,
     "metadata": {},
     "output_type": "execute_result"
    }
   ],
   "source": [
    "# Delete all records (skip if not needed)\n",
    "d = db.raw.delete_many({})\n",
    "d.deleted_count"
   ]
  },
  {
   "cell_type": "code",
   "execution_count": 50,
   "metadata": {},
   "outputs": [
    {
     "name": "stdout",
     "output_type": "stream",
     "text": [
      "Total MPI in system:  0\n"
     ]
    }
   ],
   "source": [
    "print('Total MPI in system: ', count_docs)"
   ]
  },
  {
   "cell_type": "markdown",
   "metadata": {},
   "source": [
    "## Prepare Data\n",
    "\n",
    "Prepare identity view (MPI vectors) and data view (distinct mapped columns from source)"
   ]
  },
  {
   "cell_type": "code",
   "execution_count": 65,
   "metadata": {},
   "outputs": [],
   "source": [
    "# source_tablename = 'usbe_students'\n",
    "source_tablename = 'ustc_students'\n",
    "# source_tablename = 'ushe_students'\n",
    "# source_tablename = 'dws_wages'"
   ]
  },
  {
   "cell_type": "code",
   "execution_count": 66,
   "metadata": {},
   "outputs": [],
   "source": [
    "from mpi.prepare import create_data_view, create_identity_view\n",
    "\n",
    "raw, subset = create_data_view(source_tablename)\n",
    "dview = subset.drop_duplicates()\n",
    "iview = create_identity_view(mapped_columns=dview.columns.to_list())"
   ]
  },
  {
   "cell_type": "markdown",
   "metadata": {},
   "source": [
    "### Performance Option / Seeding\n",
    "Check here for potential for match.  If a match is impossible on available fields, can circumvent the linkage process and generate the MPI's here."
   ]
  },
  {
   "cell_type": "code",
   "execution_count": 67,
   "metadata": {},
   "outputs": [
    {
     "name": "stdout",
     "output_type": "stream",
     "text": [
      "Match available.  Proceed with linking process.\n"
     ]
    }
   ],
   "source": [
    "# Check for match availability.  If not, halt process and create MPIs\n",
    "from mpi.link import is_match_available\n",
    "from mpi.update import generate_mpi, write_mpi_data, gen_mpi_insert\n",
    "from mpi.update import update_mpi_vector_table\n",
    "from mpi.preprocess import clean_raw\n",
    "\n",
    "\n",
    "if is_match_available(dview, iview):\n",
    "    print('Match available.  Proceed with linking process.')\n",
    "else:\n",
    "    print('Match unavailable.  Generated MPIs for data view.')\n",
    "    temp = generate_mpi(\n",
    "        clean_raw(dview)\n",
    "    )\n",
    "    write_mpi_data(gen_mpi_insert(temp))\n",
    "    update_mpi_vector_table()\n",
    "    \n",
    "    # Recreate a view from the MPI table with valid identity data\n",
    "    iview = create_identity_view(mapped_columns=dview.columns.tolist())\n",
    "    "
   ]
  },
  {
   "cell_type": "code",
   "execution_count": 68,
   "metadata": {},
   "outputs": [
    {
     "data": {
      "text/html": [
       "<div>\n",
       "<style scoped>\n",
       "    .dataframe tbody tr th:only-of-type {\n",
       "        vertical-align: middle;\n",
       "    }\n",
       "\n",
       "    .dataframe tbody tr th {\n",
       "        vertical-align: top;\n",
       "    }\n",
       "\n",
       "    .dataframe thead th {\n",
       "        text-align: right;\n",
       "    }\n",
       "</style>\n",
       "<table border=\"1\" class=\"dataframe\">\n",
       "  <thead>\n",
       "    <tr style=\"text-align: right;\">\n",
       "      <th></th>\n",
       "      <th>BIA</th>\n",
       "      <th>DISABLED</th>\n",
       "      <th>DISPLACEDHOMEMAKER</th>\n",
       "      <th>DWS</th>\n",
       "      <th>ECON</th>\n",
       "      <th>LEP</th>\n",
       "      <th>PELL</th>\n",
       "      <th>SINGLEPARENT</th>\n",
       "      <th>U_AGE</th>\n",
       "      <th>U_BIRTH_DT</th>\n",
       "      <th>...</th>\n",
       "      <th>U_SSN</th>\n",
       "      <th>U_START_DATE</th>\n",
       "      <th>U_STATE_ORIGIN</th>\n",
       "      <th>U_STOP_DATE</th>\n",
       "      <th>U_SUBJ</th>\n",
       "      <th>U_SUFFIX</th>\n",
       "      <th>U_TITLE</th>\n",
       "      <th>U_YEAR</th>\n",
       "      <th>id</th>\n",
       "      <th>guid</th>\n",
       "    </tr>\n",
       "  </thead>\n",
       "  <tbody>\n",
       "    <tr>\n",
       "      <th>0</th>\n",
       "      <td>0</td>\n",
       "      <td>1</td>\n",
       "      <td>1</td>\n",
       "      <td>0</td>\n",
       "      <td>0</td>\n",
       "      <td>1</td>\n",
       "      <td>1</td>\n",
       "      <td>0</td>\n",
       "      <td>42</td>\n",
       "      <td>4/15/2110</td>\n",
       "      <td>...</td>\n",
       "      <td>133782248</td>\n",
       "      <td>20162189</td>\n",
       "      <td>DE</td>\n",
       "      <td>58081754</td>\n",
       "      <td>FLUID POWER HYDRAULICS</td>\n",
       "      <td>None</td>\n",
       "      <td>WASHINGTON CO. ECONOMIC TRAINING</td>\n",
       "      <td>2011</td>\n",
       "      <td>7547</td>\n",
       "      <td>1213927359125022454</td>\n",
       "    </tr>\n",
       "  </tbody>\n",
       "</table>\n",
       "<p>1 rows × 58 columns</p>\n",
       "</div>"
      ],
      "text/plain": [
       "   BIA  DISABLED  DISPLACEDHOMEMAKER  DWS  ECON  LEP  PELL  SINGLEPARENT  \\\n",
       "0    0         1                   1    0     0    1     1             0   \n",
       "\n",
       "   U_AGE U_BIRTH_DT  ...      U_SSN U_START_DATE  U_STATE_ORIGIN U_STOP_DATE  \\\n",
       "0     42  4/15/2110  ...  133782248     20162189              DE    58081754   \n",
       "\n",
       "                   U_SUBJ U_SUFFIX                            U_TITLE U_YEAR  \\\n",
       "0  FLUID POWER HYDRAULICS     None  WASHINGTON CO. ECONOMIC TRAINING    2011   \n",
       "\n",
       "     id                 guid  \n",
       "0  7547  1213927359125022454  \n",
       "\n",
       "[1 rows x 58 columns]"
      ]
     },
     "execution_count": 68,
     "metadata": {},
     "output_type": "execute_result"
    }
   ],
   "source": [
    "raw.head(1)"
   ]
  },
  {
   "cell_type": "code",
   "execution_count": 69,
   "metadata": {},
   "outputs": [
    {
     "data": {
      "text/html": [
       "<div>\n",
       "<style scoped>\n",
       "    .dataframe tbody tr th:only-of-type {\n",
       "        vertical-align: middle;\n",
       "    }\n",
       "\n",
       "    .dataframe tbody tr th {\n",
       "        vertical-align: top;\n",
       "    }\n",
       "\n",
       "    .dataframe thead th {\n",
       "        text-align: right;\n",
       "    }\n",
       "</style>\n",
       "<table border=\"1\" class=\"dataframe\">\n",
       "  <thead>\n",
       "    <tr style=\"text-align: right;\">\n",
       "      <th></th>\n",
       "      <th>birth_date_pool</th>\n",
       "      <th>first_name_pool</th>\n",
       "      <th>gender_pool</th>\n",
       "      <th>ustc_student_id_pool</th>\n",
       "      <th>last_name_pool</th>\n",
       "      <th>middle_name_pool</th>\n",
       "      <th>ssn_pool</th>\n",
       "      <th>guid</th>\n",
       "    </tr>\n",
       "  </thead>\n",
       "  <tbody>\n",
       "    <tr>\n",
       "      <th>0</th>\n",
       "      <td>4/15/2110</td>\n",
       "      <td>Lajan</td>\n",
       "      <td>f</td>\n",
       "      <td>253355.0</td>\n",
       "      <td>Spidle Flaminio</td>\n",
       "      <td>Maxwell Weaver</td>\n",
       "      <td>133782248</td>\n",
       "      <td>1213927359125022454</td>\n",
       "    </tr>\n",
       "  </tbody>\n",
       "</table>\n",
       "</div>"
      ],
      "text/plain": [
       "  birth_date_pool first_name_pool gender_pool  ustc_student_id_pool  \\\n",
       "0       4/15/2110           Lajan           f              253355.0   \n",
       "\n",
       "    last_name_pool middle_name_pool   ssn_pool                 guid  \n",
       "0  Spidle Flaminio   Maxwell Weaver  133782248  1213927359125022454  "
      ]
     },
     "execution_count": 69,
     "metadata": {},
     "output_type": "execute_result"
    }
   ],
   "source": [
    "dview.head(1)"
   ]
  },
  {
   "cell_type": "code",
   "execution_count": 70,
   "metadata": {},
   "outputs": [
    {
     "data": {
      "text/html": [
       "<div>\n",
       "<style scoped>\n",
       "    .dataframe tbody tr th:only-of-type {\n",
       "        vertical-align: middle;\n",
       "    }\n",
       "\n",
       "    .dataframe tbody tr th {\n",
       "        vertical-align: top;\n",
       "    }\n",
       "\n",
       "    .dataframe thead th {\n",
       "        text-align: right;\n",
       "    }\n",
       "</style>\n",
       "<table border=\"1\" class=\"dataframe\">\n",
       "  <thead>\n",
       "    <tr style=\"text-align: right;\">\n",
       "      <th></th>\n",
       "      <th>last_name_pool</th>\n",
       "      <th>middle_name_pool</th>\n",
       "      <th>birth_date_pool</th>\n",
       "      <th>gender_pool</th>\n",
       "      <th>first_name_pool</th>\n",
       "      <th>freq_score</th>\n",
       "      <th>mpi</th>\n",
       "    </tr>\n",
       "  </thead>\n",
       "  <tbody>\n",
       "    <tr>\n",
       "      <th>0</th>\n",
       "      <td>zitzman</td>\n",
       "      <td>adrianne</td>\n",
       "      <td>1/3/1856</td>\n",
       "      <td>n</td>\n",
       "      <td>jasmyn rei</td>\n",
       "      <td>1.0</td>\n",
       "      <td>15421391-15812190-13158206-645253</td>\n",
       "    </tr>\n",
       "  </tbody>\n",
       "</table>\n",
       "</div>"
      ],
      "text/plain": [
       "  last_name_pool middle_name_pool birth_date_pool gender_pool first_name_pool  \\\n",
       "0        zitzman         adrianne        1/3/1856           n      jasmyn rei   \n",
       "\n",
       "   freq_score                                mpi  \n",
       "0         1.0  15421391-15812190-13158206-645253  "
      ]
     },
     "execution_count": 70,
     "metadata": {},
     "output_type": "execute_result"
    }
   ],
   "source": [
    "iview.head(1)"
   ]
  },
  {
   "cell_type": "code",
   "execution_count": 71,
   "metadata": {},
   "outputs": [
    {
     "data": {
      "text/plain": [
       "10000"
      ]
     },
     "execution_count": 71,
     "metadata": {},
     "output_type": "execute_result"
    }
   ],
   "source": [
    "len(iview)"
   ]
  },
  {
   "cell_type": "markdown",
   "metadata": {},
   "source": [
    "## Building record linkage and mpi classification"
   ]
  },
  {
   "cell_type": "code",
   "execution_count": 72,
   "metadata": {},
   "outputs": [],
   "source": [
    "from mpi.preprocess import clean_raw, match_dtype"
   ]
  },
  {
   "cell_type": "markdown",
   "metadata": {},
   "source": [
    "### Preprocessing\n",
    "\n",
    "Standardize data across data and identity views."
   ]
  },
  {
   "cell_type": "code",
   "execution_count": 73,
   "metadata": {},
   "outputs": [],
   "source": [
    "# Match Dtypes - Align data types prior to cleaning.\n",
    "#    This helps the cleaner by segmenting string/object and numeric fields\n",
    "\n",
    "# Cast columns to matching datatypes for comparisons later on\n",
    "source_data, id_data = match_dtype(dview, iview)  \n",
    "\n",
    "# Clean data and re-index comparison.\n",
    "subset = clean_raw(subset)\n",
    "source_data = clean_raw(source_data)\n",
    "id_data = clean_raw(id_data)"
   ]
  },
  {
   "cell_type": "code",
   "execution_count": 74,
   "metadata": {},
   "outputs": [
    {
     "data": {
      "text/html": [
       "<div>\n",
       "<style scoped>\n",
       "    .dataframe tbody tr th:only-of-type {\n",
       "        vertical-align: middle;\n",
       "    }\n",
       "\n",
       "    .dataframe tbody tr th {\n",
       "        vertical-align: top;\n",
       "    }\n",
       "\n",
       "    .dataframe thead th {\n",
       "        text-align: right;\n",
       "    }\n",
       "</style>\n",
       "<table border=\"1\" class=\"dataframe\">\n",
       "  <thead>\n",
       "    <tr style=\"text-align: right;\">\n",
       "      <th></th>\n",
       "      <th>birth_date_pool</th>\n",
       "      <th>first_name_pool</th>\n",
       "      <th>gender_pool</th>\n",
       "      <th>ustc_student_id_pool</th>\n",
       "      <th>last_name_pool</th>\n",
       "      <th>middle_name_pool</th>\n",
       "      <th>ssn_pool</th>\n",
       "      <th>guid</th>\n",
       "    </tr>\n",
       "  </thead>\n",
       "  <tbody>\n",
       "    <tr>\n",
       "      <th>0</th>\n",
       "      <td>4/15/2110</td>\n",
       "      <td>lajan</td>\n",
       "      <td>f</td>\n",
       "      <td>253355.0</td>\n",
       "      <td>spidle flaminio</td>\n",
       "      <td>maxwell weaver</td>\n",
       "      <td>133782248</td>\n",
       "      <td>1213927359125022454</td>\n",
       "    </tr>\n",
       "  </tbody>\n",
       "</table>\n",
       "</div>"
      ],
      "text/plain": [
       "  birth_date_pool first_name_pool gender_pool  ustc_student_id_pool  \\\n",
       "0       4/15/2110           lajan           f              253355.0   \n",
       "\n",
       "    last_name_pool middle_name_pool   ssn_pool                 guid  \n",
       "0  spidle flaminio   maxwell weaver  133782248  1213927359125022454  "
      ]
     },
     "execution_count": 74,
     "metadata": {},
     "output_type": "execute_result"
    }
   ],
   "source": [
    "source_data.head(1)"
   ]
  },
  {
   "cell_type": "code",
   "execution_count": 75,
   "metadata": {},
   "outputs": [
    {
     "data": {
      "text/html": [
       "<div>\n",
       "<style scoped>\n",
       "    .dataframe tbody tr th:only-of-type {\n",
       "        vertical-align: middle;\n",
       "    }\n",
       "\n",
       "    .dataframe tbody tr th {\n",
       "        vertical-align: top;\n",
       "    }\n",
       "\n",
       "    .dataframe thead th {\n",
       "        text-align: right;\n",
       "    }\n",
       "</style>\n",
       "<table border=\"1\" class=\"dataframe\">\n",
       "  <thead>\n",
       "    <tr style=\"text-align: right;\">\n",
       "      <th></th>\n",
       "      <th>last_name_pool</th>\n",
       "      <th>middle_name_pool</th>\n",
       "      <th>birth_date_pool</th>\n",
       "      <th>gender_pool</th>\n",
       "      <th>first_name_pool</th>\n",
       "      <th>freq_score</th>\n",
       "      <th>mpi</th>\n",
       "    </tr>\n",
       "  </thead>\n",
       "  <tbody>\n",
       "    <tr>\n",
       "      <th>0</th>\n",
       "      <td>zitzman</td>\n",
       "      <td>adrianne</td>\n",
       "      <td>1/3/1856</td>\n",
       "      <td>n</td>\n",
       "      <td>jasmyn rei</td>\n",
       "      <td>1.0</td>\n",
       "      <td>15421391-15812190-13158206-645253</td>\n",
       "    </tr>\n",
       "  </tbody>\n",
       "</table>\n",
       "</div>"
      ],
      "text/plain": [
       "  last_name_pool middle_name_pool birth_date_pool gender_pool first_name_pool  \\\n",
       "0        zitzman         adrianne        1/3/1856           n      jasmyn rei   \n",
       "\n",
       "   freq_score                                mpi  \n",
       "0         1.0  15421391-15812190-13158206-645253  "
      ]
     },
     "execution_count": 75,
     "metadata": {},
     "output_type": "execute_result"
    }
   ],
   "source": [
    "id_data.head(1)"
   ]
  },
  {
   "cell_type": "markdown",
   "metadata": {},
   "source": [
    "## Indexing\n",
    "\n",
    "Make record pairs - pair rows needing match to potential identity candidates.\n",
    "\n",
    "Indexing serves two purposes:\n",
    "\n",
    "1. Create the list of pairs to check (candidate link).  Example: row 1 from table 1 to row 199 from table 2.\n",
    "\n",
    "2. Reduce the potential number of pairs to check (candidates)."
   ]
  },
  {
   "cell_type": "code",
   "execution_count": 76,
   "metadata": {},
   "outputs": [],
   "source": [
    "from mpi.index import build_indexer\n",
    "from utils import match_dataframe_columns"
   ]
  },
  {
   "cell_type": "code",
   "execution_count": 77,
   "metadata": {},
   "outputs": [
    {
     "data": {
      "text/plain": [
       "[<SortedNeighbourhood left_on='last_name_pool', right_on='last_name_pool'>,\n",
       " <SortedNeighbourhood left_on='middle_name_pool', right_on='middle_name_pool'>,\n",
       " <SortedNeighbourhood left_on='first_name_pool', right_on='first_name_pool'>]"
      ]
     },
     "execution_count": 77,
     "metadata": {},
     "output_type": "execute_result"
    }
   ],
   "source": [
    "# Create indexer on dataview\n",
    "#    Indexer is a set of rules to generate \n",
    "#    candidate matches from data -> identities\n",
    "\n",
    "source_matched, id_matched = match_dataframe_columns(source_data, id_data)\n",
    "\n",
    "indexer = build_indexer(source_matched)\n",
    "\n",
    "# Check index algorithms (generated from data view columns)\n",
    "indexer.algorithms"
   ]
  },
  {
   "cell_type": "code",
   "execution_count": 78,
   "metadata": {},
   "outputs": [
    {
     "name": "stdout",
     "output_type": "stream",
     "text": [
      "Full Index Length:  100000000\n",
      "Algorithmic Index Length:  57189\n",
      "Savings:  99.94281099999999\n",
      "Data-row 0 ID-row 1421\n",
      "Data-row 0 ID-row 3305\n",
      "Data-row 0 ID-row 5837\n",
      "Data-row 0 ID-row 6292\n",
      "Data-row 0 ID-row 6529\n"
     ]
    }
   ],
   "source": [
    "# Run indexer on dataview, identity view\n",
    "candidates = indexer.index(source_matched, id_matched)\n",
    "\n",
    "# Full indexing is a cross join of data and all possible identities.\n",
    "\n",
    "# Demonstrating full indexing size:\n",
    "print('Full Index Length: ', len(source_data) * len(id_data))\n",
    "\n",
    "# Examine multi indices.  On the left is the data view index.  Right identity.\n",
    "print('Algorithmic Index Length: ', len(candidates))\n",
    "\n",
    "# Estimate Savings\n",
    "print('Savings: ', (1- len(candidates)/(len(source_data) * len(id_data))) * 100)\n",
    "\n",
    "# Preview indices:\n",
    "for pair in candidates[0:5]:\n",
    "    print(f'Data-row {pair[0]}', f'ID-row {pair[1]}')"
   ]
  },
  {
   "cell_type": "markdown",
   "metadata": {},
   "source": [
    "## Comparing\n",
    "\n",
    "Indexing does not normally store the outcome of its findings.  Indexing algorithms are meant to be fast, can be error prone.  Algorithms can be tuned for string (many), numeric, and time/date fields.\n",
    "\n",
    "The output of comparison is a clean feature matrix for the classifier to train/predict on."
   ]
  },
  {
   "cell_type": "code",
   "execution_count": 79,
   "metadata": {},
   "outputs": [],
   "source": [
    "from mpi.compare import build_comparator"
   ]
  },
  {
   "cell_type": "code",
   "execution_count": 80,
   "metadata": {},
   "outputs": [
    {
     "data": {
      "text/plain": [
       "[<String 'last_name_pool'>,\n",
       " <String 'middle_name_pool'>,\n",
       " <String 'gender_pool'>,\n",
       " <String 'first_name_pool'>]"
      ]
     },
     "execution_count": 80,
     "metadata": {},
     "output_type": "execute_result"
    }
   ],
   "source": [
    "# Create comparator on dataview\n",
    "#    Comparator is a set of algorithms for each feature to be compared.\n",
    "#    These are genearlly much more expensive compared to indexing functions\n",
    "cmp = build_comparator(source_matched)\n",
    "\n",
    "# Check comparison algorithms and fields\n",
    "cmp.features"
   ]
  },
  {
   "cell_type": "code",
   "execution_count": 81,
   "metadata": {},
   "outputs": [
    {
     "data": {
      "text/html": [
       "<div>\n",
       "<style scoped>\n",
       "    .dataframe tbody tr th:only-of-type {\n",
       "        vertical-align: middle;\n",
       "    }\n",
       "\n",
       "    .dataframe tbody tr th {\n",
       "        vertical-align: top;\n",
       "    }\n",
       "\n",
       "    .dataframe thead th {\n",
       "        text-align: right;\n",
       "    }\n",
       "</style>\n",
       "<table border=\"1\" class=\"dataframe\">\n",
       "  <thead>\n",
       "    <tr style=\"text-align: right;\">\n",
       "      <th></th>\n",
       "      <th></th>\n",
       "      <th>last_name_pool</th>\n",
       "      <th>middle_name_pool</th>\n",
       "      <th>gender_pool</th>\n",
       "      <th>first_name_pool</th>\n",
       "    </tr>\n",
       "  </thead>\n",
       "  <tbody>\n",
       "    <tr>\n",
       "      <th rowspan=\"5\" valign=\"top\">0</th>\n",
       "      <th>1421</th>\n",
       "      <td>0.0</td>\n",
       "      <td>0.0</td>\n",
       "      <td>0.0</td>\n",
       "      <td>1.0</td>\n",
       "    </tr>\n",
       "    <tr>\n",
       "      <th>3305</th>\n",
       "      <td>0.0</td>\n",
       "      <td>0.0</td>\n",
       "      <td>1.0</td>\n",
       "      <td>1.0</td>\n",
       "    </tr>\n",
       "    <tr>\n",
       "      <th>5837</th>\n",
       "      <td>0.0</td>\n",
       "      <td>1.0</td>\n",
       "      <td>0.0</td>\n",
       "      <td>0.0</td>\n",
       "    </tr>\n",
       "    <tr>\n",
       "      <th>6292</th>\n",
       "      <td>0.0</td>\n",
       "      <td>0.0</td>\n",
       "      <td>1.0</td>\n",
       "      <td>0.0</td>\n",
       "    </tr>\n",
       "    <tr>\n",
       "      <th>6529</th>\n",
       "      <td>0.0</td>\n",
       "      <td>0.0</td>\n",
       "      <td>0.0</td>\n",
       "      <td>0.0</td>\n",
       "    </tr>\n",
       "  </tbody>\n",
       "</table>\n",
       "</div>"
      ],
      "text/plain": [
       "        last_name_pool  middle_name_pool  gender_pool  first_name_pool\n",
       "0 1421             0.0               0.0          0.0              1.0\n",
       "  3305             0.0               0.0          1.0              1.0\n",
       "  5837             0.0               1.0          0.0              0.0\n",
       "  6292             0.0               0.0          1.0              0.0\n",
       "  6529             0.0               0.0          0.0              0.0"
      ]
     },
     "execution_count": 81,
     "metadata": {},
     "output_type": "execute_result"
    }
   ],
   "source": [
    "# Compute comparisons\n",
    "#    Gives clean match dataset for classification\n",
    "comparisons = cmp.compute(candidates, source_data, id_data)\n",
    "comparisons.head()"
   ]
  },
  {
   "cell_type": "markdown",
   "metadata": {},
   "source": [
    "## Classification\n",
    "\n",
    "Score candidates for match.  \n",
    "\n",
    "#### Two approaches: Supervised vs Unsupervised\n",
    " * **Supervised** approach requires a training set.\n",
    " * **Unsupervised** does not require a training set and operates on only on the comparison table itself."
   ]
  },
  {
   "cell_type": "code",
   "execution_count": 82,
   "metadata": {},
   "outputs": [
    {
     "data": {
      "text/plain": [
       "0     1421    6.279980e-06\n",
       "      3305    1.203283e-04\n",
       "      5837    7.140157e-06\n",
       "      6292    2.961327e-07\n",
       "      6529    1.545352e-08\n",
       "                  ...     \n",
       "9998  9230    1.203283e-04\n",
       "9999  335     1.545352e-08\n",
       "      1358    6.279980e-06\n",
       "      9619    7.140157e-06\n",
       "      9632    1.036524e-05\n",
       "Length: 57189, dtype: float64"
      ]
     },
     "execution_count": 82,
     "metadata": {},
     "output_type": "execute_result"
    }
   ],
   "source": [
    "from mpi.classify import estimate_true, build_classifier\n",
    "\n",
    "# Get estimated true linkages for supervised model\n",
    "links_true = estimate_true(comparisons)\n",
    "\n",
    "# Create classifier\n",
    "clf = build_classifier('logistic', comparisons, match_index=links_true)\n",
    "\n",
    "# Check probabilities (score) of each comparison -- NOT IN USE IN THIS VERSION\n",
    "predictions = clf.prob(comparison_vectors=comparisons)\n",
    "predictions"
   ]
  },
  {
   "cell_type": "markdown",
   "metadata": {},
   "source": [
    "## Evaluate\n",
    "Express classification quality and explore outliers"
   ]
  },
  {
   "cell_type": "code",
   "execution_count": 83,
   "metadata": {},
   "outputs": [],
   "source": [
    "from recordlinkage import reduction_ratio\n",
    "from recordlinkage import confusion_matrix\n",
    "\n",
    "links_pred = clf.predict(comparison_vectors=comparisons)\n",
    "\n",
    "rratio = reduction_ratio(links_pred, source_data)\n",
    "cmatrix = confusion_matrix(links_true, links_pred, candidates)"
   ]
  },
  {
   "cell_type": "code",
   "execution_count": 84,
   "metadata": {},
   "outputs": [
    {
     "name": "stdout",
     "output_type": "stream",
     "text": [
      "[[  676     0]\n",
      " [    2 56511]]\n",
      "0.9999864386438644\n"
     ]
    }
   ],
   "source": [
    "# Review confusion matrix\n",
    "#    TP-FN\n",
    "#    |  |\n",
    "#    FP-TN\n",
    "print(cmatrix)\n",
    "\n",
    "# Review reduction ratio\n",
    "print(rratio)"
   ]
  },
  {
   "cell_type": "markdown",
   "metadata": {},
   "source": [
    "The confusion matrix may not be particularly useful here as generation of true links is prone to error. The reduction ratio is more sensitive than binary predictions in this case."
   ]
  },
  {
   "cell_type": "code",
   "execution_count": 85,
   "metadata": {},
   "outputs": [
    {
     "data": {
      "text/plain": [
       "(678, 678)"
      ]
     },
     "execution_count": 85,
     "metadata": {},
     "output_type": "execute_result"
    }
   ],
   "source": [
    "# Review findings\n",
    "#   Interesting that the logistic predicted an MPI indices for each given an incomplete target list.\n",
    "\n",
    "# Is the relationship 1,1?\n",
    "split_list = lambda x: ([ix[0] for ix in x], [ix[1] for ix in x])\n",
    "i1, i2 = split_list(links_pred)\n",
    "len(list(set(i1))), len(list(set(i2)))"
   ]
  },
  {
   "cell_type": "markdown",
   "metadata": {},
   "source": [
    "## Update\n",
    "\n",
    "Append matched MPIs and match score to data view and merge to original data."
   ]
  },
  {
   "cell_type": "code",
   "execution_count": 86,
   "metadata": {},
   "outputs": [
    {
     "data": {
      "text/html": [
       "<div>\n",
       "<style scoped>\n",
       "    .dataframe tbody tr th:only-of-type {\n",
       "        vertical-align: middle;\n",
       "    }\n",
       "\n",
       "    .dataframe tbody tr th {\n",
       "        vertical-align: top;\n",
       "    }\n",
       "\n",
       "    .dataframe thead th {\n",
       "        text-align: right;\n",
       "    }\n",
       "</style>\n",
       "<table border=\"1\" class=\"dataframe\">\n",
       "  <thead>\n",
       "    <tr style=\"text-align: right;\">\n",
       "      <th></th>\n",
       "      <th>BIA</th>\n",
       "      <th>DISABLED</th>\n",
       "      <th>DISPLACEDHOMEMAKER</th>\n",
       "      <th>DWS</th>\n",
       "      <th>ECON</th>\n",
       "      <th>LEP</th>\n",
       "      <th>PELL</th>\n",
       "      <th>SINGLEPARENT</th>\n",
       "      <th>U_AGE</th>\n",
       "      <th>U_BIRTH_DT</th>\n",
       "      <th>...</th>\n",
       "      <th>U_START_DATE</th>\n",
       "      <th>U_STATE_ORIGIN</th>\n",
       "      <th>U_STOP_DATE</th>\n",
       "      <th>U_SUBJ</th>\n",
       "      <th>U_SUFFIX</th>\n",
       "      <th>U_TITLE</th>\n",
       "      <th>U_YEAR</th>\n",
       "      <th>id</th>\n",
       "      <th>guid</th>\n",
       "      <th>mpi</th>\n",
       "    </tr>\n",
       "  </thead>\n",
       "  <tbody>\n",
       "    <tr>\n",
       "      <th>0</th>\n",
       "      <td>0</td>\n",
       "      <td>1</td>\n",
       "      <td>1</td>\n",
       "      <td>0</td>\n",
       "      <td>0</td>\n",
       "      <td>1</td>\n",
       "      <td>1</td>\n",
       "      <td>0</td>\n",
       "      <td>42</td>\n",
       "      <td>4/15/2110</td>\n",
       "      <td>...</td>\n",
       "      <td>20162189</td>\n",
       "      <td>DE</td>\n",
       "      <td>58081754</td>\n",
       "      <td>FLUID POWER HYDRAULICS</td>\n",
       "      <td>None</td>\n",
       "      <td>WASHINGTON CO. ECONOMIC TRAINING</td>\n",
       "      <td>2011</td>\n",
       "      <td>7547</td>\n",
       "      <td>1213927359125022454</td>\n",
       "      <td>10697540-7993183-13589754-362333</td>\n",
       "    </tr>\n",
       "  </tbody>\n",
       "</table>\n",
       "<p>1 rows × 59 columns</p>\n",
       "</div>"
      ],
      "text/plain": [
       "   BIA  DISABLED  DISPLACEDHOMEMAKER  DWS  ECON  LEP  PELL  SINGLEPARENT  \\\n",
       "0    0         1                   1    0     0    1     1             0   \n",
       "\n",
       "   U_AGE U_BIRTH_DT  ... U_START_DATE U_STATE_ORIGIN  U_STOP_DATE  \\\n",
       "0     42  4/15/2110  ...     20162189             DE     58081754   \n",
       "\n",
       "                   U_SUBJ U_SUFFIX                            U_TITLE U_YEAR  \\\n",
       "0  FLUID POWER HYDRAULICS     None  WASHINGTON CO. ECONOMIC TRAINING    2011   \n",
       "\n",
       "     id                 guid                               mpi  \n",
       "0  7547  1213927359125022454  10697540-7993183-13589754-362333  \n",
       "\n",
       "[1 rows x 59 columns]"
      ]
     },
     "execution_count": 86,
     "metadata": {},
     "output_type": "execute_result"
    }
   ],
   "source": [
    "from mpi.update import expand_match_to_raw\n",
    "\n",
    "# Join data view (DISTINCT identities in source table), now containing matched and generated MPIs, to raw table.\n",
    "#    This can be done a few ways.  Here, the data view (whose columns have been renamed and processed)\n",
    "#    is joined to the original subset (whose columns were just renamed).  The subset is then indexed back \n",
    "#    unto the raw table so original column names and source formatting are preserved.\n",
    "\n",
    "\n",
    "updated, matched, unmatched = expand_match_to_raw(raw, subset, source_data, id_data, links_pred)\n",
    "updated.head(1)"
   ]
  },
  {
   "cell_type": "code",
   "execution_count": 87,
   "metadata": {},
   "outputs": [],
   "source": [
    "# Update the MPI Vectors table for future use\n",
    "from mpi.update import update_mpi_vector_table\n",
    "update_mpi_vector_table()"
   ]
  },
  {
   "cell_type": "markdown",
   "metadata": {},
   "source": [
    "### De-Identification\n",
    "\n",
    "Create de-identified table while match available in memory or as referenced temp table."
   ]
  },
  {
   "cell_type": "code",
   "execution_count": 88,
   "metadata": {},
   "outputs": [
    {
     "data": {
      "text/plain": [
       "'ustc_students_di'"
      ]
     },
     "execution_count": 88,
     "metadata": {},
     "output_type": "execute_result"
    }
   ],
   "source": [
    "from assets.mapping import colmap\n",
    "from db import dataframe_to_db\n",
    "from di import simple_di\n",
    "\n",
    "dataframe_to_db(\n",
    "    simple_di(updated), \n",
    "    tablename=source_tablename + '_di'\n",
    ")"
   ]
  },
  {
   "cell_type": "code",
   "execution_count": null,
   "metadata": {},
   "outputs": [],
   "source": []
  },
  {
   "cell_type": "markdown",
   "metadata": {},
   "source": [
    "## Flag MPI\n",
    "\n",
    "Rule 1:  MPI contains disagreement in blocking identifiers (local_id, ssn, ssid)\n",
    "\n",
    "Rule 2:  Blocking identifer shared between multiple MPI"
   ]
  },
  {
   "cell_type": "code",
   "execution_count": 1,
   "metadata": {},
   "outputs": [],
   "source": [
    "from mpi.postprocess import Rule2\n",
    "\n",
    "f = Rule2()"
   ]
  },
  {
   "cell_type": "code",
   "execution_count": 2,
   "metadata": {},
   "outputs": [
    {
     "data": {
      "text/html": [
       "<div>\n",
       "<style scoped>\n",
       "    .dataframe tbody tr th:only-of-type {\n",
       "        vertical-align: middle;\n",
       "    }\n",
       "\n",
       "    .dataframe tbody tr th {\n",
       "        vertical-align: top;\n",
       "    }\n",
       "\n",
       "    .dataframe thead th {\n",
       "        text-align: right;\n",
       "    }\n",
       "</style>\n",
       "<table border=\"1\" class=\"dataframe\">\n",
       "  <thead>\n",
       "    <tr style=\"text-align: right;\">\n",
       "      <th></th>\n",
       "    </tr>\n",
       "  </thead>\n",
       "  <tbody>\n",
       "  </tbody>\n",
       "</table>\n",
       "</div>"
      ],
      "text/plain": [
       "Empty DataFrame\n",
       "Columns: []\n",
       "Index: []"
      ]
     },
     "execution_count": 2,
     "metadata": {},
     "output_type": "execute_result"
    }
   ],
   "source": [
    "f"
   ]
  },
  {
   "cell_type": "code",
   "execution_count": null,
   "metadata": {},
   "outputs": [],
   "source": []
  }
 ],
 "metadata": {
  "kernelspec": {
   "display_name": "Python 3",
   "language": "python",
   "name": "python3"
  },
  "language_info": {
   "codemirror_mode": {
    "name": "ipython",
    "version": 3
   },
   "file_extension": ".py",
   "mimetype": "text/x-python",
   "name": "python",
   "nbconvert_exporter": "python",
   "pygments_lexer": "ipython3",
   "version": "3.8.6"
  }
 },
 "nbformat": 4,
 "nbformat_minor": 4
}
