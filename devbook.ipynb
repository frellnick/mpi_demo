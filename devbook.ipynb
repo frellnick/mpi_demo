{
 "cells": [
  {
   "cell_type": "code",
   "execution_count": 1,
   "metadata": {},
   "outputs": [],
   "source": [
    "from mpi import create_distinct_view, create_identity_view, link\n",
    "import pandas as pd\n",
    "import os\n",
    "from utils.db import get_session, get_mongo\n",
    "from utils.models import *"
   ]
  },
  {
   "cell_type": "markdown",
   "metadata": {},
   "source": [
    "## Ingest\n",
    "Bring .csv into the system"
   ]
  },
  {
   "cell_type": "code",
   "execution_count": 41,
   "metadata": {},
   "outputs": [
    {
     "data": {
      "text/plain": [
       "['dws_wages.csv',\n",
       " 'usbe_students.csv',\n",
       " 'ushe_students.csv',\n",
       " 'ustc_students.csv']"
      ]
     },
     "execution_count": 41,
     "metadata": {},
     "output_type": "execute_result"
    }
   ],
   "source": [
    "from ingest import load_file\n",
    "os.listdir('assets/data')"
   ]
  },
  {
   "cell_type": "code",
   "execution_count": 42,
   "metadata": {},
   "outputs": [],
   "source": [
    "load_file('assets/data/dws_wages.csv', 'dws_wages')\n",
    "load_file('assets/data/usbe_students.csv', 'usbe_students')\n",
    "load_file('assets/data/ustc_students.csv', 'ustc_students')\n",
    "load_file('assets/data/ushe_students.csv', 'ushe_students')"
   ]
  },
  {
   "cell_type": "markdown",
   "metadata": {},
   "source": [
    "## Linking Steps\n",
    "\n",
    "Process of Record Linkage\n",
    "\n",
    "0. Load\n",
    "1. Preprocess\n",
    "2. Index\n",
    "3. Compare\n",
    "4. Classify\n",
    "5. Evaluate\n",
    "6. Update (Post MPI - Adding new information, new MPI, to MPI Master Record)"
   ]
  },
  {
   "cell_type": "markdown",
   "metadata": {},
   "source": [
    "### Master Person Architectures\n",
    "Visualize data architecture store of MPI raw records.  NOTE: data may not be present in all database options.  Use whichever cell aligns with configured loading behavior."
   ]
  },
  {
   "cell_type": "markdown",
   "metadata": {},
   "source": [
    "**SQL** View"
   ]
  },
  {
   "cell_type": "code",
   "execution_count": 47,
   "metadata": {},
   "outputs": [
    {
     "data": {
      "text/html": [
       "<div>\n",
       "<style scoped>\n",
       "    .dataframe tbody tr th:only-of-type {\n",
       "        vertical-align: middle;\n",
       "    }\n",
       "\n",
       "    .dataframe tbody tr th {\n",
       "        vertical-align: top;\n",
       "    }\n",
       "\n",
       "    .dataframe thead th {\n",
       "        text-align: right;\n",
       "    }\n",
       "</style>\n",
       "<table border=\"1\" class=\"dataframe\">\n",
       "  <thead>\n",
       "    <tr style=\"text-align: right;\">\n",
       "      <th></th>\n",
       "      <th>mpi</th>\n",
       "      <th>field</th>\n",
       "      <th>value</th>\n",
       "      <th>score</th>\n",
       "      <th>guid</th>\n",
       "    </tr>\n",
       "  </thead>\n",
       "  <tbody>\n",
       "    <tr>\n",
       "      <th>0</th>\n",
       "      <td>15343154-13459944-13878525-11385390</td>\n",
       "      <td>ushe_student_id_pool</td>\n",
       "      <td>469629.0</td>\n",
       "      <td>1.0</td>\n",
       "      <td>1772797024894460804</td>\n",
       "    </tr>\n",
       "    <tr>\n",
       "      <th>1</th>\n",
       "      <td>15343154-13459944-13878525-11385390</td>\n",
       "      <td>last_name_pool</td>\n",
       "      <td>Steed</td>\n",
       "      <td>1.0</td>\n",
       "      <td>1772797024894460804</td>\n",
       "    </tr>\n",
       "    <tr>\n",
       "      <th>2</th>\n",
       "      <td>15343154-13459944-13878525-11385390</td>\n",
       "      <td>first_name_pool</td>\n",
       "      <td>Sakayla</td>\n",
       "      <td>1.0</td>\n",
       "      <td>1772797024894460804</td>\n",
       "    </tr>\n",
       "    <tr>\n",
       "      <th>3</th>\n",
       "      <td>15343154-13459944-13878525-11385390</td>\n",
       "      <td>middle_name_pool</td>\n",
       "      <td>Conder</td>\n",
       "      <td>1.0</td>\n",
       "      <td>1772797024894460804</td>\n",
       "    </tr>\n",
       "    <tr>\n",
       "      <th>4</th>\n",
       "      <td>15343154-13459944-13878525-11385390</td>\n",
       "      <td>birth_date_pool</td>\n",
       "      <td>6/20/2859</td>\n",
       "      <td>1.0</td>\n",
       "      <td>1772797024894460804</td>\n",
       "    </tr>\n",
       "  </tbody>\n",
       "</table>\n",
       "</div>"
      ],
      "text/plain": [
       "                                   mpi                 field      value  \\\n",
       "0  15343154-13459944-13878525-11385390  ushe_student_id_pool   469629.0   \n",
       "1  15343154-13459944-13878525-11385390        last_name_pool      Steed   \n",
       "2  15343154-13459944-13878525-11385390       first_name_pool    Sakayla   \n",
       "3  15343154-13459944-13878525-11385390      middle_name_pool     Conder   \n",
       "4  15343154-13459944-13878525-11385390       birth_date_pool  6/20/2859   \n",
       "\n",
       "   score                 guid  \n",
       "0    1.0  1772797024894460804  \n",
       "1    1.0  1772797024894460804  \n",
       "2    1.0  1772797024894460804  \n",
       "3    1.0  1772797024894460804  \n",
       "4    1.0  1772797024894460804  "
      ]
     },
     "execution_count": 47,
     "metadata": {},
     "output_type": "execute_result"
    }
   ],
   "source": [
    "with get_session() as session:\n",
    "    result = session.execute(\n",
    "        'SELECT * FROM master_person_long LIMIT 5'\n",
    "    ).fetchall()\n",
    "    count_mpi = session.execute(\n",
    "        'SELECT COUNT(DISTINCT(mpi)) FROM master_person_long'\n",
    "    ).fetchone()\n",
    "columns = ('mpi', 'field', 'value', 'score', 'guid')\n",
    "pd.DataFrame(result, columns=columns)"
   ]
  },
  {
   "cell_type": "code",
   "execution_count": null,
   "metadata": {},
   "outputs": [],
   "source": [
    "print('Total MPI in system: ', count_mpi[0])"
   ]
  },
  {
   "cell_type": "markdown",
   "metadata": {},
   "source": [
    "**NoSQL** View"
   ]
  },
  {
   "cell_type": "code",
   "execution_count": 39,
   "metadata": {},
   "outputs": [
    {
     "name": "stdout",
     "output_type": "stream",
     "text": [
      "{\n",
      "  \"_id\": \"5fbe592b6499310813ee0b0a\",\n",
      "  \"mpi\": 1,\n",
      "  \"sources\": [\n",
      "    {\n",
      "      \"guid\": 11,\n",
      "      \"score\": 0.0,\n",
      "      \"fields\": [\n",
      "        {\n",
      "          \"fieldname\": \"last_name\",\n",
      "          \"value\": null\n",
      "        },\n",
      "        {\n",
      "          \"fieldname\": \"first_name\",\n",
      "          \"value\": \"elvis\"\n",
      "        }\n",
      "      ]\n",
      "    },\n",
      "    [\n",
      "      {\n",
      "        \"guid\": 11,\n",
      "        \"score\": 0.0,\n",
      "        \"fields\": [\n",
      "          {\n",
      "            \"fieldname\": \"last_name\",\n",
      "            \"value\": null\n",
      "          },\n",
      "          {\n",
      "            \"fieldname\": \"first_name\",\n",
      "            \"value\": \"elvis\"\n",
      "          }\n",
      "        ]\n",
      "      }\n",
      "    ],\n",
      "    [\n",
      "      {\n",
      "        \"guid\": 12,\n",
      "        \"score\": 0.0,\n",
      "        \"fields\": [\n",
      "          {\n",
      "            \"fieldname\": \"last_name\",\n",
      "            \"value\": \"presley\"\n",
      "          },\n",
      "          {\n",
      "            \"fieldname\": \"first_name\",\n",
      "            \"value\": \"elvis\"\n",
      "          }\n",
      "        ]\n",
      "      }\n",
      "    ],\n",
      "    [\n",
      "      {\n",
      "        \"guid\": 13,\n",
      "        \"score\": 0.0,\n",
      "        \"fields\": [\n",
      "          {\n",
      "            \"fieldname\": \"last_name\",\n",
      "            \"value\": \"costello\"\n",
      "          },\n",
      "          {\n",
      "            \"fieldname\": \"first_name\",\n",
      "            \"value\": \"elvis\"\n",
      "          }\n",
      "        ]\n",
      "      }\n",
      "    ]\n",
      "  ]\n",
      "}\n"
     ]
    }
   ],
   "source": [
    "import json\n",
    "\n",
    "db = get_mongo()\n",
    "count_docs = db.raw.count_documents({})\n",
    "x = db.raw.find_one({'mpi': 1})\n",
    "x['_id'] = str(x['_id'])\n",
    "\n",
    "print(json.dumps(x, indent=2))"
   ]
  },
  {
   "cell_type": "code",
   "execution_count": 28,
   "metadata": {},
   "outputs": [
    {
     "name": "stdout",
     "output_type": "stream",
     "text": [
      "Total MPI in system:  1\n"
     ]
    }
   ],
   "source": [
    "print('Total MPI in system: ', count_docs)"
   ]
  },
  {
   "cell_type": "markdown",
   "metadata": {},
   "source": [
    "## Prepare Data\n",
    "\n",
    "Prepare identity view (MPI vectors) and data view (distinct mapped columns from source)"
   ]
  },
  {
   "cell_type": "code",
   "execution_count": 1,
   "metadata": {},
   "outputs": [],
   "source": [
    "source_tablename = 'ustc_students'"
   ]
  },
  {
   "cell_type": "code",
   "execution_count": 3,
   "metadata": {},
   "outputs": [],
   "source": [
    "from utils.db import query_db, get_db\n",
    "from mpi.prepare import create_data_view, create_identity_view\n",
    "import logging\n",
    "\n",
    "preplogger = logging.getLogger('notebook')"
   ]
  },
  {
   "cell_type": "code",
   "execution_count": 6,
   "metadata": {},
   "outputs": [],
   "source": [
    "raw, dview = create_data_view(source_tablename)"
   ]
  },
  {
   "cell_type": "code",
   "execution_count": 9,
   "metadata": {},
   "outputs": [
    {
     "ename": "TypeError",
     "evalue": "create_identity_view() missing 1 required positional argument: 'mapped_columns'",
     "output_type": "error",
     "traceback": [
      "\u001b[0;31m---------------------------------------------------------------------------\u001b[0m",
      "\u001b[0;31mTypeError\u001b[0m                                 Traceback (most recent call last)",
      "\u001b[0;32m<ipython-input-9-b595ec96bafe>\u001b[0m in \u001b[0;36m<module>\u001b[0;34m\u001b[0m\n\u001b[0;32m----> 1\u001b[0;31m \u001b[0miview\u001b[0m \u001b[0;34m=\u001b[0m \u001b[0mcreate_identity_view\u001b[0m\u001b[0;34m(\u001b[0m\u001b[0;34m)\u001b[0m\u001b[0;34m\u001b[0m\u001b[0;34m\u001b[0m\u001b[0m\n\u001b[0m\u001b[1;32m      2\u001b[0m \u001b[0miview\u001b[0m\u001b[0;34m\u001b[0m\u001b[0;34m\u001b[0m\u001b[0m\n",
      "\u001b[0;31mTypeError\u001b[0m: create_identity_view() missing 1 required positional argument: 'mapped_columns'"
     ]
    }
   ],
   "source": [
    "iview = create_identity_view()\n",
    "iview"
   ]
  },
  {
   "cell_type": "code",
   "execution_count": null,
   "metadata": {},
   "outputs": [],
   "source": []
  },
  {
   "cell_type": "code",
   "execution_count": null,
   "metadata": {},
   "outputs": [],
   "source": []
  },
  {
   "cell_type": "code",
   "execution_count": null,
   "metadata": {},
   "outputs": [],
   "source": []
  },
  {
   "cell_type": "markdown",
   "metadata": {},
   "source": [
    "Check here for potential for match.  If NO matching columns exist, mpis will need to be created for the dview."
   ]
  },
  {
   "cell_type": "code",
   "execution_count": 30,
   "metadata": {},
   "outputs": [
    {
     "name": "stdout",
     "output_type": "stream",
     "text": [
      "Match available.  Proceed with linking process.\n"
     ]
    }
   ],
   "source": [
    "# Check for match availability.  If not, halt process and create MPIs\n",
    "from mpi.link import is_match_available\n",
    "from mpi.update import generate_mpi, write_mpi_data, gen_mpi_insert\n",
    "\n",
    "if not is_match_available(dview, iview):\n",
    "    print('Match unavailable.  Generated MPIs for data view.')\n",
    "    temp = generate_mpi(dview)\n",
    "    write_mpi_data(gen_mpi_insert(temp))\n",
    "    \n",
    "    # Recreate a view from the MPI table with valid identity data\n",
    "    iview = create_identity_view(dview.columns.tolist())\n",
    "else:\n",
    "    print('Match available.  Proceed with linking process.')"
   ]
  },
  {
   "cell_type": "markdown",
   "metadata": {},
   "source": [
    "## Building record linkage and mpi classification"
   ]
  },
  {
   "cell_type": "code",
   "execution_count": 31,
   "metadata": {},
   "outputs": [],
   "source": [
    "from mpi.link import clean_raw, match_dtype"
   ]
  },
  {
   "cell_type": "markdown",
   "metadata": {},
   "source": [
    "### Preprocessing\n",
    "\n",
    "Standardize data across data and identity views."
   ]
  },
  {
   "cell_type": "code",
   "execution_count": 32,
   "metadata": {},
   "outputs": [],
   "source": [
    "# Match Dtypes - Align data types prior to cleaning.\n",
    "#    This helps the cleaner by segmenting string/object and numeric fields\n",
    "\n",
    "# t2 identity table is a multi-index table.\n",
    "#    If the table is empty, it will not have the value & score attributes\n",
    "#    The if/else just checks whether or not the pivot of the mpi view yielded value and score fields.\n",
    "\n",
    "if hasattr(iview, 'value'):\n",
    "    ivalue = iview.value\n",
    "else:\n",
    "    ivalue = iview\n",
    "    \n",
    "if hasattr(iview, 'score'):\n",
    "    iscore = iview.score\n",
    "\n",
    "# Cast columns to matching datatypes for comparisons later on\n",
    "source_data, id_data = match_dtype(dview, ivalue)  \n",
    "\n",
    "# Clean data and re-index comparison.\n",
    "subset = clean_raw(subset)\n",
    "source_data = clean_raw(source_data)\n",
    "id_data = clean_raw(id_data)\n",
    "id_data = id_data.reset_index(level='mpi')"
   ]
  },
  {
   "cell_type": "code",
   "execution_count": 33,
   "metadata": {},
   "outputs": [
    {
     "data": {
      "text/html": [
       "<div>\n",
       "<style scoped>\n",
       "    .dataframe tbody tr th:only-of-type {\n",
       "        vertical-align: middle;\n",
       "    }\n",
       "\n",
       "    .dataframe tbody tr th {\n",
       "        vertical-align: top;\n",
       "    }\n",
       "\n",
       "    .dataframe thead th {\n",
       "        text-align: right;\n",
       "    }\n",
       "</style>\n",
       "<table border=\"1\" class=\"dataframe\">\n",
       "  <thead>\n",
       "    <tr style=\"text-align: right;\">\n",
       "      <th></th>\n",
       "      <th>birth_date_pool</th>\n",
       "      <th>first_name_pool</th>\n",
       "      <th>gender_pool</th>\n",
       "      <th>ustc_student_id_pool</th>\n",
       "      <th>last_name_pool</th>\n",
       "      <th>middle_name_pool</th>\n",
       "      <th>ssn_pool</th>\n",
       "      <th>guid</th>\n",
       "    </tr>\n",
       "  </thead>\n",
       "  <tbody>\n",
       "    <tr>\n",
       "      <th>0</th>\n",
       "      <td>4/15/2110</td>\n",
       "      <td>lajan</td>\n",
       "      <td>f</td>\n",
       "      <td>253355.0</td>\n",
       "      <td>spidle flaminio</td>\n",
       "      <td>maxwell weaver</td>\n",
       "      <td>133782248</td>\n",
       "      <td>930450171738989444</td>\n",
       "    </tr>\n",
       "  </tbody>\n",
       "</table>\n",
       "</div>"
      ],
      "text/plain": [
       "  birth_date_pool first_name_pool gender_pool  ustc_student_id_pool  \\\n",
       "0       4/15/2110           lajan           f              253355.0   \n",
       "\n",
       "    last_name_pool middle_name_pool   ssn_pool                guid  \n",
       "0  spidle flaminio   maxwell weaver  133782248  930450171738989444  "
      ]
     },
     "execution_count": 33,
     "metadata": {},
     "output_type": "execute_result"
    }
   ],
   "source": [
    "source_data.head(1)"
   ]
  },
  {
   "cell_type": "code",
   "execution_count": 34,
   "metadata": {},
   "outputs": [
    {
     "data": {
      "text/html": [
       "<div>\n",
       "<style scoped>\n",
       "    .dataframe tbody tr th:only-of-type {\n",
       "        vertical-align: middle;\n",
       "    }\n",
       "\n",
       "    .dataframe tbody tr th {\n",
       "        vertical-align: top;\n",
       "    }\n",
       "\n",
       "    .dataframe thead th {\n",
       "        text-align: right;\n",
       "    }\n",
       "</style>\n",
       "<table border=\"1\" class=\"dataframe\">\n",
       "  <thead>\n",
       "    <tr style=\"text-align: right;\">\n",
       "      <th>field</th>\n",
       "      <th>mpi</th>\n",
       "      <th>birth_date_pool</th>\n",
       "      <th>first_name_pool</th>\n",
       "      <th>gender_pool</th>\n",
       "      <th>guid</th>\n",
       "      <th>last_name_pool</th>\n",
       "      <th>middle_name_pool</th>\n",
       "      <th>ssn_pool</th>\n",
       "    </tr>\n",
       "  </thead>\n",
       "  <tbody>\n",
       "    <tr>\n",
       "      <th>0</th>\n",
       "      <td>10002511-6185763-7269861-14177405</td>\n",
       "      <td>7/3/2028</td>\n",
       "      <td>arella</td>\n",
       "      <td>n</td>\n",
       "      <td>1772797024894460804</td>\n",
       "      <td>forsland clos</td>\n",
       "      <td>margaret doris mae</td>\n",
       "      <td>374057445</td>\n",
       "    </tr>\n",
       "  </tbody>\n",
       "</table>\n",
       "</div>"
      ],
      "text/plain": [
       "field                                mpi birth_date_pool first_name_pool  \\\n",
       "0      10002511-6185763-7269861-14177405        7/3/2028          arella   \n",
       "\n",
       "field gender_pool                 guid last_name_pool    middle_name_pool  \\\n",
       "0               n  1772797024894460804  forsland clos  margaret doris mae   \n",
       "\n",
       "field   ssn_pool  \n",
       "0      374057445  "
      ]
     },
     "execution_count": 34,
     "metadata": {},
     "output_type": "execute_result"
    }
   ],
   "source": [
    "id_data.head(1)"
   ]
  },
  {
   "cell_type": "code",
   "execution_count": 35,
   "metadata": {},
   "outputs": [
    {
     "data": {
      "text/html": [
       "<div>\n",
       "<style scoped>\n",
       "    .dataframe tbody tr th:only-of-type {\n",
       "        vertical-align: middle;\n",
       "    }\n",
       "\n",
       "    .dataframe tbody tr th {\n",
       "        vertical-align: top;\n",
       "    }\n",
       "\n",
       "    .dataframe thead th {\n",
       "        text-align: right;\n",
       "    }\n",
       "</style>\n",
       "<table border=\"1\" class=\"dataframe\">\n",
       "  <thead>\n",
       "    <tr style=\"text-align: right;\">\n",
       "      <th>field</th>\n",
       "      <th>birth_date_pool</th>\n",
       "      <th>first_name_pool</th>\n",
       "      <th>gender_pool</th>\n",
       "      <th>guid</th>\n",
       "      <th>last_name_pool</th>\n",
       "      <th>middle_name_pool</th>\n",
       "      <th>ssn_pool</th>\n",
       "    </tr>\n",
       "    <tr>\n",
       "      <th>mpi</th>\n",
       "      <th></th>\n",
       "      <th></th>\n",
       "      <th></th>\n",
       "      <th></th>\n",
       "      <th></th>\n",
       "      <th></th>\n",
       "      <th></th>\n",
       "    </tr>\n",
       "  </thead>\n",
       "  <tbody>\n",
       "    <tr>\n",
       "      <th>10002511-6185763-7269861-14177405</th>\n",
       "      <td>1</td>\n",
       "      <td>1</td>\n",
       "      <td>1</td>\n",
       "      <td>1</td>\n",
       "      <td>1</td>\n",
       "      <td>1</td>\n",
       "      <td>1</td>\n",
       "    </tr>\n",
       "  </tbody>\n",
       "</table>\n",
       "</div>"
      ],
      "text/plain": [
       "field                             birth_date_pool first_name_pool gender_pool  \\\n",
       "mpi                                                                             \n",
       "10002511-6185763-7269861-14177405               1               1           1   \n",
       "\n",
       "field                             guid last_name_pool middle_name_pool  \\\n",
       "mpi                                                                      \n",
       "10002511-6185763-7269861-14177405    1              1                1   \n",
       "\n",
       "field                             ssn_pool  \n",
       "mpi                                         \n",
       "10002511-6185763-7269861-14177405        1  "
      ]
     },
     "execution_count": 35,
     "metadata": {},
     "output_type": "execute_result"
    }
   ],
   "source": [
    "iscore.head(1)"
   ]
  },
  {
   "cell_type": "markdown",
   "metadata": {},
   "source": [
    "## Indexing\n",
    "\n",
    "Make record pairs - pair rows needing match to potential identity candidates.\n",
    "\n",
    "Indexing serves two purposes:\n",
    "\n",
    "1. Create the list of pairs to check (candidate link).  Example: row 1 from table 1 to row 199 from table 2.\n",
    "\n",
    "2. Reduce the potential number of pairs to check (candidates)."
   ]
  },
  {
   "cell_type": "code",
   "execution_count": 36,
   "metadata": {},
   "outputs": [],
   "source": [
    "from mpi.link import build_indexer, match_columns"
   ]
  },
  {
   "cell_type": "code",
   "execution_count": 37,
   "metadata": {},
   "outputs": [
    {
     "data": {
      "text/plain": [
       "[<SortedNeighbourhood left_on='middle_name_pool', right_on='middle_name_pool'>,\n",
       " <SortedNeighbourhood left_on='last_name_pool', right_on='last_name_pool'>,\n",
       " <SortedNeighbourhood left_on='first_name_pool', right_on='first_name_pool'>,\n",
       " <Block left_on='ssn_pool', right_on='ssn_pool'>]"
      ]
     },
     "execution_count": 37,
     "metadata": {},
     "output_type": "execute_result"
    }
   ],
   "source": [
    "# Create indexer on dataview\n",
    "#    Indexer is a set of rules to generate \n",
    "#    candidate matches from data -> identities\n",
    "\n",
    "source_matched, id_matched = match_columns(source_data, id_data)\n",
    "\n",
    "indexer = build_indexer(source_matched)\n",
    "\n",
    "# Check index algorithms (generated from data view columns)\n",
    "indexer.algorithms"
   ]
  },
  {
   "cell_type": "code",
   "execution_count": 38,
   "metadata": {},
   "outputs": [
    {
     "name": "stdout",
     "output_type": "stream",
     "text": [
      "Full Index Length:  100000000\n",
      "Algorithmic Index Length:  57599\n",
      "Savings:  99.942401\n",
      "Data-row 0 ID-row 1849\n",
      "Data-row 0 ID-row 6377\n",
      "Data-row 0 ID-row 7005\n",
      "Data-row 0 ID-row 9087\n",
      "Data-row 0 ID-row 9412\n"
     ]
    }
   ],
   "source": [
    "# Run indexer on dataview, identity view\n",
    "candidates = indexer.index(source_matched, id_matched)\n",
    "\n",
    "# Full indexing is a cross join of data and all possible identities.\n",
    "\n",
    "# Demonstrating full indexing size:\n",
    "print('Full Index Length: ', len(source_data) * len(id_data))\n",
    "\n",
    "# Examine multi indices.  On the left is the data view index.  Right identity.\n",
    "print('Algorithmic Index Length: ', len(candidates))\n",
    "\n",
    "# Estimate Savings\n",
    "print('Savings: ', (1- len(candidates)/(len(source_data) * len(id_data))) * 100)\n",
    "\n",
    "# Preview indices:\n",
    "for pair in candidates[0:5]:\n",
    "    print(f'Data-row {pair[0]}', f'ID-row {pair[1]}')"
   ]
  },
  {
   "cell_type": "markdown",
   "metadata": {},
   "source": [
    "## Comparing\n",
    "\n",
    "Indexing does not normally store the outcome of its findings.  Indexing algorithms are meant to be fast, can be error prone.  Algorithms can be tuned for string (many), numeric, and time/date fields.\n",
    "\n",
    "The output of comparison is a clean feature matrix for the classifier to train/predict on."
   ]
  },
  {
   "cell_type": "code",
   "execution_count": 39,
   "metadata": {},
   "outputs": [],
   "source": [
    "from mpi.link import build_comparator"
   ]
  },
  {
   "cell_type": "code",
   "execution_count": 40,
   "metadata": {},
   "outputs": [
    {
     "data": {
      "text/plain": [
       "[<Numeric 'ssn_pool'>,\n",
       " <String 'middle_name_pool'>,\n",
       " <String 'last_name_pool'>,\n",
       " <String 'first_name_pool'>,\n",
       " <String 'gender_pool'>]"
      ]
     },
     "execution_count": 40,
     "metadata": {},
     "output_type": "execute_result"
    }
   ],
   "source": [
    "# Create comparator on dataview\n",
    "#    Comparator is a set of algorithms for each feature to be compared.\n",
    "#    These are genearlly much more expensive compared to indexing functions\n",
    "cmp = build_comparator(source_matched)\n",
    "\n",
    "# Check comparison algorithms and fields\n",
    "cmp.features"
   ]
  },
  {
   "cell_type": "code",
   "execution_count": 41,
   "metadata": {},
   "outputs": [
    {
     "data": {
      "text/html": [
       "<div>\n",
       "<style scoped>\n",
       "    .dataframe tbody tr th:only-of-type {\n",
       "        vertical-align: middle;\n",
       "    }\n",
       "\n",
       "    .dataframe tbody tr th {\n",
       "        vertical-align: top;\n",
       "    }\n",
       "\n",
       "    .dataframe thead th {\n",
       "        text-align: right;\n",
       "    }\n",
       "</style>\n",
       "<table border=\"1\" class=\"dataframe\">\n",
       "  <thead>\n",
       "    <tr style=\"text-align: right;\">\n",
       "      <th></th>\n",
       "      <th></th>\n",
       "      <th>ssn_pool</th>\n",
       "      <th>middle_name_pool</th>\n",
       "      <th>last_name_pool</th>\n",
       "      <th>first_name_pool</th>\n",
       "      <th>gender_pool</th>\n",
       "    </tr>\n",
       "  </thead>\n",
       "  <tbody>\n",
       "    <tr>\n",
       "      <th rowspan=\"5\" valign=\"top\">0</th>\n",
       "      <th>1849</th>\n",
       "      <td>0.0</td>\n",
       "      <td>0.0</td>\n",
       "      <td>0.0</td>\n",
       "      <td>0.0</td>\n",
       "      <td>1.0</td>\n",
       "    </tr>\n",
       "    <tr>\n",
       "      <th>6377</th>\n",
       "      <td>0.0</td>\n",
       "      <td>0.0</td>\n",
       "      <td>0.0</td>\n",
       "      <td>0.0</td>\n",
       "      <td>0.0</td>\n",
       "    </tr>\n",
       "    <tr>\n",
       "      <th>7005</th>\n",
       "      <td>0.0</td>\n",
       "      <td>0.0</td>\n",
       "      <td>0.0</td>\n",
       "      <td>0.0</td>\n",
       "      <td>0.0</td>\n",
       "    </tr>\n",
       "    <tr>\n",
       "      <th>9087</th>\n",
       "      <td>0.0</td>\n",
       "      <td>0.0</td>\n",
       "      <td>1.0</td>\n",
       "      <td>0.0</td>\n",
       "      <td>1.0</td>\n",
       "    </tr>\n",
       "    <tr>\n",
       "      <th>9412</th>\n",
       "      <td>0.0</td>\n",
       "      <td>0.0</td>\n",
       "      <td>1.0</td>\n",
       "      <td>0.0</td>\n",
       "      <td>0.0</td>\n",
       "    </tr>\n",
       "  </tbody>\n",
       "</table>\n",
       "</div>"
      ],
      "text/plain": [
       "        ssn_pool  middle_name_pool  last_name_pool  first_name_pool  \\\n",
       "0 1849       0.0               0.0             0.0              0.0   \n",
       "  6377       0.0               0.0             0.0              0.0   \n",
       "  7005       0.0               0.0             0.0              0.0   \n",
       "  9087       0.0               0.0             1.0              0.0   \n",
       "  9412       0.0               0.0             1.0              0.0   \n",
       "\n",
       "        gender_pool  \n",
       "0 1849          1.0  \n",
       "  6377          0.0  \n",
       "  7005          0.0  \n",
       "  9087          1.0  \n",
       "  9412          0.0  "
      ]
     },
     "execution_count": 41,
     "metadata": {},
     "output_type": "execute_result"
    }
   ],
   "source": [
    "# Compute comparisons\n",
    "#    Gives clean match dataset for classification\n",
    "comparisons = cmp.compute(candidates, source_data, id_data)\n",
    "comparisons.head()"
   ]
  },
  {
   "cell_type": "markdown",
   "metadata": {},
   "source": [
    "## Classification\n",
    "\n",
    "Score candidates for match.  \n",
    "\n",
    "#### Two approaches: Supervised vs Unsupervised\n",
    " * **Supervised** approach requires a training set.\n",
    " * **Unsupervised** does not require a training set and operates on only on the comparison table itself."
   ]
  },
  {
   "cell_type": "code",
   "execution_count": 42,
   "metadata": {},
   "outputs": [
    {
     "data": {
      "text/plain": [
       "0     1849    0.000007\n",
       "      6377    0.000001\n",
       "      7005    0.000001\n",
       "      9087    0.000271\n",
       "      9412    0.000050\n",
       "                ...   \n",
       "9999  3443    0.000050\n",
       "      3728    0.000039\n",
       "      6632    0.000007\n",
       "      8916    0.000189\n",
       "      9871    0.000007\n",
       "Length: 57599, dtype: float64"
      ]
     },
     "execution_count": 42,
     "metadata": {},
     "output_type": "execute_result"
    }
   ],
   "source": [
    "from mpi.link import estimate_true, build_classifier\n",
    "\n",
    "# Get estimated true linkages for supervised model\n",
    "links_true = estimate_true(comparisons)\n",
    "\n",
    "# Create classifier\n",
    "clf = build_classifier('logistic', comparisons, match_index=links_true)\n",
    "\n",
    "# Check probabilities (score) of each comparison -- NOT IN USE IN THIS VERSION\n",
    "predictions = clf.prob(comparison_vectors=comparisons)\n",
    "predictions"
   ]
  },
  {
   "cell_type": "markdown",
   "metadata": {},
   "source": [
    "## Evaluate\n",
    "Express classification quality and explore outliers"
   ]
  },
  {
   "cell_type": "code",
   "execution_count": 43,
   "metadata": {},
   "outputs": [],
   "source": [
    "from recordlinkage import reduction_ratio\n",
    "from recordlinkage import confusion_matrix\n",
    "\n",
    "links_pred = clf.predict(comparison_vectors=comparisons)\n",
    "\n",
    "rratio = reduction_ratio(links_pred, source_data)\n",
    "cmatrix = confusion_matrix(links_true, links_pred, candidates)"
   ]
  },
  {
   "cell_type": "code",
   "execution_count": 44,
   "metadata": {},
   "outputs": [
    {
     "name": "stdout",
     "output_type": "stream",
     "text": [
      "[[  674     0]\n",
      " [    0 56925]]\n",
      "0.9999865186518652\n"
     ]
    }
   ],
   "source": [
    "# Review confusion matrix\n",
    "#    TP-FN\n",
    "#    |  |\n",
    "#    FP-TN\n",
    "print(cmatrix)\n",
    "\n",
    "# Review reduction ratio\n",
    "print(rratio)"
   ]
  },
  {
   "cell_type": "markdown",
   "metadata": {},
   "source": [
    "The confusion matrix may not be particularly useful here as generation of true links is prone to error. The reduction ratio is more sensitive than binary predictions in this case."
   ]
  },
  {
   "cell_type": "code",
   "execution_count": 45,
   "metadata": {},
   "outputs": [
    {
     "data": {
      "text/plain": [
       "(674, 674)"
      ]
     },
     "execution_count": 45,
     "metadata": {},
     "output_type": "execute_result"
    }
   ],
   "source": [
    "# Review findings\n",
    "#   Interesting that the logistic predicted an MPI indices for each given an incomplete target list.\n",
    "\n",
    "# Is the relationship 1,1?\n",
    "split_list = lambda x: ([ix[0] for ix in x], [ix[1] for ix in x])\n",
    "i1, i2 = split_list(links_pred)\n",
    "len(list(set(i1))), len(list(set(i2)))"
   ]
  },
  {
   "cell_type": "markdown",
   "metadata": {},
   "source": [
    "## Update\n",
    "\n",
    "Append matched MPIs and match score to data view and merge to original data."
   ]
  },
  {
   "cell_type": "code",
   "execution_count": 46,
   "metadata": {},
   "outputs": [
    {
     "data": {
      "text/html": [
       "<div>\n",
       "<style scoped>\n",
       "    .dataframe tbody tr th:only-of-type {\n",
       "        vertical-align: middle;\n",
       "    }\n",
       "\n",
       "    .dataframe tbody tr th {\n",
       "        vertical-align: top;\n",
       "    }\n",
       "\n",
       "    .dataframe thead th {\n",
       "        text-align: right;\n",
       "    }\n",
       "</style>\n",
       "<table border=\"1\" class=\"dataframe\">\n",
       "  <thead>\n",
       "    <tr style=\"text-align: right;\">\n",
       "      <th></th>\n",
       "      <th>BIA</th>\n",
       "      <th>DISABLED</th>\n",
       "      <th>DISPLACEDHOMEMAKER</th>\n",
       "      <th>DWS</th>\n",
       "      <th>ECON</th>\n",
       "      <th>LEP</th>\n",
       "      <th>PELL</th>\n",
       "      <th>SINGLEPARENT</th>\n",
       "      <th>U_AGE</th>\n",
       "      <th>U_BIRTH_DT</th>\n",
       "      <th>...</th>\n",
       "      <th>U_START_DATE</th>\n",
       "      <th>U_STATE_ORIGIN</th>\n",
       "      <th>U_STOP_DATE</th>\n",
       "      <th>U_SUBJ</th>\n",
       "      <th>U_SUFFIX</th>\n",
       "      <th>U_TITLE</th>\n",
       "      <th>U_YEAR</th>\n",
       "      <th>id</th>\n",
       "      <th>guid</th>\n",
       "      <th>mpi</th>\n",
       "    </tr>\n",
       "  </thead>\n",
       "  <tbody>\n",
       "    <tr>\n",
       "      <th>0</th>\n",
       "      <td>0</td>\n",
       "      <td>1</td>\n",
       "      <td>1</td>\n",
       "      <td>0</td>\n",
       "      <td>0</td>\n",
       "      <td>1</td>\n",
       "      <td>1</td>\n",
       "      <td>0</td>\n",
       "      <td>42</td>\n",
       "      <td>4/15/2110</td>\n",
       "      <td>...</td>\n",
       "      <td>20162189</td>\n",
       "      <td>DE</td>\n",
       "      <td>58081754</td>\n",
       "      <td>FLUID POWER HYDRAULICS</td>\n",
       "      <td>None</td>\n",
       "      <td>WASHINGTON CO. ECONOMIC TRAINING</td>\n",
       "      <td>2011</td>\n",
       "      <td>7547</td>\n",
       "      <td>930450171738989444</td>\n",
       "      <td>9197423-1362941-5290047-14787063</td>\n",
       "    </tr>\n",
       "  </tbody>\n",
       "</table>\n",
       "<p>1 rows × 59 columns</p>\n",
       "</div>"
      ],
      "text/plain": [
       "   BIA  DISABLED  DISPLACEDHOMEMAKER  DWS  ECON  LEP  PELL  SINGLEPARENT  \\\n",
       "0    0         1                   1    0     0    1     1             0   \n",
       "\n",
       "   U_AGE U_BIRTH_DT  ... U_START_DATE U_STATE_ORIGIN  U_STOP_DATE  \\\n",
       "0     42  4/15/2110  ...     20162189             DE     58081754   \n",
       "\n",
       "                   U_SUBJ U_SUFFIX                            U_TITLE U_YEAR  \\\n",
       "0  FLUID POWER HYDRAULICS     None  WASHINGTON CO. ECONOMIC TRAINING    2011   \n",
       "\n",
       "     id                guid                               mpi  \n",
       "0  7547  930450171738989444  9197423-1362941-5290047-14787063  \n",
       "\n",
       "[1 rows x 59 columns]"
      ]
     },
     "execution_count": 46,
     "metadata": {},
     "output_type": "execute_result"
    }
   ],
   "source": [
    "from mpi.link import expand_match_to_raw\n",
    "\n",
    "# Join data view (DISTINCT identities in source table), now containing matched and generated MPIs, to raw table.\n",
    "#    This can be done a few ways.  Here, the data view (whose columns have been renamed and processed)\n",
    "#    is joined to the original subset (whose columns were just renamed).  The subset is then indexed back \n",
    "#    unto the raw table so original column names and source formatting are preserved.\n",
    "\n",
    "\n",
    "raw, matched, unmatched = expand_match_to_raw(raw, subset, source_data, id_data, links_pred)\n",
    "raw.head(1)"
   ]
  },
  {
   "cell_type": "markdown",
   "metadata": {},
   "source": [
    "### Adding missing data, repeated data\n",
    "\n",
    "When MPIs are generated for unmatched records, all data is used to populate the MPI table.  For matched MPIs, an update to missing information now needs to be performed to capture any new data.\n",
    "\n",
    "What information is populated can have large performance and storage ramifications.\n",
    "- If repeat data is kept, the initial identity view will need consolidation to reduce the number of possible indexes and comparisons.\n",
    "- If repead data is NOT kept, significant information for background updates in match quality will be lost."
   ]
  },
  {
   "cell_type": "code",
   "execution_count": 28,
   "metadata": {},
   "outputs": [],
   "source": [
    "# TODO"
   ]
  },
  {
   "cell_type": "markdown",
   "metadata": {},
   "source": [
    "### De-Identification\n",
    "\n",
    "Create de-identified table while match available in memory or as referenced temp table."
   ]
  },
  {
   "cell_type": "code",
   "execution_count": 29,
   "metadata": {},
   "outputs": [
    {
     "data": {
      "text/plain": [
       "'ushe_students_di'"
      ]
     },
     "execution_count": 29,
     "metadata": {},
     "output_type": "execute_result"
    }
   ],
   "source": [
    "from assets.mapping import colmap\n",
    "from utils.db import dataframe_to_db\n",
    "from di import simple_di\n",
    "\n",
    "dataframe_to_db(\n",
    "    simple_di(raw), \n",
    "    tablename=source_tablename + '_di'\n",
    ")"
   ]
  },
  {
   "cell_type": "code",
   "execution_count": null,
   "metadata": {},
   "outputs": [],
   "source": []
  },
  {
   "cell_type": "code",
   "execution_count": null,
   "metadata": {},
   "outputs": [],
   "source": []
  }
 ],
 "metadata": {
  "kernelspec": {
   "display_name": "Python 3",
   "language": "python",
   "name": "python3"
  },
  "language_info": {
   "codemirror_mode": {
    "name": "ipython",
    "version": 3
   },
   "file_extension": ".py",
   "mimetype": "text/x-python",
   "name": "python",
   "nbconvert_exporter": "python",
   "pygments_lexer": "ipython3",
   "version": "3.8.6"
  }
 },
 "nbformat": 4,
 "nbformat_minor": 4
}
