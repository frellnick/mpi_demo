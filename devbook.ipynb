{
 "cells": [
  {
   "cell_type": "code",
   "execution_count": 1,
   "metadata": {},
   "outputs": [],
   "source": [
    "from mpi import create_distinct_view, create_identity_view, link\n",
    "import pandas as pd\n",
    "import os\n",
    "from utils.db import get_session\n",
    "from utils.models import *"
   ]
  },
  {
   "cell_type": "markdown",
   "metadata": {},
   "source": [
    "## Ingest\n",
    "Bring .csv into the system"
   ]
  },
  {
   "cell_type": "code",
   "execution_count": 2,
   "metadata": {},
   "outputs": [
    {
     "data": {
      "text/plain": [
       "['dws_wages.csv',\n",
       " 'usbe_students.csv',\n",
       " 'ushe_students.csv',\n",
       " 'ustc_students.csv']"
      ]
     },
     "execution_count": 2,
     "metadata": {},
     "output_type": "execute_result"
    }
   ],
   "source": [
    "from ingest import load_file\n",
    "os.listdir('assets/data')"
   ]
  },
  {
   "cell_type": "code",
   "execution_count": 3,
   "metadata": {},
   "outputs": [],
   "source": [
    "load_file('assets/data/dws_wages.csv', 'dws_wages')\n",
    "load_file('assets/data/usbe_students.csv', 'usbe_students')\n",
    "load_file('assets/data/ustc_students.csv', 'ustc_students')\n",
    "load_file('assets/data/ushe_students.csv', 'ushe_students')"
   ]
  },
  {
   "cell_type": "markdown",
   "metadata": {},
   "source": [
    "## Linking Steps\n",
    "\n",
    "Process of Record Linkage\n",
    "\n",
    "0. Load\n",
    "1. Preprocess\n",
    "2. Index\n",
    "3. Compare\n",
    "4. Classify\n",
    "5. Evaluate\n",
    "6. Update (Post MPI - Adding new information, new MPI, to MPI Master Record)"
   ]
  },
  {
   "cell_type": "markdown",
   "metadata": {},
   "source": [
    "### Master Person Long\n",
    "Visualize data architecture store of MPI raw records"
   ]
  },
  {
   "cell_type": "code",
   "execution_count": 4,
   "metadata": {},
   "outputs": [
    {
     "data": {
      "text/html": [
       "<div>\n",
       "<style scoped>\n",
       "    .dataframe tbody tr th:only-of-type {\n",
       "        vertical-align: middle;\n",
       "    }\n",
       "\n",
       "    .dataframe tbody tr th {\n",
       "        vertical-align: top;\n",
       "    }\n",
       "\n",
       "    .dataframe thead th {\n",
       "        text-align: right;\n",
       "    }\n",
       "</style>\n",
       "<table border=\"1\" class=\"dataframe\">\n",
       "  <thead>\n",
       "    <tr style=\"text-align: right;\">\n",
       "      <th></th>\n",
       "      <th>mpi</th>\n",
       "      <th>field</th>\n",
       "      <th>value</th>\n",
       "      <th>score</th>\n",
       "      <th>guid</th>\n",
       "    </tr>\n",
       "  </thead>\n",
       "  <tbody>\n",
       "    <tr>\n",
       "      <th>0</th>\n",
       "      <td>4587782-4309556-16453842-9029444</td>\n",
       "      <td>ushe_student_id_pool</td>\n",
       "      <td>469629.0</td>\n",
       "      <td>1.0</td>\n",
       "      <td>1595745416251645427</td>\n",
       "    </tr>\n",
       "    <tr>\n",
       "      <th>1</th>\n",
       "      <td>4587782-4309556-16453842-9029444</td>\n",
       "      <td>last_name_pool</td>\n",
       "      <td>Steed</td>\n",
       "      <td>1.0</td>\n",
       "      <td>1595745416251645427</td>\n",
       "    </tr>\n",
       "    <tr>\n",
       "      <th>2</th>\n",
       "      <td>4587782-4309556-16453842-9029444</td>\n",
       "      <td>first_name_pool</td>\n",
       "      <td>Sakayla</td>\n",
       "      <td>1.0</td>\n",
       "      <td>1595745416251645427</td>\n",
       "    </tr>\n",
       "    <tr>\n",
       "      <th>3</th>\n",
       "      <td>4587782-4309556-16453842-9029444</td>\n",
       "      <td>middle_name_pool</td>\n",
       "      <td>Conder</td>\n",
       "      <td>1.0</td>\n",
       "      <td>1595745416251645427</td>\n",
       "    </tr>\n",
       "    <tr>\n",
       "      <th>4</th>\n",
       "      <td>4587782-4309556-16453842-9029444</td>\n",
       "      <td>birth_date_pool</td>\n",
       "      <td>6/20/2859</td>\n",
       "      <td>1.0</td>\n",
       "      <td>1595745416251645427</td>\n",
       "    </tr>\n",
       "  </tbody>\n",
       "</table>\n",
       "</div>"
      ],
      "text/plain": [
       "                                mpi                 field      value  score  \\\n",
       "0  4587782-4309556-16453842-9029444  ushe_student_id_pool   469629.0    1.0   \n",
       "1  4587782-4309556-16453842-9029444        last_name_pool      Steed    1.0   \n",
       "2  4587782-4309556-16453842-9029444       first_name_pool    Sakayla    1.0   \n",
       "3  4587782-4309556-16453842-9029444      middle_name_pool     Conder    1.0   \n",
       "4  4587782-4309556-16453842-9029444       birth_date_pool  6/20/2859    1.0   \n",
       "\n",
       "                  guid  \n",
       "0  1595745416251645427  \n",
       "1  1595745416251645427  \n",
       "2  1595745416251645427  \n",
       "3  1595745416251645427  \n",
       "4  1595745416251645427  "
      ]
     },
     "execution_count": 4,
     "metadata": {},
     "output_type": "execute_result"
    }
   ],
   "source": [
    "# Visualize raw MPI data\n",
    "#  V0.1  Data is seeded with ushe_students table\n",
    "#  TODO: implement matched route and proper identification of unmatched\n",
    "\n",
    "with get_session() as session:\n",
    "    result = session.execute(\n",
    "        'SELECT * FROM master_person_long LIMIT 5'\n",
    "    ).fetchall()\n",
    "    count_mpi = session.execute(\n",
    "        'SELECT COUNT(DISTINCT(mpi)) FROM master_person_long'\n",
    "    ).fetchone()\n",
    "columns = ('mpi', 'field', 'value', 'score', 'guid')\n",
    "pd.DataFrame(result, columns=columns)"
   ]
  },
  {
   "cell_type": "code",
   "execution_count": 5,
   "metadata": {},
   "outputs": [
    {
     "name": "stdout",
     "output_type": "stream",
     "text": [
      "Total MPI in system:  29330\n"
     ]
    }
   ],
   "source": [
    "print('Total MPI in system: ', count_mpi[0])"
   ]
  },
  {
   "cell_type": "markdown",
   "metadata": {},
   "source": [
    "## Load Data"
   ]
  },
  {
   "cell_type": "code",
   "execution_count": 6,
   "metadata": {},
   "outputs": [],
   "source": [
    "source_tablename = 'dws_wages'"
   ]
  },
  {
   "cell_type": "code",
   "execution_count": 7,
   "metadata": {},
   "outputs": [],
   "source": [
    "# Create a view of the data with mapped columns\n",
    "raw, subset = create_distinct_view(source_tablename)\n",
    "dview = subset.drop_duplicates()\n",
    "# print(dview.head())\n",
    "\n",
    "# Create a view from the MPI table with valid identity data\n",
    "iview = create_identity_view(dview.columns.tolist())\n",
    "# print(iview.head())"
   ]
  },
  {
   "cell_type": "code",
   "execution_count": 8,
   "metadata": {},
   "outputs": [
    {
     "data": {
      "text/html": [
       "<div>\n",
       "<style scoped>\n",
       "    .dataframe tbody tr th:only-of-type {\n",
       "        vertical-align: middle;\n",
       "    }\n",
       "\n",
       "    .dataframe tbody tr th {\n",
       "        vertical-align: top;\n",
       "    }\n",
       "\n",
       "    .dataframe thead th {\n",
       "        text-align: right;\n",
       "    }\n",
       "</style>\n",
       "<table border=\"1\" class=\"dataframe\">\n",
       "  <thead>\n",
       "    <tr style=\"text-align: right;\">\n",
       "      <th></th>\n",
       "      <th>ssn_pool</th>\n",
       "      <th>last_name_pool</th>\n",
       "      <th>first_name_pool</th>\n",
       "      <th>middle_name_pool</th>\n",
       "      <th>guid</th>\n",
       "    </tr>\n",
       "  </thead>\n",
       "  <tbody>\n",
       "    <tr>\n",
       "      <th>0</th>\n",
       "      <td>885713242</td>\n",
       "      <td>Neddo</td>\n",
       "      <td>Giniveve Dee</td>\n",
       "      <td>Sky Marie</td>\n",
       "      <td>1627838511399422658</td>\n",
       "    </tr>\n",
       "  </tbody>\n",
       "</table>\n",
       "</div>"
      ],
      "text/plain": [
       "    ssn_pool last_name_pool first_name_pool middle_name_pool  \\\n",
       "0  885713242          Neddo    Giniveve Dee        Sky Marie   \n",
       "\n",
       "                  guid  \n",
       "0  1627838511399422658  "
      ]
     },
     "execution_count": 8,
     "metadata": {},
     "output_type": "execute_result"
    }
   ],
   "source": [
    "dview.head(1)"
   ]
  },
  {
   "cell_type": "code",
   "execution_count": 9,
   "metadata": {},
   "outputs": [
    {
     "data": {
      "text/html": [
       "<div>\n",
       "<style scoped>\n",
       "    .dataframe tbody tr th:only-of-type {\n",
       "        vertical-align: middle;\n",
       "    }\n",
       "\n",
       "    .dataframe tbody tr th {\n",
       "        vertical-align: top;\n",
       "    }\n",
       "\n",
       "    .dataframe thead tr th {\n",
       "        text-align: left;\n",
       "    }\n",
       "\n",
       "    .dataframe thead tr:last-of-type th {\n",
       "        text-align: right;\n",
       "    }\n",
       "</style>\n",
       "<table border=\"1\" class=\"dataframe\">\n",
       "  <thead>\n",
       "    <tr>\n",
       "      <th></th>\n",
       "      <th colspan=\"5\" halign=\"left\">value</th>\n",
       "      <th colspan=\"5\" halign=\"left\">score</th>\n",
       "    </tr>\n",
       "    <tr>\n",
       "      <th>field</th>\n",
       "      <th>first_name_pool</th>\n",
       "      <th>guid</th>\n",
       "      <th>last_name_pool</th>\n",
       "      <th>middle_name_pool</th>\n",
       "      <th>ssn_pool</th>\n",
       "      <th>first_name_pool</th>\n",
       "      <th>guid</th>\n",
       "      <th>last_name_pool</th>\n",
       "      <th>middle_name_pool</th>\n",
       "      <th>ssn_pool</th>\n",
       "    </tr>\n",
       "    <tr>\n",
       "      <th>mpi</th>\n",
       "      <th></th>\n",
       "      <th></th>\n",
       "      <th></th>\n",
       "      <th></th>\n",
       "      <th></th>\n",
       "      <th></th>\n",
       "      <th></th>\n",
       "      <th></th>\n",
       "      <th></th>\n",
       "      <th></th>\n",
       "    </tr>\n",
       "  </thead>\n",
       "  <tbody>\n",
       "    <tr>\n",
       "      <th>10000079-6468912-4595469-3226763</th>\n",
       "      <td>Maryalie</td>\n",
       "      <td>1834271269758541656</td>\n",
       "      <td>Sarmiento</td>\n",
       "      <td>Barrett Bradley</td>\n",
       "      <td>766178317</td>\n",
       "      <td>1</td>\n",
       "      <td>1</td>\n",
       "      <td>1</td>\n",
       "      <td>1</td>\n",
       "      <td>1</td>\n",
       "    </tr>\n",
       "  </tbody>\n",
       "</table>\n",
       "</div>"
      ],
      "text/plain": [
       "                                           value                       \\\n",
       "field                            first_name_pool                 guid   \n",
       "mpi                                                                     \n",
       "10000079-6468912-4595469-3226763        Maryalie  1834271269758541656   \n",
       "\n",
       "                                                                             \\\n",
       "field                            last_name_pool middle_name_pool   ssn_pool   \n",
       "mpi                                                                           \n",
       "10000079-6468912-4595469-3226763      Sarmiento  Barrett Bradley  766178317   \n",
       "\n",
       "                                           score                      \\\n",
       "field                            first_name_pool guid last_name_pool   \n",
       "mpi                                                                    \n",
       "10000079-6468912-4595469-3226763               1    1              1   \n",
       "\n",
       "                                                            \n",
       "field                            middle_name_pool ssn_pool  \n",
       "mpi                                                         \n",
       "10000079-6468912-4595469-3226763                1        1  "
      ]
     },
     "execution_count": 9,
     "metadata": {},
     "output_type": "execute_result"
    }
   ],
   "source": [
    "iview.head(1)"
   ]
  },
  {
   "cell_type": "markdown",
   "metadata": {},
   "source": [
    "Check here for potential for match.  If NO matching columns exist, mpis will need to be created for the dview."
   ]
  },
  {
   "cell_type": "code",
   "execution_count": 10,
   "metadata": {},
   "outputs": [
    {
     "name": "stdout",
     "output_type": "stream",
     "text": [
      "Match available.  Proceed with linking process.\n"
     ]
    }
   ],
   "source": [
    "# Check for match availability.  If not, halt process and create MPIs\n",
    "from mpi.link import is_match_available\n",
    "from mpi.update import generate_mpi\n",
    "\n",
    "if not is_match_available(dview, iview):\n",
    "    generate_mpi(dview)\n",
    "    print('Match unavailable.  Generated MPIs for data view.')\n",
    "    # Recreate a view from the MPI table with valid identity data\n",
    "    iview = create_identity_view(dview.columns.tolist())\n",
    "else:\n",
    "    print('Match available.  Proceed with linking process.')"
   ]
  },
  {
   "cell_type": "markdown",
   "metadata": {},
   "source": [
    "## Building record linkage and mpi classification"
   ]
  },
  {
   "cell_type": "code",
   "execution_count": 11,
   "metadata": {},
   "outputs": [],
   "source": [
    "from mpi.link import clean_raw, match_dtype"
   ]
  },
  {
   "cell_type": "markdown",
   "metadata": {},
   "source": [
    "### Preprocessing\n",
    "\n",
    "Standardize data across data and identity views."
   ]
  },
  {
   "cell_type": "code",
   "execution_count": 12,
   "metadata": {},
   "outputs": [],
   "source": [
    "# Match Dtypes - Align data types prior to cleaning.\n",
    "#    This helps the cleaner by segmenting string/object and numeric fields\n",
    "\n",
    "# t2 identity table is a multi-index table.\n",
    "#    If the table is empty, it will not have the value & score attributes\n",
    "#    The if/else just checks whether or not the pivot of the mpi view yielded value and score fields.\n",
    "\n",
    "if hasattr(iview, 'value'):\n",
    "    ivalue = iview.value\n",
    "else:\n",
    "    ivalue = iview\n",
    "    \n",
    "if hasattr(iview, 'score'):\n",
    "    iscore = iview.score\n",
    "\n",
    "# Cast columns to matching datatypes for comparisons later on\n",
    "source_data, id_data = match_dtype(dview, ivalue)  \n",
    "\n",
    "# Clean data and re-index comparison.\n",
    "subset = clean_raw(subset)\n",
    "source_data = clean_raw(source_data)\n",
    "id_data = clean_raw(id_data)\n",
    "id_data = id_data.reset_index(level='mpi')"
   ]
  },
  {
   "cell_type": "code",
   "execution_count": 13,
   "metadata": {},
   "outputs": [
    {
     "data": {
      "text/html": [
       "<div>\n",
       "<style scoped>\n",
       "    .dataframe tbody tr th:only-of-type {\n",
       "        vertical-align: middle;\n",
       "    }\n",
       "\n",
       "    .dataframe tbody tr th {\n",
       "        vertical-align: top;\n",
       "    }\n",
       "\n",
       "    .dataframe thead th {\n",
       "        text-align: right;\n",
       "    }\n",
       "</style>\n",
       "<table border=\"1\" class=\"dataframe\">\n",
       "  <thead>\n",
       "    <tr style=\"text-align: right;\">\n",
       "      <th></th>\n",
       "      <th>ssn_pool</th>\n",
       "      <th>last_name_pool</th>\n",
       "      <th>first_name_pool</th>\n",
       "      <th>middle_name_pool</th>\n",
       "      <th>guid</th>\n",
       "    </tr>\n",
       "  </thead>\n",
       "  <tbody>\n",
       "    <tr>\n",
       "      <th>0</th>\n",
       "      <td>885713242</td>\n",
       "      <td>neddo</td>\n",
       "      <td>giniveve dee</td>\n",
       "      <td>sky marie</td>\n",
       "      <td>1627838511399422658</td>\n",
       "    </tr>\n",
       "  </tbody>\n",
       "</table>\n",
       "</div>"
      ],
      "text/plain": [
       "    ssn_pool last_name_pool first_name_pool middle_name_pool  \\\n",
       "0  885713242          neddo    giniveve dee        sky marie   \n",
       "\n",
       "                  guid  \n",
       "0  1627838511399422658  "
      ]
     },
     "execution_count": 13,
     "metadata": {},
     "output_type": "execute_result"
    }
   ],
   "source": [
    "source_data.head(1)"
   ]
  },
  {
   "cell_type": "code",
   "execution_count": 14,
   "metadata": {},
   "outputs": [
    {
     "data": {
      "text/html": [
       "<div>\n",
       "<style scoped>\n",
       "    .dataframe tbody tr th:only-of-type {\n",
       "        vertical-align: middle;\n",
       "    }\n",
       "\n",
       "    .dataframe tbody tr th {\n",
       "        vertical-align: top;\n",
       "    }\n",
       "\n",
       "    .dataframe thead th {\n",
       "        text-align: right;\n",
       "    }\n",
       "</style>\n",
       "<table border=\"1\" class=\"dataframe\">\n",
       "  <thead>\n",
       "    <tr style=\"text-align: right;\">\n",
       "      <th>field</th>\n",
       "      <th>mpi</th>\n",
       "      <th>first_name_pool</th>\n",
       "      <th>guid</th>\n",
       "      <th>last_name_pool</th>\n",
       "      <th>middle_name_pool</th>\n",
       "      <th>ssn_pool</th>\n",
       "    </tr>\n",
       "  </thead>\n",
       "  <tbody>\n",
       "    <tr>\n",
       "      <th>0</th>\n",
       "      <td>10000079-6468912-4595469-3226763</td>\n",
       "      <td>maryalie</td>\n",
       "      <td>1834271269758541656</td>\n",
       "      <td>sarmiento</td>\n",
       "      <td>barrett bradley</td>\n",
       "      <td>766178317</td>\n",
       "    </tr>\n",
       "  </tbody>\n",
       "</table>\n",
       "</div>"
      ],
      "text/plain": [
       "field                               mpi first_name_pool                 guid  \\\n",
       "0      10000079-6468912-4595469-3226763        maryalie  1834271269758541656   \n",
       "\n",
       "field last_name_pool middle_name_pool   ssn_pool  \n",
       "0          sarmiento  barrett bradley  766178317  "
      ]
     },
     "execution_count": 14,
     "metadata": {},
     "output_type": "execute_result"
    }
   ],
   "source": [
    "id_data.head(1)"
   ]
  },
  {
   "cell_type": "code",
   "execution_count": 15,
   "metadata": {},
   "outputs": [
    {
     "data": {
      "text/html": [
       "<div>\n",
       "<style scoped>\n",
       "    .dataframe tbody tr th:only-of-type {\n",
       "        vertical-align: middle;\n",
       "    }\n",
       "\n",
       "    .dataframe tbody tr th {\n",
       "        vertical-align: top;\n",
       "    }\n",
       "\n",
       "    .dataframe thead th {\n",
       "        text-align: right;\n",
       "    }\n",
       "</style>\n",
       "<table border=\"1\" class=\"dataframe\">\n",
       "  <thead>\n",
       "    <tr style=\"text-align: right;\">\n",
       "      <th>field</th>\n",
       "      <th>first_name_pool</th>\n",
       "      <th>guid</th>\n",
       "      <th>last_name_pool</th>\n",
       "      <th>middle_name_pool</th>\n",
       "      <th>ssn_pool</th>\n",
       "    </tr>\n",
       "    <tr>\n",
       "      <th>mpi</th>\n",
       "      <th></th>\n",
       "      <th></th>\n",
       "      <th></th>\n",
       "      <th></th>\n",
       "      <th></th>\n",
       "    </tr>\n",
       "  </thead>\n",
       "  <tbody>\n",
       "    <tr>\n",
       "      <th>10000079-6468912-4595469-3226763</th>\n",
       "      <td>1</td>\n",
       "      <td>1</td>\n",
       "      <td>1</td>\n",
       "      <td>1</td>\n",
       "      <td>1</td>\n",
       "    </tr>\n",
       "  </tbody>\n",
       "</table>\n",
       "</div>"
      ],
      "text/plain": [
       "field                            first_name_pool guid last_name_pool  \\\n",
       "mpi                                                                    \n",
       "10000079-6468912-4595469-3226763               1    1              1   \n",
       "\n",
       "field                            middle_name_pool ssn_pool  \n",
       "mpi                                                         \n",
       "10000079-6468912-4595469-3226763                1        1  "
      ]
     },
     "execution_count": 15,
     "metadata": {},
     "output_type": "execute_result"
    }
   ],
   "source": [
    "iscore.head(1)"
   ]
  },
  {
   "cell_type": "markdown",
   "metadata": {},
   "source": [
    "## Indexing\n",
    "\n",
    "Make record pairs - pair rows needing match to potential identity candidates.\n",
    "\n",
    "Indexing serves two purposes:\n",
    "\n",
    "1. Create the list of pairs to check (candidate link).  Example: row 1 from table 1 to row 199 from table 2.\n",
    "\n",
    "2. Reduce the potential number of pairs to check (candidates)."
   ]
  },
  {
   "cell_type": "code",
   "execution_count": 16,
   "metadata": {},
   "outputs": [],
   "source": [
    "from mpi.link import build_indexer, match_columns"
   ]
  },
  {
   "cell_type": "code",
   "execution_count": 17,
   "metadata": {},
   "outputs": [
    {
     "data": {
      "text/plain": [
       "[<SortedNeighbourhood left_on='last_name_pool', right_on='last_name_pool'>,\n",
       " <SortedNeighbourhood left_on='first_name_pool', right_on='first_name_pool'>,\n",
       " <SortedNeighbourhood left_on='middle_name_pool', right_on='middle_name_pool'>,\n",
       " <Block left_on='ssn_pool', right_on='ssn_pool'>]"
      ]
     },
     "execution_count": 17,
     "metadata": {},
     "output_type": "execute_result"
    }
   ],
   "source": [
    "# Create indexer on dataview\n",
    "#    Indexer is a set of rules to generate \n",
    "#    candidate matches from data -> identities\n",
    "\n",
    "source_matched, id_matched = match_columns(source_data, id_data)\n",
    "\n",
    "indexer = build_indexer(source_matched)\n",
    "\n",
    "# Check index algorithms (generated from data view columns)\n",
    "indexer.algorithms"
   ]
  },
  {
   "cell_type": "code",
   "execution_count": 18,
   "metadata": {},
   "outputs": [
    {
     "name": "stdout",
     "output_type": "stream",
     "text": [
      "Full Index Length:  293300000\n",
      "Algorithmic Index Length:  150206\n",
      "Savings:  99.9487875894988\n",
      "Data-row 0 ID-row 741\n",
      "Data-row 0 ID-row 4476\n",
      "Data-row 0 ID-row 6621\n",
      "Data-row 0 ID-row 6767\n",
      "Data-row 0 ID-row 8705\n"
     ]
    }
   ],
   "source": [
    "# Run indexer on dataview, identity view\n",
    "candidates = indexer.index(source_matched, id_matched)\n",
    "\n",
    "# Full indexing is a cross join of data and all possible identities.\n",
    "\n",
    "# Demonstrating full indexing size:\n",
    "print('Full Index Length: ', len(source_data) * len(id_data))\n",
    "\n",
    "# Examine multi indices.  On the left is the data view index.  Right identity.\n",
    "print('Algorithmic Index Length: ', len(candidates))\n",
    "\n",
    "# Estimate Savings\n",
    "print('Savings: ', (1- len(candidates)/(len(source_data) * len(id_data))) * 100)\n",
    "\n",
    "# Preview indices:\n",
    "for pair in candidates[0:5]:\n",
    "    print(f'Data-row {pair[0]}', f'ID-row {pair[1]}')"
   ]
  },
  {
   "cell_type": "markdown",
   "metadata": {},
   "source": [
    "## Comparing\n",
    "\n",
    "Indexing does not normally store the outcome of its findings.  Indexing algorithms are meant to be fast, can be error prone.  Algorithms can be tuned for string (many), numeric, and time/date fields.\n",
    "\n",
    "The output of comparison is a clean feature matrix for the classifier to train/predict on."
   ]
  },
  {
   "cell_type": "code",
   "execution_count": 19,
   "metadata": {},
   "outputs": [],
   "source": [
    "from mpi.link import build_comparator"
   ]
  },
  {
   "cell_type": "code",
   "execution_count": 20,
   "metadata": {},
   "outputs": [
    {
     "data": {
      "text/plain": [
       "[<Numeric 'ssn_pool'>,\n",
       " <String 'last_name_pool'>,\n",
       " <String 'first_name_pool'>,\n",
       " <String 'middle_name_pool'>]"
      ]
     },
     "execution_count": 20,
     "metadata": {},
     "output_type": "execute_result"
    }
   ],
   "source": [
    "# Create comparator on dataview\n",
    "#    Comparator is a set of algorithms for each feature to be compared.\n",
    "#    These are genearlly much more expensive compared to indexing functions\n",
    "cmp = build_comparator(source_matched)\n",
    "\n",
    "# Check comparison algorithms and fields\n",
    "cmp.features"
   ]
  },
  {
   "cell_type": "code",
   "execution_count": 21,
   "metadata": {},
   "outputs": [
    {
     "data": {
      "text/html": [
       "<div>\n",
       "<style scoped>\n",
       "    .dataframe tbody tr th:only-of-type {\n",
       "        vertical-align: middle;\n",
       "    }\n",
       "\n",
       "    .dataframe tbody tr th {\n",
       "        vertical-align: top;\n",
       "    }\n",
       "\n",
       "    .dataframe thead th {\n",
       "        text-align: right;\n",
       "    }\n",
       "</style>\n",
       "<table border=\"1\" class=\"dataframe\">\n",
       "  <thead>\n",
       "    <tr style=\"text-align: right;\">\n",
       "      <th></th>\n",
       "      <th></th>\n",
       "      <th>ssn_pool</th>\n",
       "      <th>last_name_pool</th>\n",
       "      <th>first_name_pool</th>\n",
       "      <th>middle_name_pool</th>\n",
       "    </tr>\n",
       "  </thead>\n",
       "  <tbody>\n",
       "    <tr>\n",
       "      <th rowspan=\"5\" valign=\"top\">0</th>\n",
       "      <th>741</th>\n",
       "      <td>0.0</td>\n",
       "      <td>0.0</td>\n",
       "      <td>0.0</td>\n",
       "      <td>0.0</td>\n",
       "    </tr>\n",
       "    <tr>\n",
       "      <th>4476</th>\n",
       "      <td>0.0</td>\n",
       "      <td>0.0</td>\n",
       "      <td>0.0</td>\n",
       "      <td>1.0</td>\n",
       "    </tr>\n",
       "    <tr>\n",
       "      <th>6621</th>\n",
       "      <td>0.0</td>\n",
       "      <td>0.0</td>\n",
       "      <td>0.0</td>\n",
       "      <td>0.0</td>\n",
       "    </tr>\n",
       "    <tr>\n",
       "      <th>6767</th>\n",
       "      <td>1.0</td>\n",
       "      <td>1.0</td>\n",
       "      <td>1.0</td>\n",
       "      <td>1.0</td>\n",
       "    </tr>\n",
       "    <tr>\n",
       "      <th>8705</th>\n",
       "      <td>0.0</td>\n",
       "      <td>1.0</td>\n",
       "      <td>0.0</td>\n",
       "      <td>0.0</td>\n",
       "    </tr>\n",
       "  </tbody>\n",
       "</table>\n",
       "</div>"
      ],
      "text/plain": [
       "        ssn_pool  last_name_pool  first_name_pool  middle_name_pool\n",
       "0 741        0.0             0.0              0.0               0.0\n",
       "  4476       0.0             0.0              0.0               1.0\n",
       "  6621       0.0             0.0              0.0               0.0\n",
       "  6767       1.0             1.0              1.0               1.0\n",
       "  8705       0.0             1.0              0.0               0.0"
      ]
     },
     "execution_count": 21,
     "metadata": {},
     "output_type": "execute_result"
    }
   ],
   "source": [
    "# Compute comparisons\n",
    "#    Gives clean match dataset for classification\n",
    "comparisons = cmp.compute(candidates, source_data, id_data)\n",
    "comparisons.head()"
   ]
  },
  {
   "cell_type": "markdown",
   "metadata": {},
   "source": [
    "## Classification\n",
    "\n",
    "Score candidates for match.  \n",
    "\n",
    "#### Two approaches: Supervised vs Unsupervised\n",
    " * **Supervised** approach requires a training set.\n",
    " * **Unsupervised** does not require a training set and operates on only on the comparison table itself."
   ]
  },
  {
   "cell_type": "code",
   "execution_count": 22,
   "metadata": {},
   "outputs": [
    {
     "data": {
      "text/plain": [
       "0     741      5.285092e-07\n",
       "      4476     3.269493e-05\n",
       "      6621     5.285092e-07\n",
       "      6767     9.990896e-01\n",
       "      8705     4.084696e-05\n",
       "                   ...     \n",
       "9999  20403    4.084696e-05\n",
       "      20504    5.285092e-07\n",
       "      26387    3.565263e-05\n",
       "      26808    4.084696e-05\n",
       "      28735    4.084696e-05\n",
       "Length: 150206, dtype: float64"
      ]
     },
     "execution_count": 22,
     "metadata": {},
     "output_type": "execute_result"
    }
   ],
   "source": [
    "from mpi.link import estimate_true, build_classifier\n",
    "\n",
    "# Get estimated true linkages for supervised model\n",
    "links_true = estimate_true(comparisons)\n",
    "\n",
    "# Create classifier\n",
    "clf = build_classifier('logistic', comparisons, match_index=links_true)\n",
    "\n",
    "# Check probabilities (score) of each comparison -- NOT IN USE IN THIS VERSION\n",
    "predictions = clf.prob(comparison_vectors=comparisons)\n",
    "predictions"
   ]
  },
  {
   "cell_type": "markdown",
   "metadata": {},
   "source": [
    "## Evaluate\n",
    "Express classification quality and explore outliers"
   ]
  },
  {
   "cell_type": "code",
   "execution_count": 23,
   "metadata": {},
   "outputs": [],
   "source": [
    "from recordlinkage import reduction_ratio\n",
    "from recordlinkage import confusion_matrix\n",
    "\n",
    "links_pred = clf.predict(comparison_vectors=comparisons)\n",
    "\n",
    "rratio = reduction_ratio(links_pred, source_data)\n",
    "cmatrix = confusion_matrix(links_true, links_pred, candidates)"
   ]
  },
  {
   "cell_type": "code",
   "execution_count": 24,
   "metadata": {},
   "outputs": [
    {
     "name": "stdout",
     "output_type": "stream",
     "text": [
      "[[ 10668      0]\n",
      " [     1 139537]]\n",
      "0.999786598659866\n"
     ]
    }
   ],
   "source": [
    "# Review confusion matrix\n",
    "#    TP-FN\n",
    "#    |  |\n",
    "#    FP-TN\n",
    "print(cmatrix)\n",
    "\n",
    "# Review reduction ratio\n",
    "print(rratio)"
   ]
  },
  {
   "cell_type": "markdown",
   "metadata": {},
   "source": [
    "The confusion matrix may not be particularly useful here as generation of true links is prone to error. The reduction ratio is more sensitive than binary predictions in this case."
   ]
  },
  {
   "cell_type": "code",
   "execution_count": 25,
   "metadata": {},
   "outputs": [
    {
     "data": {
      "text/plain": [
       "(10000, 10669)"
      ]
     },
     "execution_count": 25,
     "metadata": {},
     "output_type": "execute_result"
    }
   ],
   "source": [
    "# Review findings\n",
    "#   Interesting that the logistic predicted an MPI indices for each given an incomplete target list.\n",
    "\n",
    "# Is the relationship 1,1?\n",
    "split_list = lambda x: ([ix[0] for ix in x], [ix[1] for ix in x])\n",
    "i1, i2 = split_list(links_pred)\n",
    "len(list(set(i1))), len(list(set(i2)))"
   ]
  },
  {
   "cell_type": "markdown",
   "metadata": {},
   "source": [
    "## Update\n",
    "\n",
    "Append matched MPIs and match score to data view and merge to original data."
   ]
  },
  {
   "cell_type": "code",
   "execution_count": 26,
   "metadata": {},
   "outputs": [
    {
     "data": {
      "text/html": [
       "<div>\n",
       "<style scoped>\n",
       "    .dataframe tbody tr th:only-of-type {\n",
       "        vertical-align: middle;\n",
       "    }\n",
       "\n",
       "    .dataframe tbody tr th {\n",
       "        vertical-align: top;\n",
       "    }\n",
       "\n",
       "    .dataframe thead th {\n",
       "        text-align: right;\n",
       "    }\n",
       "</style>\n",
       "<table border=\"1\" class=\"dataframe\">\n",
       "  <thead>\n",
       "    <tr style=\"text-align: right;\">\n",
       "      <th></th>\n",
       "      <th>CLMWAGES</th>\n",
       "      <th>EMPLOYER</th>\n",
       "      <th>ES_WORKSITE_NUM</th>\n",
       "      <th>NAICS</th>\n",
       "      <th>WAGES</th>\n",
       "      <th>YRQTR</th>\n",
       "      <th>SSN</th>\n",
       "      <th>LASTNAME</th>\n",
       "      <th>FIRSTNAME</th>\n",
       "      <th>MIDDLEINITIAL</th>\n",
       "      <th>id</th>\n",
       "      <th>guid</th>\n",
       "      <th>mpi</th>\n",
       "    </tr>\n",
       "  </thead>\n",
       "  <tbody>\n",
       "    <tr>\n",
       "      <th>0</th>\n",
       "      <td>14188</td>\n",
       "      <td>HOLLYWOOD VIDEO</td>\n",
       "      <td>0</td>\n",
       "      <td>873477</td>\n",
       "      <td>7898926</td>\n",
       "      <td>20172</td>\n",
       "      <td>885713242</td>\n",
       "      <td>Neddo</td>\n",
       "      <td>Giniveve Dee</td>\n",
       "      <td>Sky Marie</td>\n",
       "      <td>10465</td>\n",
       "      <td>1627838511399422658</td>\n",
       "      <td>13501288-9218906-9250909-16175082</td>\n",
       "    </tr>\n",
       "  </tbody>\n",
       "</table>\n",
       "</div>"
      ],
      "text/plain": [
       "   CLMWAGES         EMPLOYER  ES_WORKSITE_NUM   NAICS    WAGES  YRQTR  \\\n",
       "0     14188  HOLLYWOOD VIDEO                0  873477  7898926  20172   \n",
       "\n",
       "         SSN LASTNAME     FIRSTNAME MIDDLEINITIAL     id                 guid  \\\n",
       "0  885713242    Neddo  Giniveve Dee     Sky Marie  10465  1627838511399422658   \n",
       "\n",
       "                                 mpi  \n",
       "0  13501288-9218906-9250909-16175082  "
      ]
     },
     "execution_count": 26,
     "metadata": {},
     "output_type": "execute_result"
    }
   ],
   "source": [
    "from mpi.link import expand_match_to_raw\n",
    "\n",
    "# Join data view (DISTINCT identities in source table), now containing matched and generated MPIs, to raw table.\n",
    "#    This can be done a few ways.  Here, the data view (whose columns have been renamed and processed)\n",
    "#    is joined to the original subset (whose columns were just renamed).  The subset is then indexed back \n",
    "#    unto the raw table so original column names and source formatting are preserved.\n",
    "\n",
    "\n",
    "raw, matched, unmatched = expand_match_to_raw(raw, subset, source_data, id_data, links_pred)\n",
    "raw.head(1)"
   ]
  },
  {
   "cell_type": "code",
   "execution_count": 29,
   "metadata": {},
   "outputs": [
    {
     "data": {
      "text/html": [
       "<div>\n",
       "<style scoped>\n",
       "    .dataframe tbody tr th:only-of-type {\n",
       "        vertical-align: middle;\n",
       "    }\n",
       "\n",
       "    .dataframe tbody tr th {\n",
       "        vertical-align: top;\n",
       "    }\n",
       "\n",
       "    .dataframe thead th {\n",
       "        text-align: right;\n",
       "    }\n",
       "</style>\n",
       "<table border=\"1\" class=\"dataframe\">\n",
       "  <thead>\n",
       "    <tr style=\"text-align: right;\">\n",
       "      <th>field</th>\n",
       "      <th>mpi</th>\n",
       "      <th>first_name_pool</th>\n",
       "      <th>guid</th>\n",
       "      <th>last_name_pool</th>\n",
       "      <th>middle_name_pool</th>\n",
       "      <th>ssn_pool</th>\n",
       "    </tr>\n",
       "  </thead>\n",
       "  <tbody>\n",
       "    <tr>\n",
       "      <th>0</th>\n",
       "      <td>10000079-6468912-4595469-3226763</td>\n",
       "      <td>maryalie</td>\n",
       "      <td>1834271269758541656</td>\n",
       "      <td>sarmiento</td>\n",
       "      <td>barrett bradley</td>\n",
       "      <td>766178317</td>\n",
       "    </tr>\n",
       "    <tr>\n",
       "      <th>1</th>\n",
       "      <td>10000598-552386-272793-10739067</td>\n",
       "      <td>lillyahnie</td>\n",
       "      <td>781581245139754840</td>\n",
       "      <td>landon</td>\n",
       "      <td>paza</td>\n",
       "      <td>865337889</td>\n",
       "    </tr>\n",
       "    <tr>\n",
       "      <th>2</th>\n",
       "      <td>10000639-11044250-5124768-5031866</td>\n",
       "      <td>delilah</td>\n",
       "      <td>1834271269758541656</td>\n",
       "      <td>chenault</td>\n",
       "      <td>seph</td>\n",
       "      <td>710504138</td>\n",
       "    </tr>\n",
       "    <tr>\n",
       "      <th>3</th>\n",
       "      <td>10000700-736429-12469678-3639982</td>\n",
       "      <td>urijah</td>\n",
       "      <td>1595745416251645427</td>\n",
       "      <td>fortney</td>\n",
       "      <td>elizabeth kamalii wahine kai</td>\n",
       "      <td>450048739</td>\n",
       "    </tr>\n",
       "    <tr>\n",
       "      <th>4</th>\n",
       "      <td>10001650-1330169-10532014-11768145</td>\n",
       "      <td>kesian</td>\n",
       "      <td>1834271269758541656</td>\n",
       "      <td>finn</td>\n",
       "      <td>lynette louise</td>\n",
       "      <td>434059061</td>\n",
       "    </tr>\n",
       "  </tbody>\n",
       "</table>\n",
       "</div>"
      ],
      "text/plain": [
       "field                                 mpi first_name_pool  \\\n",
       "0        10000079-6468912-4595469-3226763        maryalie   \n",
       "1         10000598-552386-272793-10739067      lillyahnie   \n",
       "2       10000639-11044250-5124768-5031866         delilah   \n",
       "3        10000700-736429-12469678-3639982          urijah   \n",
       "4      10001650-1330169-10532014-11768145          kesian   \n",
       "\n",
       "field                 guid last_name_pool              middle_name_pool  \\\n",
       "0      1834271269758541656      sarmiento               barrett bradley   \n",
       "1       781581245139754840         landon                          paza   \n",
       "2      1834271269758541656       chenault                          seph   \n",
       "3      1595745416251645427        fortney  elizabeth kamalii wahine kai   \n",
       "4      1834271269758541656           finn                lynette louise   \n",
       "\n",
       "field   ssn_pool  \n",
       "0      766178317  \n",
       "1      865337889  \n",
       "2      710504138  \n",
       "3      450048739  \n",
       "4      434059061  "
      ]
     },
     "execution_count": 29,
     "metadata": {},
     "output_type": "execute_result"
    }
   ],
   "source": [
    "id_data.head()"
   ]
  },
  {
   "cell_type": "markdown",
   "metadata": {},
   "source": [
    "### Adding missing data, repeated data\n",
    "\n",
    "When MPIs are generated for unmatched records, all data is used to populate the MPI table.  For matched MPIs, an update to missing information now needs to be performed to capture any new data.\n",
    "\n",
    "What information is populated can have large performance and storage ramifications.\n",
    "- If repeat data is kept, the initial identity view will need consolidation to reduce the number of possible indexes and comparisons.\n",
    "- If repead data is NOT kept, significant information for background updates in match quality will be lost."
   ]
  },
  {
   "cell_type": "code",
   "execution_count": null,
   "metadata": {},
   "outputs": [],
   "source": [
    "# TODO"
   ]
  },
  {
   "cell_type": "markdown",
   "metadata": {},
   "source": [
    "### De-Identification\n",
    "\n",
    "Create de-identified table while match available in memory or as referenced temp table."
   ]
  },
  {
   "cell_type": "code",
   "execution_count": 30,
   "metadata": {},
   "outputs": [
    {
     "data": {
      "text/plain": [
       "'ushe_students_di'"
      ]
     },
     "execution_count": 30,
     "metadata": {},
     "output_type": "execute_result"
    }
   ],
   "source": [
    "from assets.mapping import colmap\n",
    "from utils.db import dataframe_to_db\n",
    "from di import simple_di\n",
    "\n",
    "dataframe_to_db(\n",
    "    simple_di(raw), \n",
    "    tablename=source_tablename + '_di'\n",
    ")"
   ]
  },
  {
   "cell_type": "code",
   "execution_count": null,
   "metadata": {},
   "outputs": [],
   "source": []
  },
  {
   "cell_type": "code",
   "execution_count": null,
   "metadata": {},
   "outputs": [],
   "source": []
  }
 ],
 "metadata": {
  "kernelspec": {
   "display_name": "Python 3",
   "language": "python",
   "name": "python3"
  },
  "language_info": {
   "codemirror_mode": {
    "name": "ipython",
    "version": 3
   },
   "file_extension": ".py",
   "mimetype": "text/x-python",
   "name": "python",
   "nbconvert_exporter": "python",
   "pygments_lexer": "ipython3",
   "version": "3.8.5"
  }
 },
 "nbformat": 4,
 "nbformat_minor": 4
}
