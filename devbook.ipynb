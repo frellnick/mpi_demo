{
 "cells": [
  {
   "cell_type": "markdown",
   "metadata": {},
   "source": [
    "## Ingest\n",
    "Bring .csv into the system"
   ]
  },
  {
   "cell_type": "code",
   "execution_count": 1,
   "metadata": {},
   "outputs": [
    {
     "data": {
      "text/plain": [
       "['dws_wages.csv',\n",
       " 'usbe_students.csv',\n",
       " 'ushe_students.csv',\n",
       " 'ustc_students.csv']"
      ]
     },
     "execution_count": 1,
     "metadata": {},
     "output_type": "execute_result"
    }
   ],
   "source": [
    "from ingest import load_file\n",
    "import os\n",
    "os.listdir('assets/data')"
   ]
  },
  {
   "cell_type": "code",
   "execution_count": 2,
   "metadata": {},
   "outputs": [],
   "source": [
    "load_file('assets/data/dws_wages.csv', 'dws_wages')\n",
    "load_file('assets/data/usbe_students.csv', 'usbe_students')\n",
    "load_file('assets/data/ustc_students.csv', 'ustc_students') \n",
    "load_file('assets/data/ushe_students.csv', 'ushe_students')"
   ]
  },
  {
   "cell_type": "markdown",
   "metadata": {},
   "source": [
    "## Linking Steps\n",
    "\n",
    "Process of Record Linkage\n",
    "\n",
    "0. Load\n",
    "1. Preprocess\n",
    "2. Index\n",
    "3. Compare\n",
    "4. Classify\n",
    "5. Evaluate\n",
    "6. Update (Post MPI - Adding new information, new MPI, to MPI Master Record)"
   ]
  },
  {
   "cell_type": "markdown",
   "metadata": {},
   "source": [
    "### Master Person Architectures\n",
    "Visualize data architecture store of MPI raw records.  NOTE: data may not be present in all database options.  Use whichever cell aligns with configured loading behavior."
   ]
  },
  {
   "cell_type": "markdown",
   "metadata": {},
   "source": [
    "**SQL** View"
   ]
  },
  {
   "cell_type": "code",
   "execution_count": 1,
   "metadata": {},
   "outputs": [
    {
     "data": {
      "text/html": [
       "<div>\n",
       "<style scoped>\n",
       "    .dataframe tbody tr th:only-of-type {\n",
       "        vertical-align: middle;\n",
       "    }\n",
       "\n",
       "    .dataframe tbody tr th {\n",
       "        vertical-align: top;\n",
       "    }\n",
       "\n",
       "    .dataframe thead th {\n",
       "        text-align: right;\n",
       "    }\n",
       "</style>\n",
       "<table border=\"1\" class=\"dataframe\">\n",
       "  <thead>\n",
       "    <tr style=\"text-align: right;\">\n",
       "      <th></th>\n",
       "      <th>0</th>\n",
       "      <th>1</th>\n",
       "      <th>2</th>\n",
       "      <th>3</th>\n",
       "    </tr>\n",
       "  </thead>\n",
       "  <tbody>\n",
       "    <tr>\n",
       "      <th>0</th>\n",
       "      <td>1</td>\n",
       "      <td>None</td>\n",
       "      <td>elvis</td>\n",
       "      <td>11</td>\n",
       "    </tr>\n",
       "    <tr>\n",
       "      <th>1</th>\n",
       "      <td>1</td>\n",
       "      <td>presley</td>\n",
       "      <td>elvis</td>\n",
       "      <td>12</td>\n",
       "    </tr>\n",
       "    <tr>\n",
       "      <th>2</th>\n",
       "      <td>1</td>\n",
       "      <td>costello</td>\n",
       "      <td>elvis</td>\n",
       "      <td>13</td>\n",
       "    </tr>\n",
       "    <tr>\n",
       "      <th>3</th>\n",
       "      <td>2</td>\n",
       "      <td>austin</td>\n",
       "      <td>jane</td>\n",
       "      <td>11</td>\n",
       "    </tr>\n",
       "    <tr>\n",
       "      <th>4</th>\n",
       "      <td>2</td>\n",
       "      <td>austin</td>\n",
       "      <td>janet</td>\n",
       "      <td>12</td>\n",
       "    </tr>\n",
       "  </tbody>\n",
       "</table>\n",
       "</div>"
      ],
      "text/plain": [
       "   0         1      2   3\n",
       "0  1      None  elvis  11\n",
       "1  1   presley  elvis  12\n",
       "2  1  costello  elvis  13\n",
       "3  2    austin   jane  11\n",
       "4  2    austin  janet  12"
      ]
     },
     "execution_count": 1,
     "metadata": {},
     "output_type": "execute_result"
    }
   ],
   "source": [
    "from db import get_session\n",
    "import pandas as pd \n",
    "\n",
    "\n",
    "with get_session() as session:\n",
    "    result = session.execute(\n",
    "        'SELECT * FROM mpi_vectors LIMIT 5'\n",
    "    ).fetchall()\n",
    "    count_mpi = session.execute(\n",
    "        'SELECT COUNT(*) FROM mpi_vectors'\n",
    "    ).fetchone()\n",
    "pd.DataFrame(result)"
   ]
  },
  {
   "cell_type": "code",
   "execution_count": 2,
   "metadata": {},
   "outputs": [
    {
     "name": "stdout",
     "output_type": "stream",
     "text": [
      "Total MPI in system:  5\n"
     ]
    }
   ],
   "source": [
    "print('Total MPI in system: ', str(count_mpi[0]))"
   ]
  },
  {
   "cell_type": "markdown",
   "metadata": {},
   "source": [
    "**NoSQL** View"
   ]
  },
  {
   "cell_type": "code",
   "execution_count": 23,
   "metadata": {},
   "outputs": [
    {
     "name": "stdout",
     "output_type": "stream",
     "text": [
      "{\n",
      "  \"_id\": \"5fe4c95dc3167f203746dc3d\",\n",
      "  \"mpi\": \"14201705-13242408-16004929-5639130\",\n",
      "  \"sources\": [\n",
      "    {\n",
      "      \"guid\": 1489953705965142162,\n",
      "      \"score\": 0.0,\n",
      "      \"fields\": [\n",
      "        {\n",
      "          \"fieldname\": \"birth_date_pool\",\n",
      "          \"value\": \"6/9/1256\"\n",
      "        },\n",
      "        {\n",
      "          \"fieldname\": \"FIRST_ENTERED_US\",\n",
      "          \"value\": \"07-MAR-16 12.00.00.000000000 AM\"\n",
      "        },\n",
      "        {\n",
      "          \"fieldname\": \"first_name_pool\",\n",
      "          \"value\": \"genora\"\n",
      "        },\n",
      "        {\n",
      "          \"fieldname\": \"gender_pool\",\n",
      "          \"value\": \"f\"\n",
      "        },\n",
      "        {\n",
      "          \"fieldname\": \"last_name_pool\",\n",
      "          \"value\": \"zegarra\"\n",
      "        },\n",
      "        {\n",
      "          \"fieldname\": \"middle_name_pool\",\n",
      "          \"value\": \"rhino\"\n",
      "        },\n",
      "        {\n",
      "          \"fieldname\": \"ssid_pool\",\n",
      "          \"value\": \"0x218b2ea30x43165d46\"\n",
      "        },\n",
      "        {\n",
      "          \"fieldname\": \"usbe_student_id_pool\",\n",
      "          \"value\": 666165\n",
      "        },\n",
      "        {\n",
      "          \"fieldname\": \"id\",\n",
      "          \"value\": 46394\n",
      "        }\n",
      "      ]\n",
      "    }\n",
      "  ]\n",
      "}\n"
     ]
    }
   ],
   "source": [
    "from db import get_mongo\n",
    "import json\n",
    "\n",
    "db = get_mongo()\n",
    "count_docs = db.raw.count_documents({})\n",
    "x = db.raw.find_one({})\n",
    "x['_id'] = str(x['_id'])\n",
    "\n",
    "print(json.dumps(x, indent=2))"
   ]
  },
  {
   "cell_type": "code",
   "execution_count": 2,
   "metadata": {
    "scrolled": true
   },
   "outputs": [
    {
     "data": {
      "text/plain": [
       "10000"
      ]
     },
     "execution_count": 2,
     "metadata": {},
     "output_type": "execute_result"
    }
   ],
   "source": [
    "# Delete all records (skip if not needed)\n",
    "d = db.raw.delete_many({})\n",
    "d.deleted_count"
   ]
  },
  {
   "cell_type": "code",
   "execution_count": 3,
   "metadata": {},
   "outputs": [
    {
     "name": "stdout",
     "output_type": "stream",
     "text": [
      "Total MPI in system:  10000\n"
     ]
    }
   ],
   "source": [
    "print('Total MPI in system: ', count_docs)"
   ]
  },
  {
   "cell_type": "markdown",
   "metadata": {},
   "source": [
    "## Prepare Data\n",
    "\n",
    "Prepare identity view (MPI vectors) and data view (distinct mapped columns from source)"
   ]
  },
  {
   "cell_type": "code",
   "execution_count": 1,
   "metadata": {},
   "outputs": [],
   "source": [
    "source_tablename = 'usbe_students'\n",
    "# source_tablename = 'ustc_students'\n",
    "# source_tablename = 'ushe_students'\n",
    "# source_tablename = 'dws_wages'"
   ]
  },
  {
   "cell_type": "code",
   "execution_count": 2,
   "metadata": {},
   "outputs": [
    {
     "name": "stdout",
     "output_type": "stream",
     "text": [
      "Mapped Columns:  ['BIRTH_DATE', 'FIRST_NAME', 'GENDER', 'LAST_NAME', 'MIDDLE_NAME', 'SSID', 'STUDENT_ID', 'guid']\n"
     ]
    }
   ],
   "source": [
    "from mpi.prepare import create_data_view, create_identity_view\n",
    "\n",
    "dview = create_data_view(source_tablename)\n",
    "iview = create_identity_view(mapped_columns=dview.subset.columns)"
   ]
  },
  {
   "cell_type": "code",
   "execution_count": 3,
   "metadata": {},
   "outputs": [
    {
     "data": {
      "text/html": [
       "<div>\n",
       "<style scoped>\n",
       "    .dataframe tbody tr th:only-of-type {\n",
       "        vertical-align: middle;\n",
       "    }\n",
       "\n",
       "    .dataframe tbody tr th {\n",
       "        vertical-align: top;\n",
       "    }\n",
       "\n",
       "    .dataframe thead th {\n",
       "        text-align: right;\n",
       "    }\n",
       "</style>\n",
       "<table border=\"1\" class=\"dataframe\">\n",
       "  <thead>\n",
       "    <tr style=\"text-align: right;\">\n",
       "      <th></th>\n",
       "      <th>BIRTH_DATE</th>\n",
       "      <th>FIRST_ENTERED_US</th>\n",
       "      <th>FIRST_NAME</th>\n",
       "      <th>GENDER</th>\n",
       "      <th>LAST_NAME</th>\n",
       "      <th>MIDDLE_NAME</th>\n",
       "      <th>SSID</th>\n",
       "      <th>STUDENT_ID</th>\n",
       "      <th>id</th>\n",
       "      <th>guid</th>\n",
       "    </tr>\n",
       "  </thead>\n",
       "  <tbody>\n",
       "    <tr>\n",
       "      <th>0</th>\n",
       "      <td>6/9/1256</td>\n",
       "      <td>07-MAR-16 12.00.00.000000000 AM</td>\n",
       "      <td>Genora</td>\n",
       "      <td>f</td>\n",
       "      <td>Zegarra</td>\n",
       "      <td>Rhino</td>\n",
       "      <td>0x218b2ea30x43165d46</td>\n",
       "      <td>666165</td>\n",
       "      <td>46394</td>\n",
       "      <td>1489953705965142162</td>\n",
       "    </tr>\n",
       "    <tr>\n",
       "      <th>1</th>\n",
       "      <td>9/5/1287</td>\n",
       "      <td>13-AUG-12 12.00.00.000000000 AM</td>\n",
       "      <td>Laramee</td>\n",
       "      <td>m</td>\n",
       "      <td>Vela Garcia</td>\n",
       "      <td>Legacy-Martin</td>\n",
       "      <td>0x2156f0e80x42ade1d0</td>\n",
       "      <td>976990</td>\n",
       "      <td>35263</td>\n",
       "      <td>1489953705965142162</td>\n",
       "    </tr>\n",
       "    <tr>\n",
       "      <th>2</th>\n",
       "      <td>3/11/1507</td>\n",
       "      <td>06-OCT-16 12.00.00.000000000 AM</td>\n",
       "      <td>Zelma</td>\n",
       "      <td>n</td>\n",
       "      <td>Garlitz</td>\n",
       "      <td>Katempa</td>\n",
       "      <td>0x2981558d0x5302ab1a</td>\n",
       "      <td>225275</td>\n",
       "      <td>148149</td>\n",
       "      <td>1489953705965142162</td>\n",
       "    </tr>\n",
       "    <tr>\n",
       "      <th>3</th>\n",
       "      <td>3/11/1898</td>\n",
       "      <td>24-FEB-97 12.00.00.000000000 AM</td>\n",
       "      <td>Rynale</td>\n",
       "      <td>n</td>\n",
       "      <td>Reuter</td>\n",
       "      <td>Javien</td>\n",
       "      <td>0x175401eb0x2ea803d6</td>\n",
       "      <td>445502272</td>\n",
       "      <td>126536</td>\n",
       "      <td>1489953705965142162</td>\n",
       "    </tr>\n",
       "    <tr>\n",
       "      <th>4</th>\n",
       "      <td>1/5/2380</td>\n",
       "      <td>05-SEP-05 12.00.00.000000000 AM</td>\n",
       "      <td>Weslee</td>\n",
       "      <td>n</td>\n",
       "      <td>Cavalcante</td>\n",
       "      <td>Milam</td>\n",
       "      <td>0x286b652b0x50d6ca56</td>\n",
       "      <td>437170</td>\n",
       "      <td>105139</td>\n",
       "      <td>1489953705965142162</td>\n",
       "    </tr>\n",
       "  </tbody>\n",
       "</table>\n",
       "</div>"
      ],
      "text/plain": [
       "  BIRTH_DATE                 FIRST_ENTERED_US FIRST_NAME GENDER    LAST_NAME  \\\n",
       "0   6/9/1256  07-MAR-16 12.00.00.000000000 AM     Genora      f      Zegarra   \n",
       "1   9/5/1287  13-AUG-12 12.00.00.000000000 AM    Laramee      m  Vela Garcia   \n",
       "2  3/11/1507  06-OCT-16 12.00.00.000000000 AM      Zelma      n      Garlitz   \n",
       "3  3/11/1898  24-FEB-97 12.00.00.000000000 AM     Rynale      n       Reuter   \n",
       "4   1/5/2380  05-SEP-05 12.00.00.000000000 AM     Weslee      n   Cavalcante   \n",
       "\n",
       "     MIDDLE_NAME                  SSID  STUDENT_ID      id  \\\n",
       "0          Rhino  0x218b2ea30x43165d46      666165   46394   \n",
       "1  Legacy-Martin  0x2156f0e80x42ade1d0      976990   35263   \n",
       "2        Katempa  0x2981558d0x5302ab1a      225275  148149   \n",
       "3         Javien  0x175401eb0x2ea803d6   445502272  126536   \n",
       "4          Milam  0x286b652b0x50d6ca56      437170  105139   \n",
       "\n",
       "                  guid  \n",
       "0  1489953705965142162  \n",
       "1  1489953705965142162  \n",
       "2  1489953705965142162  \n",
       "3  1489953705965142162  \n",
       "4  1489953705965142162  "
      ]
     },
     "execution_count": 3,
     "metadata": {},
     "output_type": "execute_result"
    }
   ],
   "source": [
    "dview.head()"
   ]
  },
  {
   "cell_type": "code",
   "execution_count": 4,
   "metadata": {},
   "outputs": [
    {
     "data": {
      "text/html": [
       "<div>\n",
       "<style scoped>\n",
       "    .dataframe tbody tr th:only-of-type {\n",
       "        vertical-align: middle;\n",
       "    }\n",
       "\n",
       "    .dataframe tbody tr th {\n",
       "        vertical-align: top;\n",
       "    }\n",
       "\n",
       "    .dataframe thead th {\n",
       "        text-align: right;\n",
       "    }\n",
       "</style>\n",
       "<table border=\"1\" class=\"dataframe\">\n",
       "  <thead>\n",
       "    <tr style=\"text-align: right;\">\n",
       "      <th></th>\n",
       "      <th>birth_date_pool</th>\n",
       "      <th>FIRST_ENTERED_US</th>\n",
       "      <th>first_name_pool</th>\n",
       "      <th>gender_pool</th>\n",
       "      <th>last_name_pool</th>\n",
       "      <th>middle_name_pool</th>\n",
       "      <th>ssid_pool</th>\n",
       "      <th>usbe_student_id_pool</th>\n",
       "      <th>id</th>\n",
       "      <th>guid</th>\n",
       "    </tr>\n",
       "  </thead>\n",
       "  <tbody>\n",
       "    <tr>\n",
       "      <th>0</th>\n",
       "      <td>6/9/1256</td>\n",
       "      <td>07-MAR-16 12.00.00.000000000 AM</td>\n",
       "      <td>Genora</td>\n",
       "      <td>f</td>\n",
       "      <td>Zegarra</td>\n",
       "      <td>Rhino</td>\n",
       "      <td>0x218b2ea30x43165d46</td>\n",
       "      <td>666165</td>\n",
       "      <td>46394</td>\n",
       "      <td>1489953705965142162</td>\n",
       "    </tr>\n",
       "    <tr>\n",
       "      <th>1</th>\n",
       "      <td>9/5/1287</td>\n",
       "      <td>13-AUG-12 12.00.00.000000000 AM</td>\n",
       "      <td>Laramee</td>\n",
       "      <td>m</td>\n",
       "      <td>Vela Garcia</td>\n",
       "      <td>Legacy-Martin</td>\n",
       "      <td>0x2156f0e80x42ade1d0</td>\n",
       "      <td>976990</td>\n",
       "      <td>35263</td>\n",
       "      <td>1489953705965142162</td>\n",
       "    </tr>\n",
       "    <tr>\n",
       "      <th>2</th>\n",
       "      <td>3/11/1507</td>\n",
       "      <td>06-OCT-16 12.00.00.000000000 AM</td>\n",
       "      <td>Zelma</td>\n",
       "      <td>n</td>\n",
       "      <td>Garlitz</td>\n",
       "      <td>Katempa</td>\n",
       "      <td>0x2981558d0x5302ab1a</td>\n",
       "      <td>225275</td>\n",
       "      <td>148149</td>\n",
       "      <td>1489953705965142162</td>\n",
       "    </tr>\n",
       "    <tr>\n",
       "      <th>3</th>\n",
       "      <td>3/11/1898</td>\n",
       "      <td>24-FEB-97 12.00.00.000000000 AM</td>\n",
       "      <td>Rynale</td>\n",
       "      <td>n</td>\n",
       "      <td>Reuter</td>\n",
       "      <td>Javien</td>\n",
       "      <td>0x175401eb0x2ea803d6</td>\n",
       "      <td>445502272</td>\n",
       "      <td>126536</td>\n",
       "      <td>1489953705965142162</td>\n",
       "    </tr>\n",
       "    <tr>\n",
       "      <th>4</th>\n",
       "      <td>1/5/2380</td>\n",
       "      <td>05-SEP-05 12.00.00.000000000 AM</td>\n",
       "      <td>Weslee</td>\n",
       "      <td>n</td>\n",
       "      <td>Cavalcante</td>\n",
       "      <td>Milam</td>\n",
       "      <td>0x286b652b0x50d6ca56</td>\n",
       "      <td>437170</td>\n",
       "      <td>105139</td>\n",
       "      <td>1489953705965142162</td>\n",
       "    </tr>\n",
       "  </tbody>\n",
       "</table>\n",
       "</div>"
      ],
      "text/plain": [
       "  birth_date_pool                 FIRST_ENTERED_US first_name_pool  \\\n",
       "0        6/9/1256  07-MAR-16 12.00.00.000000000 AM          Genora   \n",
       "1        9/5/1287  13-AUG-12 12.00.00.000000000 AM         Laramee   \n",
       "2       3/11/1507  06-OCT-16 12.00.00.000000000 AM           Zelma   \n",
       "3       3/11/1898  24-FEB-97 12.00.00.000000000 AM          Rynale   \n",
       "4        1/5/2380  05-SEP-05 12.00.00.000000000 AM          Weslee   \n",
       "\n",
       "  gender_pool last_name_pool middle_name_pool             ssid_pool  \\\n",
       "0           f        Zegarra            Rhino  0x218b2ea30x43165d46   \n",
       "1           m    Vela Garcia    Legacy-Martin  0x2156f0e80x42ade1d0   \n",
       "2           n        Garlitz          Katempa  0x2981558d0x5302ab1a   \n",
       "3           n         Reuter           Javien  0x175401eb0x2ea803d6   \n",
       "4           n     Cavalcante            Milam  0x286b652b0x50d6ca56   \n",
       "\n",
       "   usbe_student_id_pool      id                 guid  \n",
       "0                666165   46394  1489953705965142162  \n",
       "1                976990   35263  1489953705965142162  \n",
       "2                225275  148149  1489953705965142162  \n",
       "3             445502272  126536  1489953705965142162  \n",
       "4                437170  105139  1489953705965142162  "
      ]
     },
     "execution_count": 4,
     "metadata": {},
     "output_type": "execute_result"
    }
   ],
   "source": [
    "dview.subset.head()"
   ]
  },
  {
   "cell_type": "code",
   "execution_count": 5,
   "metadata": {},
   "outputs": [
    {
     "data": {
      "text/html": [
       "<div>\n",
       "<style scoped>\n",
       "    .dataframe tbody tr th:only-of-type {\n",
       "        vertical-align: middle;\n",
       "    }\n",
       "\n",
       "    .dataframe tbody tr th {\n",
       "        vertical-align: top;\n",
       "    }\n",
       "\n",
       "    .dataframe thead th {\n",
       "        text-align: right;\n",
       "    }\n",
       "</style>\n",
       "<table border=\"1\" class=\"dataframe\">\n",
       "  <thead>\n",
       "    <tr style=\"text-align: right;\">\n",
       "      <th></th>\n",
       "    </tr>\n",
       "  </thead>\n",
       "  <tbody>\n",
       "  </tbody>\n",
       "</table>\n",
       "</div>"
      ],
      "text/plain": [
       "Empty DataFrame\n",
       "Columns: []\n",
       "Index: []"
      ]
     },
     "execution_count": 5,
     "metadata": {},
     "output_type": "execute_result"
    }
   ],
   "source": [
    "iview.head()"
   ]
  },
  {
   "cell_type": "markdown",
   "metadata": {},
   "source": [
    "### Performance Option / Seeding\n",
    "Check here for potential for match.  If a match is impossible on available fields, can circumvent the linkage process and generate the MPI's here."
   ]
  },
  {
   "cell_type": "code",
   "execution_count": 6,
   "metadata": {},
   "outputs": [
    {
     "name": "stdout",
     "output_type": "stream",
     "text": [
      "checking available columns []\n",
      "Match unavailable.  Generated MPIs for data view.\n"
     ]
    }
   ],
   "source": [
    "# Check for match availability.  If not, halt process and create MPIs\n",
    "from mpi.link import is_match_available\n",
    "from mpi.update import generate_mpi, write_mpi_data, gen_mpi_insert\n",
    "from mpi.update import update_mpi_vector_table\n",
    "from mpi.prepare import standardize\n",
    "\n",
    "\n",
    "if is_match_available(dview.subset, iview):\n",
    "    print('Match available.  Proceed with linking process.')\n",
    "else:\n",
    "    print('Match unavailable.  Generated MPIs for data view.')\n",
    "    write_mpi_data(\n",
    "        gen_mpi_insert(\n",
    "            generate_mpi(standardize(dview.subset))\n",
    "        )\n",
    "    )\n",
    "    update_mpi_vector_table()\n",
    "    \n",
    "    # Recreate a view from the MPI table with valid identity data\n",
    "    iview = create_identity_view(mapped_columns=dview.subset.columns)\n",
    "    "
   ]
  },
  {
   "cell_type": "markdown",
   "metadata": {},
   "source": [
    "## Building record linkage and mpi classification"
   ]
  },
  {
   "cell_type": "code",
   "execution_count": 7,
   "metadata": {},
   "outputs": [],
   "source": [
    "from mpi.prepare import standardize\n",
    "from utils import match_dtype"
   ]
  },
  {
   "cell_type": "markdown",
   "metadata": {},
   "source": [
    "### Preprocessing\n",
    "\n",
    "Standardize data across data and identity views."
   ]
  },
  {
   "cell_type": "code",
   "execution_count": 8,
   "metadata": {},
   "outputs": [],
   "source": [
    "# Match Dtypes - Align data types prior to cleaning.\n",
    "#    This helps the cleaner by segmenting string/object and numeric fields\n",
    "\n",
    "# Cast columns to matching datatypes for comparisons later on\n",
    "source_clean, id_clean = match_dtype(standardize(dview.subset), iview)"
   ]
  },
  {
   "cell_type": "code",
   "execution_count": 9,
   "metadata": {},
   "outputs": [
    {
     "data": {
      "text/html": [
       "<div>\n",
       "<style scoped>\n",
       "    .dataframe tbody tr th:only-of-type {\n",
       "        vertical-align: middle;\n",
       "    }\n",
       "\n",
       "    .dataframe tbody tr th {\n",
       "        vertical-align: top;\n",
       "    }\n",
       "\n",
       "    .dataframe thead th {\n",
       "        text-align: right;\n",
       "    }\n",
       "</style>\n",
       "<table border=\"1\" class=\"dataframe\">\n",
       "  <thead>\n",
       "    <tr style=\"text-align: right;\">\n",
       "      <th></th>\n",
       "      <th>birth_date_pool</th>\n",
       "      <th>FIRST_ENTERED_US</th>\n",
       "      <th>first_name_pool</th>\n",
       "      <th>gender_pool</th>\n",
       "      <th>last_name_pool</th>\n",
       "      <th>middle_name_pool</th>\n",
       "      <th>ssid_pool</th>\n",
       "      <th>usbe_student_id_pool</th>\n",
       "      <th>id</th>\n",
       "      <th>guid</th>\n",
       "    </tr>\n",
       "  </thead>\n",
       "  <tbody>\n",
       "    <tr>\n",
       "      <th>0</th>\n",
       "      <td>6/9/1256</td>\n",
       "      <td>07-MAR-16 12.00.00.000000000 AM</td>\n",
       "      <td>genora</td>\n",
       "      <td>f</td>\n",
       "      <td>zegarra</td>\n",
       "      <td>rhino</td>\n",
       "      <td>0x218b2ea30x43165d46</td>\n",
       "      <td>666165</td>\n",
       "      <td>46394</td>\n",
       "      <td>1489953705965142162</td>\n",
       "    </tr>\n",
       "  </tbody>\n",
       "</table>\n",
       "</div>"
      ],
      "text/plain": [
       "  birth_date_pool                 FIRST_ENTERED_US first_name_pool  \\\n",
       "0        6/9/1256  07-MAR-16 12.00.00.000000000 AM          genora   \n",
       "\n",
       "  gender_pool last_name_pool middle_name_pool             ssid_pool  \\\n",
       "0           f        zegarra            rhino  0x218b2ea30x43165d46   \n",
       "\n",
       "   usbe_student_id_pool     id                 guid  \n",
       "0                666165  46394  1489953705965142162  "
      ]
     },
     "execution_count": 9,
     "metadata": {},
     "output_type": "execute_result"
    }
   ],
   "source": [
    "source_clean.head(1)"
   ]
  },
  {
   "cell_type": "code",
   "execution_count": 10,
   "metadata": {},
   "outputs": [
    {
     "data": {
      "text/html": [
       "<div>\n",
       "<style scoped>\n",
       "    .dataframe tbody tr th:only-of-type {\n",
       "        vertical-align: middle;\n",
       "    }\n",
       "\n",
       "    .dataframe tbody tr th {\n",
       "        vertical-align: top;\n",
       "    }\n",
       "\n",
       "    .dataframe thead th {\n",
       "        text-align: right;\n",
       "    }\n",
       "</style>\n",
       "<table border=\"1\" class=\"dataframe\">\n",
       "  <thead>\n",
       "    <tr style=\"text-align: right;\">\n",
       "      <th></th>\n",
       "      <th>gender_pool</th>\n",
       "      <th>FIRST_ENTERED_US</th>\n",
       "      <th>freq_score</th>\n",
       "      <th>mpi</th>\n",
       "      <th>usbe_student_id_pool</th>\n",
       "      <th>ssid_pool</th>\n",
       "      <th>first_name_pool</th>\n",
       "      <th>middle_name_pool</th>\n",
       "      <th>last_name_pool</th>\n",
       "      <th>birth_date_pool</th>\n",
       "      <th>id</th>\n",
       "    </tr>\n",
       "  </thead>\n",
       "  <tbody>\n",
       "    <tr>\n",
       "      <th>0</th>\n",
       "      <td>f</td>\n",
       "      <td>07-MAR-16 12.00.00.000000000 AM</td>\n",
       "      <td>1.0</td>\n",
       "      <td>14201705-13242408-16004929-5639130</td>\n",
       "      <td>666165</td>\n",
       "      <td>0x218b2ea30x43165d46</td>\n",
       "      <td>genora</td>\n",
       "      <td>rhino</td>\n",
       "      <td>zegarra</td>\n",
       "      <td>6/9/1256</td>\n",
       "      <td>46394</td>\n",
       "    </tr>\n",
       "  </tbody>\n",
       "</table>\n",
       "</div>"
      ],
      "text/plain": [
       "  gender_pool                 FIRST_ENTERED_US  freq_score  \\\n",
       "0           f  07-MAR-16 12.00.00.000000000 AM         1.0   \n",
       "\n",
       "                                  mpi  usbe_student_id_pool  \\\n",
       "0  14201705-13242408-16004929-5639130                666165   \n",
       "\n",
       "              ssid_pool first_name_pool middle_name_pool last_name_pool  \\\n",
       "0  0x218b2ea30x43165d46          genora            rhino        zegarra   \n",
       "\n",
       "  birth_date_pool     id  \n",
       "0        6/9/1256  46394  "
      ]
     },
     "execution_count": 10,
     "metadata": {},
     "output_type": "execute_result"
    }
   ],
   "source": [
    "id_clean.head(1)"
   ]
  },
  {
   "cell_type": "markdown",
   "metadata": {},
   "source": [
    "## Indexing\n",
    "\n",
    "Make record pairs - pair rows needing match to potential identity candidates.\n",
    "\n",
    "Indexing serves two purposes:\n",
    "\n",
    "1. Create the list of pairs to check (candidate link).  Example: row 1 from table 1 to row 199 from table 2.\n",
    "\n",
    "2. Reduce the potential number of pairs to check (candidates)."
   ]
  },
  {
   "cell_type": "code",
   "execution_count": 11,
   "metadata": {},
   "outputs": [],
   "source": [
    "from mpi.index import build_indexer\n",
    "from utils import match_dataframe_columns"
   ]
  },
  {
   "cell_type": "code",
   "execution_count": 12,
   "metadata": {},
   "outputs": [
    {
     "data": {
      "text/plain": [
       "[<SortedNeighbourhood left_on='first_name_pool', right_on='first_name_pool'>,\n",
       " <SortedNeighbourhood left_on='middle_name_pool', right_on='middle_name_pool'>,\n",
       " <SortedNeighbourhood left_on='last_name_pool', right_on='last_name_pool'>,\n",
       " <SortedNeighbourhood left_on='id', right_on='id'>,\n",
       " <Block left_on='usbe_student_id_pool', right_on='usbe_student_id_pool'>,\n",
       " <Block left_on='ssid_pool', right_on='ssid_pool'>,\n",
       " <Block left_on='id', right_on='id'>]"
      ]
     },
     "execution_count": 12,
     "metadata": {},
     "output_type": "execute_result"
    }
   ],
   "source": [
    "# Create indexer on dataview\n",
    "#    Indexer is a set of rules to generate \n",
    "#    candidate matches from data -> identities\n",
    "\n",
    "source_matched, id_matched = match_dataframe_columns(source_clean, id_clean)\n",
    "\n",
    "indexer = build_indexer(source_matched)\n",
    "\n",
    "# Check index algorithms (generated from data view columns)\n",
    "indexer.algorithms"
   ]
  },
  {
   "cell_type": "code",
   "execution_count": 13,
   "metadata": {},
   "outputs": [
    {
     "name": "stdout",
     "output_type": "stream",
     "text": [
      "Full Index Length:  100000000\n",
      "Algorithmic Index Length:  114582\n",
      "Savings:  99.885418\n",
      "Data-row 0 ID-row 0\n",
      "Data-row 0 ID-row 1707\n",
      "Data-row 0 ID-row 2695\n",
      "Data-row 0 ID-row 3252\n",
      "Data-row 0 ID-row 4305\n"
     ]
    }
   ],
   "source": [
    "# Run indexer on dataview, identity view\n",
    "candidates = indexer.index(source_matched, id_matched)\n",
    "\n",
    "# Full indexing is a cross join of data and all possible identities.\n",
    "\n",
    "# Demonstrating full indexing size:\n",
    "print('Full Index Length: ', len(source_clean) * len(id_clean))\n",
    "\n",
    "# Examine multi indices.  On the left is the data view index.  Right identity.\n",
    "print('Algorithmic Index Length: ', len(candidates))\n",
    "\n",
    "# Estimate Savings\n",
    "print('Savings: ', (1- len(candidates)/(len(source_clean) * len(id_clean))) * 100)\n",
    "\n",
    "# Preview indices:\n",
    "for pair in candidates[0:5]:\n",
    "    print(f'Data-row {pair[0]}', f'ID-row {pair[1]}')"
   ]
  },
  {
   "cell_type": "markdown",
   "metadata": {},
   "source": [
    "## Comparing\n",
    "\n",
    "Indexing does not normally store the outcome of its findings.  Indexing algorithms are meant to be fast, can be error prone.  Algorithms can be tuned for string (many), numeric, and time/date fields.\n",
    "\n",
    "The output of comparison is a clean feature matrix for the classifier to train/predict on."
   ]
  },
  {
   "cell_type": "code",
   "execution_count": 14,
   "metadata": {},
   "outputs": [],
   "source": [
    "from mpi.compare import build_comparator"
   ]
  },
  {
   "cell_type": "code",
   "execution_count": 15,
   "metadata": {},
   "outputs": [
    {
     "data": {
      "text/plain": [
       "[<Numeric 'usbe_student_id_pool'>,\n",
       " <Exact 'ssid_pool'>,\n",
       " <Numeric 'id'>,\n",
       " <String 'gender_pool'>,\n",
       " <String 'first_name_pool'>,\n",
       " <String 'middle_name_pool'>,\n",
       " <String 'last_name_pool'>,\n",
       " <String 'id'>]"
      ]
     },
     "execution_count": 15,
     "metadata": {},
     "output_type": "execute_result"
    }
   ],
   "source": [
    "# Create comparator on dataview\n",
    "#    Comparator is a set of algorithms for each feature to be compared.\n",
    "#    These are genearlly much more expensive compared to indexing functions\n",
    "cmp = build_comparator(source_matched)\n",
    "\n",
    "# Check comparison algorithms and fields\n",
    "cmp.features"
   ]
  },
  {
   "cell_type": "code",
   "execution_count": 17,
   "metadata": {},
   "outputs": [
    {
     "ename": "TypeError",
     "evalue": "str argument expected",
     "output_type": "error",
     "traceback": [
      "\u001b[0;31m---------------------------------------------------------------------------\u001b[0m",
      "\u001b[0;31m_RemoteTraceback\u001b[0m                          Traceback (most recent call last)",
      "\u001b[0;31m_RemoteTraceback\u001b[0m: \n\"\"\"\nTraceback (most recent call last):\n  File \"/home/vbrandon/miniconda3/envs/mpi/lib/python3.8/site-packages/joblib/externals/loky/process_executor.py\", line 431, in _process_worker\n    r = call_item()\n  File \"/home/vbrandon/miniconda3/envs/mpi/lib/python3.8/site-packages/joblib/externals/loky/process_executor.py\", line 285, in __call__\n    return self.fn(*self.args, **self.kwargs)\n  File \"/home/vbrandon/miniconda3/envs/mpi/lib/python3.8/site-packages/joblib/_parallel_backends.py\", line 595, in __call__\n    return self.func(*args, **kwargs)\n  File \"/home/vbrandon/miniconda3/envs/mpi/lib/python3.8/site-packages/joblib/parallel.py\", line 262, in __call__\n    return [func(*args, **kwargs)\n  File \"/home/vbrandon/miniconda3/envs/mpi/lib/python3.8/site-packages/joblib/parallel.py\", line 262, in <listcomp>\n    return [func(*args, **kwargs)\n  File \"/home/vbrandon/miniconda3/envs/mpi/lib/python3.8/site-packages/recordlinkage/base.py\", line 34, in _parallel_compare_helper\n    return class_obj._compute(pairs, x, x_link)\n  File \"/home/vbrandon/miniconda3/envs/mpi/lib/python3.8/site-packages/recordlinkage/base.py\", line 729, in _compute\n    result = feat._compute(data1, data2)\n  File \"/home/vbrandon/miniconda3/envs/mpi/lib/python3.8/site-packages/recordlinkage/base.py\", line 449, in _compute\n    result = self._compute_vectorized(*tuple(left_on + right_on))\n  File \"/home/vbrandon/miniconda3/envs/mpi/lib/python3.8/site-packages/recordlinkage/compare.py\", line 150, in _compute_vectorized\n    c = str_sim_alg(s_left, s_right)\n  File \"/home/vbrandon/miniconda3/envs/mpi/lib/python3.8/site-packages/recordlinkage/algorithms/string.py\", line 46, in jarowinkler_similarity\n    return conc.apply(jaro_winkler_apply)\n  File \"/home/vbrandon/miniconda3/envs/mpi/lib/python3.8/site-packages/pandas/core/series.py\", line 4212, in apply\n    mapped = lib.map_infer(values, f, convert=convert_dtype)\n  File \"pandas/_libs/lib.pyx\", line 2403, in pandas._libs.lib.map_infer\n  File \"/home/vbrandon/miniconda3/envs/mpi/lib/python3.8/site-packages/recordlinkage/algorithms/string.py\", line 44, in jaro_winkler_apply\n    raise err\n  File \"/home/vbrandon/miniconda3/envs/mpi/lib/python3.8/site-packages/recordlinkage/algorithms/string.py\", line 39, in jaro_winkler_apply\n    return jellyfish.jaro_winkler(x[0], x[1])\n  File \"/home/vbrandon/miniconda3/envs/mpi/lib/python3.8/site-packages/jellyfish/__init__.py\", line 19, in jaro_winkler\n    return jaro_winkler_similarity(s1, s2, long_tolerance)  # noqa\nTypeError: str argument expected\n\"\"\"",
      "\nThe above exception was the direct cause of the following exception:\n",
      "\u001b[0;31mTypeError\u001b[0m                                 Traceback (most recent call last)",
      "\u001b[0;32m<ipython-input-17-2ef63e7f294b>\u001b[0m in \u001b[0;36m<module>\u001b[0;34m\u001b[0m\n\u001b[1;32m      1\u001b[0m \u001b[0;31m# Compute comparisons\u001b[0m\u001b[0;34m\u001b[0m\u001b[0;34m\u001b[0m\u001b[0;34m\u001b[0m\u001b[0m\n\u001b[1;32m      2\u001b[0m \u001b[0;31m#    Gives clean match dataset for classification\u001b[0m\u001b[0;34m\u001b[0m\u001b[0;34m\u001b[0m\u001b[0;34m\u001b[0m\u001b[0m\n\u001b[0;32m----> 3\u001b[0;31m \u001b[0mcomparisons\u001b[0m \u001b[0;34m=\u001b[0m \u001b[0mcmp\u001b[0m\u001b[0;34m.\u001b[0m\u001b[0mcompute\u001b[0m\u001b[0;34m(\u001b[0m\u001b[0mcandidates\u001b[0m\u001b[0;34m,\u001b[0m \u001b[0msource_clean\u001b[0m\u001b[0;34m,\u001b[0m \u001b[0mid_clean\u001b[0m\u001b[0;34m)\u001b[0m\u001b[0;34m\u001b[0m\u001b[0;34m\u001b[0m\u001b[0m\n\u001b[0m\u001b[1;32m      4\u001b[0m \u001b[0mcomparisons\u001b[0m\u001b[0;34m.\u001b[0m\u001b[0mhead\u001b[0m\u001b[0;34m(\u001b[0m\u001b[0;34m)\u001b[0m\u001b[0;34m\u001b[0m\u001b[0;34m\u001b[0m\u001b[0m\n",
      "\u001b[0;32m~/miniconda3/envs/mpi/lib/python3.8/site-packages/recordlinkage/base.py\u001b[0m in \u001b[0;36mcompute\u001b[0;34m(self, pairs, x, x_link)\u001b[0m\n\u001b[1;32m    865\u001b[0m             \u001b[0mresults\u001b[0m \u001b[0;34m=\u001b[0m \u001b[0mself\u001b[0m\u001b[0;34m.\u001b[0m\u001b[0m_compute\u001b[0m\u001b[0;34m(\u001b[0m\u001b[0mpairs\u001b[0m\u001b[0;34m,\u001b[0m \u001b[0mx\u001b[0m\u001b[0;34m,\u001b[0m \u001b[0mx_link\u001b[0m\u001b[0;34m)\u001b[0m\u001b[0;34m\u001b[0m\u001b[0;34m\u001b[0m\u001b[0m\n\u001b[1;32m    866\u001b[0m         \u001b[0;32melif\u001b[0m \u001b[0mself\u001b[0m\u001b[0;34m.\u001b[0m\u001b[0mn_jobs\u001b[0m \u001b[0;34m>\u001b[0m \u001b[0;36m1\u001b[0m\u001b[0;34m:\u001b[0m\u001b[0;34m\u001b[0m\u001b[0;34m\u001b[0m\u001b[0m\n\u001b[0;32m--> 867\u001b[0;31m             results = self._compute_parallel(\n\u001b[0m\u001b[1;32m    868\u001b[0m                 pairs, x, x_link, n_jobs=self.n_jobs)\n\u001b[1;32m    869\u001b[0m         \u001b[0;32melse\u001b[0m\u001b[0;34m:\u001b[0m\u001b[0;34m\u001b[0m\u001b[0;34m\u001b[0m\u001b[0m\n",
      "\u001b[0;32m~/miniconda3/envs/mpi/lib/python3.8/site-packages/recordlinkage/base.py\u001b[0m in \u001b[0;36m_compute_parallel\u001b[0;34m(self, pairs, x, x_link, n_jobs)\u001b[0m\n\u001b[1;32m    671\u001b[0m \u001b[0;34m\u001b[0m\u001b[0m\n\u001b[1;32m    672\u001b[0m         \u001b[0mdf_chunks\u001b[0m \u001b[0;34m=\u001b[0m \u001b[0mindex_split\u001b[0m\u001b[0;34m(\u001b[0m\u001b[0mpairs\u001b[0m\u001b[0;34m,\u001b[0m \u001b[0mn_jobs\u001b[0m\u001b[0;34m)\u001b[0m\u001b[0;34m\u001b[0m\u001b[0;34m\u001b[0m\u001b[0m\n\u001b[0;32m--> 673\u001b[0;31m         result_chunks = Parallel(n_jobs=n_jobs)(\n\u001b[0m\u001b[1;32m    674\u001b[0m             \u001b[0mdelayed\u001b[0m\u001b[0;34m(\u001b[0m\u001b[0m_parallel_compare_helper\u001b[0m\u001b[0;34m)\u001b[0m\u001b[0;34m(\u001b[0m\u001b[0mself\u001b[0m\u001b[0;34m,\u001b[0m \u001b[0mchunk\u001b[0m\u001b[0;34m,\u001b[0m \u001b[0mx\u001b[0m\u001b[0;34m,\u001b[0m \u001b[0mx_link\u001b[0m\u001b[0;34m)\u001b[0m\u001b[0;34m\u001b[0m\u001b[0;34m\u001b[0m\u001b[0m\n\u001b[1;32m    675\u001b[0m             \u001b[0;32mfor\u001b[0m \u001b[0mchunk\u001b[0m \u001b[0;32min\u001b[0m \u001b[0mdf_chunks\u001b[0m\u001b[0;34m\u001b[0m\u001b[0;34m\u001b[0m\u001b[0m\n",
      "\u001b[0;32m~/miniconda3/envs/mpi/lib/python3.8/site-packages/joblib/parallel.py\u001b[0m in \u001b[0;36m__call__\u001b[0;34m(self, iterable)\u001b[0m\n\u001b[1;32m   1059\u001b[0m \u001b[0;34m\u001b[0m\u001b[0m\n\u001b[1;32m   1060\u001b[0m             \u001b[0;32mwith\u001b[0m \u001b[0mself\u001b[0m\u001b[0;34m.\u001b[0m\u001b[0m_backend\u001b[0m\u001b[0;34m.\u001b[0m\u001b[0mretrieval_context\u001b[0m\u001b[0;34m(\u001b[0m\u001b[0;34m)\u001b[0m\u001b[0;34m:\u001b[0m\u001b[0;34m\u001b[0m\u001b[0;34m\u001b[0m\u001b[0m\n\u001b[0;32m-> 1061\u001b[0;31m                 \u001b[0mself\u001b[0m\u001b[0;34m.\u001b[0m\u001b[0mretrieve\u001b[0m\u001b[0;34m(\u001b[0m\u001b[0;34m)\u001b[0m\u001b[0;34m\u001b[0m\u001b[0;34m\u001b[0m\u001b[0m\n\u001b[0m\u001b[1;32m   1062\u001b[0m             \u001b[0;31m# Make sure that we get a last message telling us we are done\u001b[0m\u001b[0;34m\u001b[0m\u001b[0;34m\u001b[0m\u001b[0;34m\u001b[0m\u001b[0m\n\u001b[1;32m   1063\u001b[0m             \u001b[0melapsed_time\u001b[0m \u001b[0;34m=\u001b[0m \u001b[0mtime\u001b[0m\u001b[0;34m.\u001b[0m\u001b[0mtime\u001b[0m\u001b[0;34m(\u001b[0m\u001b[0;34m)\u001b[0m \u001b[0;34m-\u001b[0m \u001b[0mself\u001b[0m\u001b[0;34m.\u001b[0m\u001b[0m_start_time\u001b[0m\u001b[0;34m\u001b[0m\u001b[0;34m\u001b[0m\u001b[0m\n",
      "\u001b[0;32m~/miniconda3/envs/mpi/lib/python3.8/site-packages/joblib/parallel.py\u001b[0m in \u001b[0;36mretrieve\u001b[0;34m(self)\u001b[0m\n\u001b[1;32m    938\u001b[0m             \u001b[0;32mtry\u001b[0m\u001b[0;34m:\u001b[0m\u001b[0;34m\u001b[0m\u001b[0;34m\u001b[0m\u001b[0m\n\u001b[1;32m    939\u001b[0m                 \u001b[0;32mif\u001b[0m \u001b[0mgetattr\u001b[0m\u001b[0;34m(\u001b[0m\u001b[0mself\u001b[0m\u001b[0;34m.\u001b[0m\u001b[0m_backend\u001b[0m\u001b[0;34m,\u001b[0m \u001b[0;34m'supports_timeout'\u001b[0m\u001b[0;34m,\u001b[0m \u001b[0;32mFalse\u001b[0m\u001b[0;34m)\u001b[0m\u001b[0;34m:\u001b[0m\u001b[0;34m\u001b[0m\u001b[0;34m\u001b[0m\u001b[0m\n\u001b[0;32m--> 940\u001b[0;31m                     \u001b[0mself\u001b[0m\u001b[0;34m.\u001b[0m\u001b[0m_output\u001b[0m\u001b[0;34m.\u001b[0m\u001b[0mextend\u001b[0m\u001b[0;34m(\u001b[0m\u001b[0mjob\u001b[0m\u001b[0;34m.\u001b[0m\u001b[0mget\u001b[0m\u001b[0;34m(\u001b[0m\u001b[0mtimeout\u001b[0m\u001b[0;34m=\u001b[0m\u001b[0mself\u001b[0m\u001b[0;34m.\u001b[0m\u001b[0mtimeout\u001b[0m\u001b[0;34m)\u001b[0m\u001b[0;34m)\u001b[0m\u001b[0;34m\u001b[0m\u001b[0;34m\u001b[0m\u001b[0m\n\u001b[0m\u001b[1;32m    941\u001b[0m                 \u001b[0;32melse\u001b[0m\u001b[0;34m:\u001b[0m\u001b[0;34m\u001b[0m\u001b[0;34m\u001b[0m\u001b[0m\n\u001b[1;32m    942\u001b[0m                     \u001b[0mself\u001b[0m\u001b[0;34m.\u001b[0m\u001b[0m_output\u001b[0m\u001b[0;34m.\u001b[0m\u001b[0mextend\u001b[0m\u001b[0;34m(\u001b[0m\u001b[0mjob\u001b[0m\u001b[0;34m.\u001b[0m\u001b[0mget\u001b[0m\u001b[0;34m(\u001b[0m\u001b[0;34m)\u001b[0m\u001b[0;34m)\u001b[0m\u001b[0;34m\u001b[0m\u001b[0;34m\u001b[0m\u001b[0m\n",
      "\u001b[0;32m~/miniconda3/envs/mpi/lib/python3.8/site-packages/joblib/_parallel_backends.py\u001b[0m in \u001b[0;36mwrap_future_result\u001b[0;34m(future, timeout)\u001b[0m\n\u001b[1;32m    540\u001b[0m         AsyncResults.get from multiprocessing.\"\"\"\n\u001b[1;32m    541\u001b[0m         \u001b[0;32mtry\u001b[0m\u001b[0;34m:\u001b[0m\u001b[0;34m\u001b[0m\u001b[0;34m\u001b[0m\u001b[0m\n\u001b[0;32m--> 542\u001b[0;31m             \u001b[0;32mreturn\u001b[0m \u001b[0mfuture\u001b[0m\u001b[0;34m.\u001b[0m\u001b[0mresult\u001b[0m\u001b[0;34m(\u001b[0m\u001b[0mtimeout\u001b[0m\u001b[0;34m=\u001b[0m\u001b[0mtimeout\u001b[0m\u001b[0;34m)\u001b[0m\u001b[0;34m\u001b[0m\u001b[0;34m\u001b[0m\u001b[0m\n\u001b[0m\u001b[1;32m    543\u001b[0m         \u001b[0;32mexcept\u001b[0m \u001b[0mCfTimeoutError\u001b[0m \u001b[0;32mas\u001b[0m \u001b[0me\u001b[0m\u001b[0;34m:\u001b[0m\u001b[0;34m\u001b[0m\u001b[0;34m\u001b[0m\u001b[0m\n\u001b[1;32m    544\u001b[0m             \u001b[0;32mraise\u001b[0m \u001b[0mTimeoutError\u001b[0m \u001b[0;32mfrom\u001b[0m \u001b[0me\u001b[0m\u001b[0;34m\u001b[0m\u001b[0;34m\u001b[0m\u001b[0m\n",
      "\u001b[0;32m~/miniconda3/envs/mpi/lib/python3.8/concurrent/futures/_base.py\u001b[0m in \u001b[0;36mresult\u001b[0;34m(self, timeout)\u001b[0m\n\u001b[1;32m    437\u001b[0m                 \u001b[0;32mraise\u001b[0m \u001b[0mCancelledError\u001b[0m\u001b[0;34m(\u001b[0m\u001b[0;34m)\u001b[0m\u001b[0;34m\u001b[0m\u001b[0;34m\u001b[0m\u001b[0m\n\u001b[1;32m    438\u001b[0m             \u001b[0;32melif\u001b[0m \u001b[0mself\u001b[0m\u001b[0;34m.\u001b[0m\u001b[0m_state\u001b[0m \u001b[0;34m==\u001b[0m \u001b[0mFINISHED\u001b[0m\u001b[0;34m:\u001b[0m\u001b[0;34m\u001b[0m\u001b[0;34m\u001b[0m\u001b[0m\n\u001b[0;32m--> 439\u001b[0;31m                 \u001b[0;32mreturn\u001b[0m \u001b[0mself\u001b[0m\u001b[0;34m.\u001b[0m\u001b[0m__get_result\u001b[0m\u001b[0;34m(\u001b[0m\u001b[0;34m)\u001b[0m\u001b[0;34m\u001b[0m\u001b[0;34m\u001b[0m\u001b[0m\n\u001b[0m\u001b[1;32m    440\u001b[0m             \u001b[0;32melse\u001b[0m\u001b[0;34m:\u001b[0m\u001b[0;34m\u001b[0m\u001b[0;34m\u001b[0m\u001b[0m\n\u001b[1;32m    441\u001b[0m                 \u001b[0;32mraise\u001b[0m \u001b[0mTimeoutError\u001b[0m\u001b[0;34m(\u001b[0m\u001b[0;34m)\u001b[0m\u001b[0;34m\u001b[0m\u001b[0;34m\u001b[0m\u001b[0m\n",
      "\u001b[0;32m~/miniconda3/envs/mpi/lib/python3.8/concurrent/futures/_base.py\u001b[0m in \u001b[0;36m__get_result\u001b[0;34m(self)\u001b[0m\n\u001b[1;32m    386\u001b[0m     \u001b[0;32mdef\u001b[0m \u001b[0m__get_result\u001b[0m\u001b[0;34m(\u001b[0m\u001b[0mself\u001b[0m\u001b[0;34m)\u001b[0m\u001b[0;34m:\u001b[0m\u001b[0;34m\u001b[0m\u001b[0;34m\u001b[0m\u001b[0m\n\u001b[1;32m    387\u001b[0m         \u001b[0;32mif\u001b[0m \u001b[0mself\u001b[0m\u001b[0;34m.\u001b[0m\u001b[0m_exception\u001b[0m\u001b[0;34m:\u001b[0m\u001b[0;34m\u001b[0m\u001b[0;34m\u001b[0m\u001b[0m\n\u001b[0;32m--> 388\u001b[0;31m             \u001b[0;32mraise\u001b[0m \u001b[0mself\u001b[0m\u001b[0;34m.\u001b[0m\u001b[0m_exception\u001b[0m\u001b[0;34m\u001b[0m\u001b[0;34m\u001b[0m\u001b[0m\n\u001b[0m\u001b[1;32m    389\u001b[0m         \u001b[0;32melse\u001b[0m\u001b[0;34m:\u001b[0m\u001b[0;34m\u001b[0m\u001b[0;34m\u001b[0m\u001b[0m\n\u001b[1;32m    390\u001b[0m             \u001b[0;32mreturn\u001b[0m \u001b[0mself\u001b[0m\u001b[0;34m.\u001b[0m\u001b[0m_result\u001b[0m\u001b[0;34m\u001b[0m\u001b[0;34m\u001b[0m\u001b[0m\n",
      "\u001b[0;31mTypeError\u001b[0m: str argument expected"
     ]
    }
   ],
   "source": [
    "# Compute comparisons\n",
    "#    Gives clean match dataset for classification\n",
    "comparisons = cmp.compute(candidates, source_clean, id_clean)\n",
    "comparisons.head()"
   ]
  },
  {
   "cell_type": "code",
   "execution_count": 21,
   "metadata": {},
   "outputs": [
    {
     "data": {
      "text/html": [
       "<div>\n",
       "<style scoped>\n",
       "    .dataframe tbody tr th:only-of-type {\n",
       "        vertical-align: middle;\n",
       "    }\n",
       "\n",
       "    .dataframe tbody tr th {\n",
       "        vertical-align: top;\n",
       "    }\n",
       "\n",
       "    .dataframe thead th {\n",
       "        text-align: right;\n",
       "    }\n",
       "</style>\n",
       "<table border=\"1\" class=\"dataframe\">\n",
       "  <thead>\n",
       "    <tr style=\"text-align: right;\">\n",
       "      <th></th>\n",
       "      <th>gender_pool</th>\n",
       "      <th>FIRST_ENTERED_US</th>\n",
       "      <th>usbe_student_id_pool</th>\n",
       "      <th>ssid_pool</th>\n",
       "      <th>first_name_pool</th>\n",
       "      <th>middle_name_pool</th>\n",
       "      <th>last_name_pool</th>\n",
       "      <th>birth_date_pool</th>\n",
       "      <th>id</th>\n",
       "    </tr>\n",
       "  </thead>\n",
       "  <tbody>\n",
       "    <tr>\n",
       "      <th>0</th>\n",
       "      <td>f</td>\n",
       "      <td>07-MAR-16 12.00.00.000000000 AM</td>\n",
       "      <td>666165</td>\n",
       "      <td>0x218b2ea30x43165d46</td>\n",
       "      <td>genora</td>\n",
       "      <td>rhino</td>\n",
       "      <td>zegarra</td>\n",
       "      <td>6/9/1256</td>\n",
       "      <td>46394</td>\n",
       "    </tr>\n",
       "    <tr>\n",
       "      <th>1</th>\n",
       "      <td>m</td>\n",
       "      <td>13-AUG-12 12.00.00.000000000 AM</td>\n",
       "      <td>976990</td>\n",
       "      <td>0x2156f0e80x42ade1d0</td>\n",
       "      <td>laramee</td>\n",
       "      <td>legacy martin</td>\n",
       "      <td>vela garcia</td>\n",
       "      <td>9/5/1287</td>\n",
       "      <td>35263</td>\n",
       "    </tr>\n",
       "    <tr>\n",
       "      <th>2</th>\n",
       "      <td>n</td>\n",
       "      <td>06-OCT-16 12.00.00.000000000 AM</td>\n",
       "      <td>225275</td>\n",
       "      <td>0x2981558d0x5302ab1a</td>\n",
       "      <td>zelma</td>\n",
       "      <td>katempa</td>\n",
       "      <td>garlitz</td>\n",
       "      <td>3/11/1507</td>\n",
       "      <td>148149</td>\n",
       "    </tr>\n",
       "    <tr>\n",
       "      <th>3</th>\n",
       "      <td>n</td>\n",
       "      <td>24-FEB-97 12.00.00.000000000 AM</td>\n",
       "      <td>445502272</td>\n",
       "      <td>0x175401eb0x2ea803d6</td>\n",
       "      <td>rynale</td>\n",
       "      <td>javien</td>\n",
       "      <td>reuter</td>\n",
       "      <td>3/11/1898</td>\n",
       "      <td>126536</td>\n",
       "    </tr>\n",
       "    <tr>\n",
       "      <th>4</th>\n",
       "      <td>n</td>\n",
       "      <td>05-SEP-05 12.00.00.000000000 AM</td>\n",
       "      <td>437170</td>\n",
       "      <td>0x286b652b0x50d6ca56</td>\n",
       "      <td>weslee</td>\n",
       "      <td>milam</td>\n",
       "      <td>cavalcante</td>\n",
       "      <td>1/5/2380</td>\n",
       "      <td>105139</td>\n",
       "    </tr>\n",
       "    <tr>\n",
       "      <th>...</th>\n",
       "      <td>...</td>\n",
       "      <td>...</td>\n",
       "      <td>...</td>\n",
       "      <td>...</td>\n",
       "      <td>...</td>\n",
       "      <td>...</td>\n",
       "      <td>...</td>\n",
       "      <td>...</td>\n",
       "      <td>...</td>\n",
       "    </tr>\n",
       "    <tr>\n",
       "      <th>9995</th>\n",
       "      <td>m</td>\n",
       "      <td>25-DEC-04 12.00.00.000000000 AM</td>\n",
       "      <td>311049</td>\n",
       "      <td>0x169657b20x2d2caf64</td>\n",
       "      <td>mekaylie</td>\n",
       "      <td>randall j</td>\n",
       "      <td>tzunun</td>\n",
       "      <td>5/3/2727</td>\n",
       "      <td>66917</td>\n",
       "    </tr>\n",
       "    <tr>\n",
       "      <th>9996</th>\n",
       "      <td>m</td>\n",
       "      <td>27-JAN-14 12.00.00.000000000 AM</td>\n",
       "      <td>793712</td>\n",
       "      <td>0x2e52052f0x5ca40a5e</td>\n",
       "      <td>behrett</td>\n",
       "      <td>everhart</td>\n",
       "      <td>covarrubias</td>\n",
       "      <td>6/18/1650</td>\n",
       "      <td>16819</td>\n",
       "    </tr>\n",
       "    <tr>\n",
       "      <th>9997</th>\n",
       "      <td>f</td>\n",
       "      <td>20-JUL-08 12.00.00.000000000 AM</td>\n",
       "      <td>506989</td>\n",
       "      <td>0x1d500f3e0x3aa01e7c</td>\n",
       "      <td>alylah</td>\n",
       "      <td>mikhail</td>\n",
       "      <td>treft</td>\n",
       "      <td>10/4/1458</td>\n",
       "      <td>14273</td>\n",
       "    </tr>\n",
       "    <tr>\n",
       "      <th>9998</th>\n",
       "      <td>f</td>\n",
       "      <td>28-FEB-98 12.00.00.000000000 AM</td>\n",
       "      <td>555305</td>\n",
       "      <td>0x1fd3990c0x3fa73218</td>\n",
       "      <td>emsley</td>\n",
       "      <td>destry</td>\n",
       "      <td>kennington</td>\n",
       "      <td>10/9/2082</td>\n",
       "      <td>36743</td>\n",
       "    </tr>\n",
       "    <tr>\n",
       "      <th>9999</th>\n",
       "      <td>n</td>\n",
       "      <td>26-JUL-05 12.00.00.000000000 AM</td>\n",
       "      <td>449784</td>\n",
       "      <td>0x2595afe50x4b2b5fca</td>\n",
       "      <td>chay ara</td>\n",
       "      <td>waiohinukahawai</td>\n",
       "      <td>mcintier</td>\n",
       "      <td>9/22/1998</td>\n",
       "      <td>90682</td>\n",
       "    </tr>\n",
       "  </tbody>\n",
       "</table>\n",
       "<p>10000 rows × 9 columns</p>\n",
       "</div>"
      ],
      "text/plain": [
       "     gender_pool                 FIRST_ENTERED_US  usbe_student_id_pool  \\\n",
       "0              f  07-MAR-16 12.00.00.000000000 AM                666165   \n",
       "1              m  13-AUG-12 12.00.00.000000000 AM                976990   \n",
       "2              n  06-OCT-16 12.00.00.000000000 AM                225275   \n",
       "3              n  24-FEB-97 12.00.00.000000000 AM             445502272   \n",
       "4              n  05-SEP-05 12.00.00.000000000 AM                437170   \n",
       "...          ...                              ...                   ...   \n",
       "9995           m  25-DEC-04 12.00.00.000000000 AM                311049   \n",
       "9996           m  27-JAN-14 12.00.00.000000000 AM                793712   \n",
       "9997           f  20-JUL-08 12.00.00.000000000 AM                506989   \n",
       "9998           f  28-FEB-98 12.00.00.000000000 AM                555305   \n",
       "9999           n  26-JUL-05 12.00.00.000000000 AM                449784   \n",
       "\n",
       "                 ssid_pool first_name_pool middle_name_pool last_name_pool  \\\n",
       "0     0x218b2ea30x43165d46          genora            rhino        zegarra   \n",
       "1     0x2156f0e80x42ade1d0         laramee    legacy martin    vela garcia   \n",
       "2     0x2981558d0x5302ab1a           zelma          katempa        garlitz   \n",
       "3     0x175401eb0x2ea803d6          rynale           javien         reuter   \n",
       "4     0x286b652b0x50d6ca56          weslee            milam     cavalcante   \n",
       "...                    ...             ...              ...            ...   \n",
       "9995  0x169657b20x2d2caf64        mekaylie        randall j         tzunun   \n",
       "9996  0x2e52052f0x5ca40a5e         behrett         everhart    covarrubias   \n",
       "9997  0x1d500f3e0x3aa01e7c          alylah          mikhail          treft   \n",
       "9998  0x1fd3990c0x3fa73218          emsley           destry     kennington   \n",
       "9999  0x2595afe50x4b2b5fca        chay ara  waiohinukahawai       mcintier   \n",
       "\n",
       "     birth_date_pool      id  \n",
       "0           6/9/1256   46394  \n",
       "1           9/5/1287   35263  \n",
       "2          3/11/1507  148149  \n",
       "3          3/11/1898  126536  \n",
       "4           1/5/2380  105139  \n",
       "...              ...     ...  \n",
       "9995        5/3/2727   66917  \n",
       "9996       6/18/1650   16819  \n",
       "9997       10/4/1458   14273  \n",
       "9998       10/9/2082   36743  \n",
       "9999       9/22/1998   90682  \n",
       "\n",
       "[10000 rows x 9 columns]"
      ]
     },
     "execution_count": 21,
     "metadata": {},
     "output_type": "execute_result"
    }
   ],
   "source": [
    "source_matched"
   ]
  },
  {
   "cell_type": "markdown",
   "metadata": {},
   "source": [
    "## Classification\n",
    "\n",
    "Score candidates for match.  \n",
    "\n",
    "#### Two approaches: Supervised vs Unsupervised\n",
    " * **Supervised** approach requires a training set.\n",
    " * **Unsupervised** does not require a training set and operates on only on the comparison table itself."
   ]
  },
  {
   "cell_type": "code",
   "execution_count": 20,
   "metadata": {},
   "outputs": [
    {
     "data": {
      "text/plain": [
       "0     0       0.999409\n",
       "      1707    0.000025\n",
       "      4305    0.000001\n",
       "      4980    0.000005\n",
       "      6265    0.000005\n",
       "                ...   \n",
       "9999  5475    0.000106\n",
       "      6678    0.000199\n",
       "      7860    0.000005\n",
       "      9752    0.000005\n",
       "      9999    0.999409\n",
       "Length: 94600, dtype: float64"
      ]
     },
     "execution_count": 20,
     "metadata": {},
     "output_type": "execute_result"
    }
   ],
   "source": [
    "from mpi.classify import estimate_true, build_classifier\n",
    "\n",
    "# Get estimated true linkages for supervised model\n",
    "links_true = estimate_true(comparisons)\n",
    "\n",
    "# Create classifier\n",
    "clf = build_classifier('logistic', comparisons, match_index=links_true)\n",
    "\n",
    "# Check probabilities (score) of each comparison -- NOT IN USE IN THIS VERSION\n",
    "predictions = clf.prob(comparison_vectors=comparisons)\n",
    "predictions"
   ]
  },
  {
   "cell_type": "markdown",
   "metadata": {},
   "source": [
    "## Evaluate\n",
    "Express classification quality and explore outliers"
   ]
  },
  {
   "cell_type": "code",
   "execution_count": 21,
   "metadata": {},
   "outputs": [],
   "source": [
    "from recordlinkage import reduction_ratio\n",
    "from recordlinkage import confusion_matrix\n",
    "\n",
    "links_pred = clf.predict(comparison_vectors=comparisons)\n",
    "\n",
    "rratio = reduction_ratio(links_pred, source_clean)\n",
    "cmatrix = confusion_matrix(links_true, links_pred, candidates)"
   ]
  },
  {
   "cell_type": "code",
   "execution_count": 22,
   "metadata": {},
   "outputs": [
    {
     "name": "stdout",
     "output_type": "stream",
     "text": [
      "[[ 9999     0]\n",
      " [    1 84600]]\n",
      "0.9997999799979999\n"
     ]
    }
   ],
   "source": [
    "# Review confusion matrix\n",
    "#    TP-FN\n",
    "#    |  |\n",
    "#    FP-TN\n",
    "print(cmatrix)\n",
    "\n",
    "# Review reduction ratio\n",
    "print(rratio)"
   ]
  },
  {
   "cell_type": "markdown",
   "metadata": {},
   "source": [
    "The confusion matrix may not be particularly useful here as generation of true links is prone to error. The reduction ratio is more sensitive than binary predictions in this case."
   ]
  },
  {
   "cell_type": "code",
   "execution_count": 23,
   "metadata": {},
   "outputs": [
    {
     "data": {
      "text/plain": [
       "(10000, 10000)"
      ]
     },
     "execution_count": 23,
     "metadata": {},
     "output_type": "execute_result"
    }
   ],
   "source": [
    "# Review findings\n",
    "#   Interesting that the logistic predicted an MPI indices for each given an incomplete target list.\n",
    "\n",
    "# Is the relationship 1,1?\n",
    "split_list = lambda x: ([ix[0] for ix in x], [ix[1] for ix in x])\n",
    "i1, i2 = split_list(links_pred)\n",
    "len(list(set(i1))), len(list(set(i2)))"
   ]
  },
  {
   "cell_type": "markdown",
   "metadata": {},
   "source": [
    "## Update\n",
    "\n",
    "Append matched MPIs and match score to data view and merge to original data."
   ]
  },
  {
   "cell_type": "code",
   "execution_count": 24,
   "metadata": {},
   "outputs": [],
   "source": [
    "from mpi.update import append_mpi, write_matched_unmatched\n",
    "from utils import union_frames\n",
    "\n",
    "# Attach matched MPIs and generate MPIs for unmatched rows\n",
    "matched, unmatched = append_mpi(source_clean, id_clean, links_pred)\n",
    "\n",
    "# Write matched and unmatched data to DB\n",
    "write_matched_unmatched(matched, unmatched)\n",
    "\n",
    "# Combine matched, unmatched\n",
    "combined = union_frames(matched, unmatched)"
   ]
  },
  {
   "cell_type": "code",
   "execution_count": 27,
   "metadata": {},
   "outputs": [
    {
     "data": {
      "text/html": [
       "<div>\n",
       "<style scoped>\n",
       "    .dataframe tbody tr th:only-of-type {\n",
       "        vertical-align: middle;\n",
       "    }\n",
       "\n",
       "    .dataframe tbody tr th {\n",
       "        vertical-align: top;\n",
       "    }\n",
       "\n",
       "    .dataframe thead th {\n",
       "        text-align: right;\n",
       "    }\n",
       "</style>\n",
       "<table border=\"1\" class=\"dataframe\">\n",
       "  <thead>\n",
       "    <tr style=\"text-align: right;\">\n",
       "      <th></th>\n",
       "      <th>BIRTH_DATE</th>\n",
       "      <th>FIRST_ENTERED_US</th>\n",
       "      <th>FIRST_NAME</th>\n",
       "      <th>GENDER</th>\n",
       "      <th>LAST_NAME</th>\n",
       "      <th>MIDDLE_NAME</th>\n",
       "      <th>SSID</th>\n",
       "      <th>STUDENT_ID</th>\n",
       "      <th>id</th>\n",
       "      <th>guid</th>\n",
       "    </tr>\n",
       "  </thead>\n",
       "  <tbody>\n",
       "    <tr>\n",
       "      <th>0</th>\n",
       "      <td>6/9/1256</td>\n",
       "      <td>07-MAR-16 12.00.00.000000000 AM</td>\n",
       "      <td>Genora</td>\n",
       "      <td>f</td>\n",
       "      <td>Zegarra</td>\n",
       "      <td>Rhino</td>\n",
       "      <td>0x218b2ea30x43165d46</td>\n",
       "      <td>666165</td>\n",
       "      <td>46394</td>\n",
       "      <td>1489953705965142162</td>\n",
       "    </tr>\n",
       "    <tr>\n",
       "      <th>1</th>\n",
       "      <td>9/5/1287</td>\n",
       "      <td>13-AUG-12 12.00.00.000000000 AM</td>\n",
       "      <td>Laramee</td>\n",
       "      <td>m</td>\n",
       "      <td>Vela Garcia</td>\n",
       "      <td>Legacy-Martin</td>\n",
       "      <td>0x2156f0e80x42ade1d0</td>\n",
       "      <td>976990</td>\n",
       "      <td>35263</td>\n",
       "      <td>1489953705965142162</td>\n",
       "    </tr>\n",
       "    <tr>\n",
       "      <th>2</th>\n",
       "      <td>3/11/1507</td>\n",
       "      <td>06-OCT-16 12.00.00.000000000 AM</td>\n",
       "      <td>Zelma</td>\n",
       "      <td>n</td>\n",
       "      <td>Garlitz</td>\n",
       "      <td>Katempa</td>\n",
       "      <td>0x2981558d0x5302ab1a</td>\n",
       "      <td>225275</td>\n",
       "      <td>148149</td>\n",
       "      <td>1489953705965142162</td>\n",
       "    </tr>\n",
       "    <tr>\n",
       "      <th>3</th>\n",
       "      <td>3/11/1898</td>\n",
       "      <td>24-FEB-97 12.00.00.000000000 AM</td>\n",
       "      <td>Rynale</td>\n",
       "      <td>n</td>\n",
       "      <td>Reuter</td>\n",
       "      <td>Javien</td>\n",
       "      <td>0x175401eb0x2ea803d6</td>\n",
       "      <td>445502272</td>\n",
       "      <td>126536</td>\n",
       "      <td>1489953705965142162</td>\n",
       "    </tr>\n",
       "    <tr>\n",
       "      <th>4</th>\n",
       "      <td>1/5/2380</td>\n",
       "      <td>05-SEP-05 12.00.00.000000000 AM</td>\n",
       "      <td>Weslee</td>\n",
       "      <td>n</td>\n",
       "      <td>Cavalcante</td>\n",
       "      <td>Milam</td>\n",
       "      <td>0x286b652b0x50d6ca56</td>\n",
       "      <td>437170</td>\n",
       "      <td>105139</td>\n",
       "      <td>1489953705965142162</td>\n",
       "    </tr>\n",
       "  </tbody>\n",
       "</table>\n",
       "</div>"
      ],
      "text/plain": [
       "  BIRTH_DATE                 FIRST_ENTERED_US FIRST_NAME GENDER    LAST_NAME  \\\n",
       "0   6/9/1256  07-MAR-16 12.00.00.000000000 AM     Genora      f      Zegarra   \n",
       "1   9/5/1287  13-AUG-12 12.00.00.000000000 AM    Laramee      m  Vela Garcia   \n",
       "2  3/11/1507  06-OCT-16 12.00.00.000000000 AM      Zelma      n      Garlitz   \n",
       "3  3/11/1898  24-FEB-97 12.00.00.000000000 AM     Rynale      n       Reuter   \n",
       "4   1/5/2380  05-SEP-05 12.00.00.000000000 AM     Weslee      n   Cavalcante   \n",
       "\n",
       "     MIDDLE_NAME                  SSID  STUDENT_ID      id  \\\n",
       "0          Rhino  0x218b2ea30x43165d46      666165   46394   \n",
       "1  Legacy-Martin  0x2156f0e80x42ade1d0      976990   35263   \n",
       "2        Katempa  0x2981558d0x5302ab1a      225275  148149   \n",
       "3         Javien  0x175401eb0x2ea803d6   445502272  126536   \n",
       "4          Milam  0x286b652b0x50d6ca56      437170  105139   \n",
       "\n",
       "                  guid  \n",
       "0  1489953705965142162  \n",
       "1  1489953705965142162  \n",
       "2  1489953705965142162  \n",
       "3  1489953705965142162  \n",
       "4  1489953705965142162  "
      ]
     },
     "execution_count": 27,
     "metadata": {},
     "output_type": "execute_result"
    }
   ],
   "source": [
    "dview.head()"
   ]
  },
  {
   "cell_type": "code",
   "execution_count": null,
   "metadata": {},
   "outputs": [],
   "source": []
  },
  {
   "cell_type": "code",
   "execution_count": 38,
   "metadata": {},
   "outputs": [
    {
     "ename": "NameError",
     "evalue": "name 'raw' is not defined",
     "output_type": "error",
     "traceback": [
      "\u001b[0;31m---------------------------------------------------------------------------\u001b[0m",
      "\u001b[0;31mNameError\u001b[0m                                 Traceback (most recent call last)",
      "\u001b[0;32m<ipython-input-38-36877e9f7bc0>\u001b[0m in \u001b[0;36m<module>\u001b[0;34m\u001b[0m\n\u001b[1;32m      7\u001b[0m \u001b[0;34m\u001b[0m\u001b[0m\n\u001b[1;32m      8\u001b[0m \u001b[0;34m\u001b[0m\u001b[0m\n\u001b[0;32m----> 9\u001b[0;31m \u001b[0mupdated\u001b[0m\u001b[0;34m,\u001b[0m \u001b[0mmatched\u001b[0m\u001b[0;34m,\u001b[0m \u001b[0munmatched\u001b[0m \u001b[0;34m=\u001b[0m \u001b[0mexpand_match_to_raw\u001b[0m\u001b[0;34m(\u001b[0m\u001b[0mraw\u001b[0m\u001b[0;34m,\u001b[0m \u001b[0msubset\u001b[0m\u001b[0;34m,\u001b[0m \u001b[0msource_data\u001b[0m\u001b[0;34m,\u001b[0m \u001b[0mid_data\u001b[0m\u001b[0;34m,\u001b[0m \u001b[0mlinks_pred\u001b[0m\u001b[0;34m)\u001b[0m\u001b[0;34m\u001b[0m\u001b[0;34m\u001b[0m\u001b[0m\n\u001b[0m\u001b[1;32m     10\u001b[0m \u001b[0mupdated\u001b[0m\u001b[0;34m.\u001b[0m\u001b[0mhead\u001b[0m\u001b[0;34m(\u001b[0m\u001b[0;36m1\u001b[0m\u001b[0;34m)\u001b[0m\u001b[0;34m\u001b[0m\u001b[0;34m\u001b[0m\u001b[0m\n",
      "\u001b[0;31mNameError\u001b[0m: name 'raw' is not defined"
     ]
    }
   ],
   "source": [
    "from mpi.update import expand_match_to_raw, append_mpi\n",
    "\n",
    "# Join data view (DISTINCT identities in source table), now containing matched and generated MPIs, to raw table.\n",
    "#    This can be done a few ways.  Here, the data view (whose columns have been renamed and processed)\n",
    "#    is joined to the original subset (whose columns were just renamed).  The subset is then indexed back \n",
    "#    unto the raw table so original column names and source formatting are preserved.\n",
    "\n",
    "\n",
    "updated, matched, unmatched = expand_match_to_raw(raw, subset, source_data, id_data, links_pred)\n",
    "updated.head(1)"
   ]
  },
  {
   "cell_type": "code",
   "execution_count": 87,
   "metadata": {},
   "outputs": [],
   "source": [
    "# Update the MPI Vectors table for future use\n",
    "from mpi.update import update_mpi_vector_table\n",
    "update_mpi_vector_table()"
   ]
  },
  {
   "cell_type": "markdown",
   "metadata": {},
   "source": [
    "### De-Identification\n",
    "\n",
    "Create de-identified table while match available in memory or as referenced temp table."
   ]
  },
  {
   "cell_type": "code",
   "execution_count": 88,
   "metadata": {},
   "outputs": [
    {
     "data": {
      "text/plain": [
       "'ustc_students_di'"
      ]
     },
     "execution_count": 88,
     "metadata": {},
     "output_type": "execute_result"
    }
   ],
   "source": [
    "from assets.mapping import colmap\n",
    "from db import dataframe_to_db\n",
    "from di import simple_di\n",
    "\n",
    "dataframe_to_db(\n",
    "    simple_di(updated), \n",
    "    tablename=source_tablename + '_di'\n",
    ")"
   ]
  },
  {
   "cell_type": "code",
   "execution_count": null,
   "metadata": {},
   "outputs": [],
   "source": []
  },
  {
   "cell_type": "markdown",
   "metadata": {},
   "source": [
    "## Flag MPI\n",
    "\n",
    "Rule 1:  MPI contains disagreement in blocking identifiers (local_id, ssn, ssid)\n",
    "\n",
    "Rule 2:  Blocking identifer shared between multiple MPI"
   ]
  },
  {
   "cell_type": "code",
   "execution_count": 1,
   "metadata": {},
   "outputs": [],
   "source": [
    "from mpi.postprocess import Rule1, Rule2"
   ]
  },
  {
   "cell_type": "code",
   "execution_count": 2,
   "metadata": {},
   "outputs": [
    {
     "data": {
      "text/html": [
       "<div>\n",
       "<style scoped>\n",
       "    .dataframe tbody tr th:only-of-type {\n",
       "        vertical-align: middle;\n",
       "    }\n",
       "\n",
       "    .dataframe tbody tr th {\n",
       "        vertical-align: top;\n",
       "    }\n",
       "\n",
       "    .dataframe thead th {\n",
       "        text-align: right;\n",
       "    }\n",
       "</style>\n",
       "<table border=\"1\" class=\"dataframe\">\n",
       "  <thead>\n",
       "    <tr style=\"text-align: right;\">\n",
       "      <th></th>\n",
       "      <th>mpi</th>\n",
       "      <th>flag</th>\n",
       "    </tr>\n",
       "  </thead>\n",
       "  <tbody>\n",
       "    <tr>\n",
       "      <th>0</th>\n",
       "      <td>15918315-13223288-3889668-8685359</td>\n",
       "      <td>Rule1</td>\n",
       "    </tr>\n",
       "  </tbody>\n",
       "</table>\n",
       "</div>"
      ],
      "text/plain": [
       "                                 mpi   flag\n",
       "0  15918315-13223288-3889668-8685359  Rule1"
      ]
     },
     "execution_count": 2,
     "metadata": {},
     "output_type": "execute_result"
    }
   ],
   "source": [
    "f = Rule1()\n",
    "f.result"
   ]
  },
  {
   "cell_type": "code",
   "execution_count": 3,
   "metadata": {},
   "outputs": [
    {
     "data": {
      "text/html": [
       "<div>\n",
       "<style scoped>\n",
       "    .dataframe tbody tr th:only-of-type {\n",
       "        vertical-align: middle;\n",
       "    }\n",
       "\n",
       "    .dataframe tbody tr th {\n",
       "        vertical-align: top;\n",
       "    }\n",
       "\n",
       "    .dataframe thead th {\n",
       "        text-align: right;\n",
       "    }\n",
       "</style>\n",
       "<table border=\"1\" class=\"dataframe\">\n",
       "  <thead>\n",
       "    <tr style=\"text-align: right;\">\n",
       "      <th></th>\n",
       "      <th>flag</th>\n",
       "    </tr>\n",
       "  </thead>\n",
       "  <tbody>\n",
       "  </tbody>\n",
       "</table>\n",
       "</div>"
      ],
      "text/plain": [
       "Empty DataFrame\n",
       "Columns: [flag]\n",
       "Index: []"
      ]
     },
     "execution_count": 3,
     "metadata": {},
     "output_type": "execute_result"
    }
   ],
   "source": [
    "f = Rule2()\n",
    "f.result"
   ]
  },
  {
   "cell_type": "code",
   "execution_count": null,
   "metadata": {},
   "outputs": [],
   "source": []
  }
 ],
 "metadata": {
  "kernelspec": {
   "display_name": "Python 3",
   "language": "python",
   "name": "python3"
  },
  "language_info": {
   "codemirror_mode": {
    "name": "ipython",
    "version": 3
   },
   "file_extension": ".py",
   "mimetype": "text/x-python",
   "name": "python",
   "nbconvert_exporter": "python",
   "pygments_lexer": "ipython3",
   "version": "3.8.6"
  }
 },
 "nbformat": 4,
 "nbformat_minor": 4
}
