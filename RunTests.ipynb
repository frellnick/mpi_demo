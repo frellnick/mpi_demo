{
 "cells": [
  {
   "cell_type": "code",
   "execution_count": 1,
   "metadata": {},
   "outputs": [],
   "source": [
    "from tests.test_pipeline_sets import run_set, test_ordered_ingest"
   ]
  },
  {
   "cell_type": "code",
   "execution_count": 2,
   "metadata": {},
   "outputs": [
    {
     "data": {
      "text/plain": [
       "[{'name': 'dws_wages-usbe_students-ushe_students-ustc_students',\n",
       "  'count_documents': 29284,\n",
       "  'count_vectors': 29346},\n",
       " {'name': 'dws_wages-usbe_students-ustc_students-ushe_students',\n",
       "  'count_documents': 38659,\n",
       "  'count_vectors': 38735},\n",
       " {'name': 'dws_wages-ushe_students-usbe_students-ustc_students',\n",
       "  'count_documents': 38006,\n",
       "  'count_vectors': 38006},\n",
       " {'name': 'dws_wages-ushe_students-ustc_students-usbe_students',\n",
       "  'count_documents': 38006,\n",
       "  'count_vectors': 38006},\n",
       " {'name': 'dws_wages-ustc_students-usbe_students-ushe_students',\n",
       "  'count_documents': 38617,\n",
       "  'count_vectors': 38617},\n",
       " {'name': 'dws_wages-ustc_students-ushe_students-usbe_students',\n",
       "  'count_documents': 38007,\n",
       "  'count_vectors': 38007},\n",
       " {'name': 'usbe_students-dws_wages-ushe_students-ustc_students',\n",
       "  'count_documents': 38676,\n",
       "  'count_vectors': 38676},\n",
       " {'name': 'usbe_students-dws_wages-ustc_students-ushe_students',\n",
       "  'count_documents': 38659,\n",
       "  'count_vectors': 38704},\n",
       " {'name': 'usbe_students-ushe_students-dws_wages-ustc_students',\n",
       "  'count_documents': 38006,\n",
       "  'count_vectors': 38006},\n",
       " {'name': 'usbe_students-ushe_students-ustc_students-dws_wages',\n",
       "  'count_documents': 37382,\n",
       "  'count_vectors': 37382},\n",
       " {'name': 'usbe_students-ustc_students-dws_wages-ushe_students',\n",
       "  'count_documents': 29284,\n",
       "  'count_vectors': 29346},\n",
       " {'name': 'usbe_students-ustc_students-ushe_students-dws_wages',\n",
       "  'count_documents': 29284,\n",
       "  'count_vectors': 29346},\n",
       " {'name': 'ushe_students-dws_wages-usbe_students-ustc_students',\n",
       "  'count_documents': 38006,\n",
       "  'count_vectors': 38006},\n",
       " {'name': 'ushe_students-dws_wages-ustc_students-usbe_students',\n",
       "  'count_documents': 38006,\n",
       "  'count_vectors': 38006},\n",
       " {'name': 'ushe_students-usbe_students-dws_wages-ustc_students',\n",
       "  'count_documents': 38006,\n",
       "  'count_vectors': 38006},\n",
       " {'name': 'ushe_students-usbe_students-ustc_students-dws_wages',\n",
       "  'count_documents': 37382,\n",
       "  'count_vectors': 37382},\n",
       " {'name': 'ushe_students-ustc_students-dws_wages-usbe_students',\n",
       "  'count_documents': 37382,\n",
       "  'count_vectors': 37382},\n",
       " {'name': 'ushe_students-ustc_students-usbe_students-dws_wages',\n",
       "  'count_documents': 37382,\n",
       "  'count_vectors': 37382},\n",
       " {'name': 'ustc_students-dws_wages-usbe_students-ushe_students',\n",
       "  'count_documents': 38617,\n",
       "  'count_vectors': 38617},\n",
       " {'name': 'ustc_students-dws_wages-ushe_students-usbe_students',\n",
       "  'count_documents': 38007,\n",
       "  'count_vectors': 38007},\n",
       " {'name': 'ustc_students-usbe_students-dws_wages-ushe_students',\n",
       "  'count_documents': 38615,\n",
       "  'count_vectors': 45088},\n",
       " {'name': 'ustc_students-usbe_students-ushe_students-dws_wages',\n",
       "  'count_documents': 29284,\n",
       "  'count_vectors': 29346},\n",
       " {'name': 'ustc_students-ushe_students-dws_wages-usbe_students',\n",
       "  'count_documents': 37382,\n",
       "  'count_vectors': 37382},\n",
       " {'name': 'ustc_students-ushe_students-usbe_students-dws_wages',\n",
       "  'count_documents': 37382,\n",
       "  'count_vectors': 37382}]"
      ]
     },
     "execution_count": 2,
     "metadata": {},
     "output_type": "execute_result"
    }
   ],
   "source": [
    "datasets = ['dws_wages', 'usbe_students', 'ushe_students', 'ustc_students']\n",
    "reports = test_ordered_ingest(datasets=datasets)\n",
    "reports"
   ]
  },
  {
   "cell_type": "code",
   "execution_count": null,
   "metadata": {},
   "outputs": [],
   "source": []
  }
 ],
 "metadata": {
  "kernelspec": {
   "display_name": "Python 3",
   "language": "python",
   "name": "python3"
  },
  "language_info": {
   "codemirror_mode": {
    "name": "ipython",
    "version": 3
   },
   "file_extension": ".py",
   "mimetype": "text/x-python",
   "name": "python",
   "nbconvert_exporter": "python",
   "pygments_lexer": "ipython3",
   "version": "3.8.6"
  }
 },
 "nbformat": 4,
 "nbformat_minor": 4
}
