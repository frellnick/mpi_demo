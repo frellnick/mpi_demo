{
 "cells": [
  {
   "cell_type": "code",
   "execution_count": 1,
   "metadata": {},
   "outputs": [
    {
     "ename": "ImportError",
     "evalue": "cannot import name 'expand_match_to_view' from 'mpi.update' (/mnt/c/Users/vince/Bin/mpi_demo/mpi/update.py)",
     "output_type": "error",
     "traceback": [
      "\u001b[0;31m---------------------------------------------------------------------------\u001b[0m",
      "\u001b[0;31mImportError\u001b[0m                               Traceback (most recent call last)",
      "\u001b[0;32m<ipython-input-1-62cf466a03d6>\u001b[0m in \u001b[0;36m<module>\u001b[0;34m\u001b[0m\n\u001b[0;32m----> 1\u001b[0;31m \u001b[0;32mfrom\u001b[0m \u001b[0mtests\u001b[0m\u001b[0;34m.\u001b[0m\u001b[0mtest_pipeline_sets\u001b[0m \u001b[0;32mimport\u001b[0m \u001b[0mrun_set\u001b[0m\u001b[0;34m,\u001b[0m \u001b[0mtest_ordered_ingest\u001b[0m\u001b[0;34m\u001b[0m\u001b[0;34m\u001b[0m\u001b[0m\n\u001b[0m\u001b[1;32m      2\u001b[0m \u001b[0;32mfrom\u001b[0m \u001b[0mmain\u001b[0m \u001b[0;32mimport\u001b[0m \u001b[0mrun_mpi\u001b[0m\u001b[0;34m\u001b[0m\u001b[0;34m\u001b[0m\u001b[0m\n",
      "\u001b[0;32m/mnt/c/Users/vince/Bin/mpi_demo/tests/test_pipeline_sets.py\u001b[0m in \u001b[0;36m<module>\u001b[0;34m\u001b[0m\n\u001b[1;32m      2\u001b[0m \u001b[0;34m\u001b[0m\u001b[0m\n\u001b[1;32m      3\u001b[0m \u001b[0;32mfrom\u001b[0m \u001b[0mdb\u001b[0m \u001b[0;32mimport\u001b[0m \u001b[0mget_mongo\u001b[0m\u001b[0;34m,\u001b[0m \u001b[0mget_session\u001b[0m\u001b[0;34m\u001b[0m\u001b[0;34m\u001b[0m\u001b[0m\n\u001b[0;32m----> 4\u001b[0;31m \u001b[0;32mfrom\u001b[0m \u001b[0mmain\u001b[0m \u001b[0;32mimport\u001b[0m \u001b[0mrun_mpi\u001b[0m\u001b[0;34m\u001b[0m\u001b[0;34m\u001b[0m\u001b[0m\n\u001b[0m\u001b[1;32m      5\u001b[0m \u001b[0;32mfrom\u001b[0m \u001b[0mmpi\u001b[0m\u001b[0;34m.\u001b[0m\u001b[0mpostprocess\u001b[0m \u001b[0;32mimport\u001b[0m \u001b[0mRule1\u001b[0m\u001b[0;34m,\u001b[0m \u001b[0mRule2\u001b[0m\u001b[0;34m\u001b[0m\u001b[0;34m\u001b[0m\u001b[0m\n\u001b[1;32m      6\u001b[0m \u001b[0;34m\u001b[0m\u001b[0m\n",
      "\u001b[0;32m/mnt/c/Users/vince/Bin/mpi_demo/main.py\u001b[0m in \u001b[0;36m<module>\u001b[0;34m\u001b[0m\n\u001b[1;32m     15\u001b[0m \u001b[0;32mfrom\u001b[0m \u001b[0mmpi\u001b[0m\u001b[0;34m.\u001b[0m\u001b[0mcompare\u001b[0m \u001b[0;32mimport\u001b[0m \u001b[0mbuild_comparator\u001b[0m\u001b[0;34m\u001b[0m\u001b[0;34m\u001b[0m\u001b[0m\n\u001b[1;32m     16\u001b[0m \u001b[0;32mfrom\u001b[0m \u001b[0mmpi\u001b[0m\u001b[0;34m.\u001b[0m\u001b[0mclassify\u001b[0m \u001b[0;32mimport\u001b[0m \u001b[0mbuild_classifier\u001b[0m\u001b[0;34m,\u001b[0m \u001b[0mestimate_true\u001b[0m\u001b[0;34m\u001b[0m\u001b[0;34m\u001b[0m\u001b[0m\n\u001b[0;32m---> 17\u001b[0;31m from mpi.update import (\n\u001b[0m\u001b[1;32m     18\u001b[0m     \u001b[0mgenerate_mpi\u001b[0m\u001b[0;34m,\u001b[0m \u001b[0mexpand_match_to_view\u001b[0m\u001b[0;34m,\u001b[0m \u001b[0mupdate_mpi_vector_table\u001b[0m\u001b[0;34m,\u001b[0m \u001b[0mwrite_mpi_data\u001b[0m\u001b[0;34m,\u001b[0m \u001b[0mgen_mpi_insert\u001b[0m\u001b[0;34m\u001b[0m\u001b[0;34m\u001b[0m\u001b[0m\n\u001b[1;32m     19\u001b[0m )\n",
      "\u001b[0;31mImportError\u001b[0m: cannot import name 'expand_match_to_view' from 'mpi.update' (/mnt/c/Users/vince/Bin/mpi_demo/mpi/update.py)"
     ]
    }
   ],
   "source": [
    "from tests.test_pipeline_sets import run_set, test_ordered_ingest\n",
    "from main import run_mpi"
   ]
  },
  {
   "cell_type": "code",
   "execution_count": null,
   "metadata": {},
   "outputs": [],
   "source": [
    "datasets = ['dws_wages', 'usbe_students', 'ushe_students', 'ustc_students']\n",
    "reports = test_ordered_ingest(datasets=datasets)\n",
    "reports"
   ]
  },
  {
   "cell_type": "code",
   "execution_count": 4,
   "metadata": {},
   "outputs": [],
   "source": [
    "r = run_mpi('usbe_students')\n",
    "# r = run_mpi('ustc_students')"
   ]
  },
  {
   "cell_type": "code",
   "execution_count": 8,
   "metadata": {},
   "outputs": [],
   "source": [
    "from db.common import clear_databases\n",
    "clear_databases()"
   ]
  },
  {
   "cell_type": "code",
   "execution_count": null,
   "metadata": {},
   "outputs": [],
   "source": []
  }
 ],
 "metadata": {
  "kernelspec": {
   "display_name": "Python 3",
   "language": "python",
   "name": "python3"
  },
  "language_info": {
   "codemirror_mode": {
    "name": "ipython",
    "version": 3
   },
   "file_extension": ".py",
   "mimetype": "text/x-python",
   "name": "python",
   "nbconvert_exporter": "python",
   "pygments_lexer": "ipython3",
   "version": "3.8.6"
  }
 },
 "nbformat": 4,
 "nbformat_minor": 4
}
